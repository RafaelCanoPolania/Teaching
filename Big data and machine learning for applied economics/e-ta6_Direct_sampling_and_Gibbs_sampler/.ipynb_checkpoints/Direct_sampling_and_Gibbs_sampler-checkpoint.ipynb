{
 "cells": [
  {
   "cell_type": "markdown",
   "metadata": {},
   "source": [
    "# **Direct sampling and Gibbs sampler**"
   ]
  },
  {
   "cell_type": "code",
   "execution_count": 2,
   "metadata": {},
   "outputs": [],
   "source": [
    "#joblib\n",
    "import pandas as pd\n",
    "import numpy as np\n",
    "import random\n",
    "import matplotlib.pyplot as plt\n",
    "from tqdm import tqdm"
   ]
  },
  {
   "cell_type": "markdown",
   "metadata": {},
   "source": [
    "**Direct sampling**"
   ]
  },
  {
   "cell_type": "markdown",
   "metadata": {},
   "source": [
    "- Let´s say we have the following regression model:\n",
    "    \\begin{align}\n",
    "    y_{i} = \\beta x_{i} + u_{i},{\\ \\ u}_{{i\\ }}\\sim\\ N\\ (0,\\ \\sigma^{2})\n",
    "    \\end{align}\n",
    "- with $\\beta\\sim\\ N\\left( \\beta_{0},\\ \\tau^{2} \\right)$ prior distribution. how can we get posterior mean and equal-tail-probability credible set for $|\\beta|$?"
   ]
  },
  {
   "cell_type": "markdown",
   "metadata": {},
   "source": [
    "- We know that follows a normal distrubution with the following form: \n",
    "\\begin{align}\n",
    "\\beta|Y,X\\ \\sim\\ N\\ (\\frac{\\frac{1}{\\sigma^{2}}\\ \\sum_{i = 1}^{N}{y_{i}x_{i} + \\frac{1}{\\tau^{2}}\\ \\beta_{0}}}{\\frac{1}{\\sigma^{2}}\\ \\sum_{i = 1}^{N}{x_{i}^{2} + \\frac{1}{\\tau^{2}}}} ,\\frac{1}{\\frac{1}{\\sigma^{2}}\\ \\sum_{i = 1}^{N}{x_{i}^{2} + \\frac{1}{\\tau^{2}}}})\n",
    "\\end{align}\n",
    "-Lets asume $\\tau=100$, $\\sigma^{2}$=1, $\\beta_{0}$=0, $\\beta$=-1 and N=200"
   ]
  },
  {
   "cell_type": "markdown",
   "metadata": {},
   "source": [
    "- The first thing we need to do is simulate data of $y_{i}$ and $x_{i}$. To ensure your results are replicated define a random state seed"
   ]
  },
  {
   "cell_type": "code",
   "execution_count": 199,
   "metadata": {},
   "outputs": [],
   "source": [
    "rng = np.random.RandomState(2088888)"
   ]
  },
  {
   "cell_type": "markdown",
   "metadata": {},
   "source": [
    "- Next, use numpy to simulate $x_{i}$ and $u_{i}$"
   ]
  },
  {
   "cell_type": "code",
   "execution_count": 200,
   "metadata": {},
   "outputs": [],
   "source": [
    "X=rng.normal(0, 1, size=(200, 1))\n",
    "u=rng.normal(0, 1, size=(200, 1))"
   ]
  },
  {
   "cell_type": "markdown",
   "metadata": {},
   "source": [
    "- To simulate $y_{i}$ use $x_{i}$, $u_{i}$ and $\\beta$=-1"
   ]
  },
  {
   "cell_type": "code",
   "execution_count": 201,
   "metadata": {},
   "outputs": [],
   "source": [
    "B_real=-1\n",
    "Y=((X)*B_real)+u"
   ]
  },
  {
   "cell_type": "markdown",
   "metadata": {},
   "source": [
    "$\\sum_{i = 1}^{N}$"
   ]
  },
  {
   "cell_type": "markdown",
   "metadata": {},
   "source": [
    "- Let´s define:\n",
    "Z= $\\sum_{i = 1}^{N}$ $y_{i}$ $x_{i}$ and $\\sum_{i = 1}^{N}$ \\ \\{x_{i}^{2}"
   ]
  },
  {
   "cell_type": "code",
   "execution_count": 202,
   "metadata": {},
   "outputs": [],
   "source": [
    "Z=Y.T.dot(X)\n",
    "H=X.T.dot(X)"
   ]
  },
  {
   "cell_type": "markdown",
   "metadata": {},
   "source": [
    "- Replacing $\\tau$, $\\sigma^{2}$ and $\\beta_{0}$ we get:\n",
    "\\begin{align}\n",
    "\\beta|Y,X\\ \\sim\\ N\\ (\\frac{\\sum_{i = 1}^{N}{y_{i}x_{i} }}{\\sum_{i = 1}^{N}{x_{i}^{2} + \\frac{1}{10000}}} ,\\frac{1}{\\sum_{i = 1}^{N}{x_{i}^{2} + \\frac{1}{10000}}})\n",
    "\\end{align}\n",
    "-With this expresion we can simulate $\\beta$"
   ]
  },
  {
   "cell_type": "code",
   "execution_count": 203,
   "metadata": {},
   "outputs": [],
   "source": [
    "mu=(Z)/(H+(1/10000))\n",
    "sigma=(1)/(H+(1/10000))"
   ]
  },
  {
   "cell_type": "code",
   "execution_count": 204,
   "metadata": {},
   "outputs": [],
   "source": [
    "B=rng.normal(mu, sigma, size=(1000, 1))"
   ]
  },
  {
   "cell_type": "code",
   "execution_count": 205,
   "metadata": {},
   "outputs": [
    {
     "data": {
      "text/plain": [
       "-1.0319834982208982"
      ]
     },
     "execution_count": 205,
     "metadata": {},
     "output_type": "execute_result"
    }
   ],
   "source": [
    "B.mean()"
   ]
  },
  {
   "cell_type": "code",
   "execution_count": 206,
   "metadata": {},
   "outputs": [
    {
     "data": {
      "text/plain": [
       "1.0319834982208982"
      ]
     },
     "execution_count": 206,
     "metadata": {},
     "output_type": "execute_result"
    }
   ],
   "source": [
    "abs(B).mean()"
   ]
  },
  {
   "cell_type": "markdown",
   "metadata": {},
   "source": [
    "- As we can see, the estimated values of $|\\beta|$ and $\\beta$ are realy close to the expected values"
   ]
  },
  {
   "cell_type": "code",
   "execution_count": 190,
   "metadata": {},
   "outputs": [
    {
     "data": {
      "image/png": "[encoded data removed]",
      "text/plain": [
       "<Figure size 432x288 with 1 Axes>"
      ]
     },
     "metadata": {
      "needs_background": "light"
     },
     "output_type": "display_data"
    }
   ],
   "source": [
    "fig, ax = plt.subplots()\n",
    "kwargs = dict(histtype=u'step', alpha=0.3,  bins=40)\n",
    "ax.hist(B, **kwargs)\n",
    "\n",
    "\n",
    "fig.savefig(\"histogramas.png\")"
   ]
  },
  {
   "cell_type": "markdown",
   "metadata": {},
   "source": [
    "- How to get the 90\\% equal-tail-probability interval?"
   ]
  },
  {
   "cell_type": "code",
   "execution_count": 208,
   "metadata": {},
   "outputs": [
    {
     "data": {
      "text/plain": [
       "-1.0394009533421218"
      ]
     },
     "execution_count": 208,
     "metadata": {},
     "output_type": "execute_result"
    }
   ],
   "source": [
    "np.quantile(B, 0.05)"
   ]
  },
  {
   "cell_type": "code",
   "execution_count": 209,
   "metadata": {},
   "outputs": [
    {
     "data": {
      "text/plain": [
       "-1.0245718340759258"
      ]
     },
     "execution_count": 209,
     "metadata": {},
     "output_type": "execute_result"
    }
   ],
   "source": [
    "np.quantile(B, 0.95)"
   ]
  },
  {
   "cell_type": "code",
   "execution_count": 230,
   "metadata": {},
   "outputs": [
    {
     "name": "stderr",
     "output_type": "stream",
     "text": [
      "100%|██████████| 8/8 [00:00<00:00, 13.57it/s]\n"
     ]
    }
   ],
   "source": [
    "NS=[1,10,100,1000,10000,100000,1000000,10000000]\n",
    "error=[]\n",
    "for i in tqdm(NS):\n",
    "    X=rng.normal(0, 1, size=(int(i), 1))\n",
    "    u=rng.normal(0, 1, size=(int(i), 1))\n",
    "    B_real=-1\n",
    "    Y=((X)*B_real)+u\n",
    "    Z=Y.T.dot(X)\n",
    "    H=X.T.dot(X)\n",
    "    mu=(Z)/(H+(1/10000))\n",
    "    sigma=(1)/(H+(1/10000))\n",
    "    B=rng.normal(mu, sigma, size=(1000, 1))\n",
    "    er=(-1-B.mean())**2\n",
    "    error.append(er)\n",
    "    \n",
    "    "
   ]
  },
  {
   "cell_type": "code",
   "execution_count": 231,
   "metadata": {},
   "outputs": [],
   "source": [
    "data=pd.DataFrame({'N':NS,'Error':error})"
   ]
  },
  {
   "cell_type": "code",
   "execution_count": 232,
   "metadata": {},
   "outputs": [
    {
     "data": {
      "text/html": [
       "<div>\n",
       "<style scoped>\n",
       "    .dataframe tbody tr th:only-of-type {\n",
       "        vertical-align: middle;\n",
       "    }\n",
       "\n",
       "    .dataframe tbody tr th {\n",
       "        vertical-align: top;\n",
       "    }\n",
       "\n",
       "    .dataframe thead th {\n",
       "        text-align: right;\n",
       "    }\n",
       "</style>\n",
       "<table border=\"1\" class=\"dataframe\">\n",
       "  <thead>\n",
       "    <tr style=\"text-align: right;\">\n",
       "      <th></th>\n",
       "      <th>N</th>\n",
       "      <th>Error</th>\n",
       "    </tr>\n",
       "  </thead>\n",
       "  <tbody>\n",
       "    <tr>\n",
       "      <th>0</th>\n",
       "      <td>1</td>\n",
       "      <td>6.604155e-04</td>\n",
       "    </tr>\n",
       "    <tr>\n",
       "      <th>1</th>\n",
       "      <td>10</td>\n",
       "      <td>7.899307e-03</td>\n",
       "    </tr>\n",
       "    <tr>\n",
       "      <th>2</th>\n",
       "      <td>100</td>\n",
       "      <td>6.515897e-03</td>\n",
       "    </tr>\n",
       "    <tr>\n",
       "      <th>3</th>\n",
       "      <td>1000</td>\n",
       "      <td>8.518381e-04</td>\n",
       "    </tr>\n",
       "    <tr>\n",
       "      <th>4</th>\n",
       "      <td>10000</td>\n",
       "      <td>3.480244e-05</td>\n",
       "    </tr>\n",
       "    <tr>\n",
       "      <th>5</th>\n",
       "      <td>100000</td>\n",
       "      <td>1.329946e-06</td>\n",
       "    </tr>\n",
       "    <tr>\n",
       "      <th>6</th>\n",
       "      <td>1000000</td>\n",
       "      <td>5.845845e-08</td>\n",
       "    </tr>\n",
       "    <tr>\n",
       "      <th>7</th>\n",
       "      <td>10000000</td>\n",
       "      <td>3.659361e-08</td>\n",
       "    </tr>\n",
       "  </tbody>\n",
       "</table>\n",
       "</div>"
      ],
      "text/plain": [
       "          N         Error\n",
       "0         1  6.604155e-04\n",
       "1        10  7.899307e-03\n",
       "2       100  6.515897e-03\n",
       "3      1000  8.518381e-04\n",
       "4     10000  3.480244e-05\n",
       "5    100000  1.329946e-06\n",
       "6   1000000  5.845845e-08\n",
       "7  10000000  3.659361e-08"
      ]
     },
     "execution_count": 232,
     "metadata": {},
     "output_type": "execute_result"
    }
   ],
   "source": [
    "data"
   ]
  },
  {
   "cell_type": "code",
   "execution_count": 228,
   "metadata": {
    "collapsed": true,
    "jupyter": {
     "outputs_hidden": true
    }
   },
   "outputs": [
    {
     "data": {
      "image/png": "[encoded data removed]",
      "text/plain": [
       "<Figure size 432x288 with 1 Axes>"
      ]
     },
     "metadata": {
      "needs_background": "light"
     },
     "output_type": "display_data"
    }
   ],
   "source": [
    "##lineplot https://kieranrcampbell.github.io/blog/2016/05/15/gibbs-sampling-bayesian-linear-regression.html"
   ]
  },
  {
   "cell_type": "markdown",
   "metadata": {},
   "source": [
    "# Gibbs Sampler"
   ]
  },
  {
   "cell_type": "code",
   "execution_count": null,
   "metadata": {},
   "outputs": [],
   "source": [
    "from scipy.stats import invgamma"
   ]
  },
  {
   "cell_type": "code",
   "execution_count": 158,
   "metadata": {},
   "outputs": [],
   "source": [
    "rng = np.random.RandomState(2083)"
   ]
  },
  {
   "cell_type": "code",
   "execution_count": 191,
   "metadata": {},
   "outputs": [],
   "source": [
    "X=rng.normal(0, 1, size=(100, 1))\n",
    "u=rng.normal(0, 1, size=(100, 1))\n",
    "B_real=-1\n",
    "Y=((X)*B_real)+u"
   ]
  },
  {
   "cell_type": "code",
   "execution_count": 211,
   "metadata": {},
   "outputs": [],
   "source": [
    "b0=5\n",
    "a=np.array([[10]])\n",
    "b=np.array([[20]])\n",
    "sigma=1\n",
    "Z=Y.T.dot(X)\n",
    "H=X.T.dot(X)\n",
    "e=(Y-X*b0)**2\n",
    "err=sum(e)"
   ]
  },
  {
   "cell_type": "code",
   "execution_count": 214,
   "metadata": {},
   "outputs": [
    {
     "name": "stderr",
     "output_type": "stream",
     "text": [
      "100%|██████████| 9999/9999 [00:01<00:00, 9521.61it/s]\n"
     ]
    }
   ],
   "source": [
    "betas=[]\n",
    "sigmas=[]\n",
    "iss=[]\n",
    "for i in tqdm(range(1,10000)):\n",
    "    iss.append(i)\n",
    "    a_hat=a+((X.shape[0])/2)\n",
    "    b_hat=1/(b+((1/2)*(err)))\n",
    "    sigma=(np.random.gamma(a_hat,b_hat))**-1\n",
    "    sigmas.append(sigma)\n",
    "    mu=(1/(sigma)*Z+(((1/10000))*b0))/(H+(1/10000))\n",
    "    sigma=(1)/((1/(sigma)*H)+(1/10000))\n",
    "    b0=rng.normal(mu, sigma)\n",
    "    betas.append(b0)\n",
    "    a=((1/sigma)*H)+(1)\n",
    "    b=(-2*Z)+((1)*(b0))\n",
    "    e=(Y-X*b0)**2\n",
    "    err=sum(e)\n",
    "    "
   ]
  },
  {
   "cell_type": "code",
   "execution_count": 218,
   "metadata": {},
   "outputs": [
    {
     "data": {
      "text/plain": [
       "9999"
      ]
     },
     "execution_count": 218,
     "metadata": {},
     "output_type": "execute_result"
    }
   ],
   "source": [
    "len(sigmas)"
   ]
  },
  {
   "cell_type": "code",
   "execution_count": null,
   "metadata": {},
   "outputs": [],
   "source": []
  }
 ],
 "metadata": {
  "kernelspec": {
   "display_name": "Python 3",
   "language": "python",
   "name": "python3"
  },
  "language_info": {
   "codemirror_mode": {
    "name": "ipython",
    "version": 3
   },
   "file_extension": ".py",
   "mimetype": "text/x-python",
   "name": "python",
   "nbconvert_exporter": "python",
   "pygments_lexer": "ipython3",
   "version": "3.8.3"
  }
 },
 "nbformat": 4,
 "nbformat_minor": 4
}
