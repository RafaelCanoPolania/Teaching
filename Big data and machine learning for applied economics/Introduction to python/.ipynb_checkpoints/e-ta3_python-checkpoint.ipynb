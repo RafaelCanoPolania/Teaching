{
 "cells": [
  {
   "cell_type": "markdown",
   "metadata": {},
   "source": [
    "# **Introducción a Python**"
   ]
  },
  {
   "cell_type": "markdown",
   "metadata": {},
   "source": [
    "- Una de las multiples maneras de acceder a python es mediante Anaconda, donde se puede obtener algunas interfaces para manejar este programa. [vinculo para descargar anaconda](https://www.anaconda.com/products/individual)"
   ]
  },
  {
   "cell_type": "code",
   "execution_count": 9,
   "metadata": {},
   "outputs": [],
   "source": [
    "import pandas as pd\n",
    "import numpy as np"
   ]
  },
  {
   "cell_type": "markdown",
   "metadata": {},
   "source": [
    "## **Instalación de paquetes**"
   ]
  },
  {
   "cell_type": "markdown",
   "metadata": {},
   "source": [
    "- La instalación de paquetes en python se puede realizar de multiples maneras. La más sencilla de estas es a través del comando \"pip install nombre_paquete\"."
   ]
  },
  {
   "cell_type": "markdown",
   "metadata": {},
   "source": [
    "## **Numpy (Manejo de marices)**"
   ]
  },
  {
   "cell_type": "markdown",
   "metadata": {},
   "source": [
    "- Definición de vectores como numpy arrays"
   ]
  },
  {
   "cell_type": "code",
   "execution_count": 4,
   "metadata": {},
   "outputs": [
    {
     "data": {
      "text/plain": [
       "array([1., 1., 1.])"
      ]
     },
     "execution_count": 4,
     "metadata": {},
     "output_type": "execute_result"
    }
   ],
   "source": [
    "dato=np.array([1,2,3]) ##definir un vector\n",
    "dato1=np.arange(2, 10) ##definir un vector con números del 2 al 10\n",
    "v2 = np.ones(3)\n",
    "v2"
   ]
  },
  {
   "cell_type": "markdown",
   "metadata": {},
   "source": [
    "- Operaciones con vectores"
   ]
  },
  {
   "cell_type": "code",
   "execution_count": 17,
   "metadata": {},
   "outputs": [],
   "source": [
    "##sumas de vectores\n",
    "a = np.array([2, 6, 9, 10])\n",
    "b = np.array([2, 4, 9, 11])\n",
    "c=a+b\n"
   ]
  },
  {
   "cell_type": "code",
   "execution_count": 24,
   "metadata": {},
   "outputs": [
    {
     "data": {
      "text/plain": [
       "array([ 0,  2,  0, -1])"
      ]
     },
     "execution_count": 24,
     "metadata": {},
     "output_type": "execute_result"
    }
   ],
   "source": [
    "##resta de vectores\n",
    "a-b"
   ]
  },
  {
   "cell_type": "code",
   "execution_count": 25,
   "metadata": {},
   "outputs": [
    {
     "data": {
      "text/plain": [
       "array([ 6, 12, 27, 33])"
      ]
     },
     "execution_count": 25,
     "metadata": {},
     "output_type": "execute_result"
    }
   ],
   "source": [
    "##Multiplicación de vectores por un escalar\n",
    "3*b"
   ]
  },
  {
   "cell_type": "code",
   "execution_count": 26,
   "metadata": {},
   "outputs": [
    {
     "data": {
      "text/plain": [
       "219"
      ]
     },
     "execution_count": 26,
     "metadata": {},
     "output_type": "execute_result"
    }
   ],
   "source": [
    "##producto scalar\n",
    "np.dot(a,b)"
   ]
  },
  {
   "cell_type": "markdown",
   "metadata": {},
   "source": [
    "- Definición de matrices como numpy arrays"
   ]
  },
  {
   "cell_type": "code",
   "execution_count": 18,
   "metadata": {},
   "outputs": [
    {
     "data": {
      "text/plain": [
       "array([[5, 3],\n",
       "       [1, 0]])"
      ]
     },
     "execution_count": 18,
     "metadata": {},
     "output_type": "execute_result"
    }
   ],
   "source": [
    "c = np.array([[5, 3],\n",
    "              [1, 0]])\n",
    "\n",
    "d = np.array([[1, 0],\n",
    "              [7, 5]])\n",
    "c"
   ]
  },
  {
   "cell_type": "code",
   "execution_count": null,
   "metadata": {},
   "outputs": [],
   "source": [
    "identidad=np.eye(3) ##crear matriz identidad 3*3\n",
    "diagonal=np.diag([1, 2, 3]) ##definir matriz 3*3 con diagonal definida\n",
    "ceros=np.zeros((2, 3)) ## matriz de ceros 2*3"
   ]
  },
  {
   "cell_type": "markdown",
   "metadata": {},
   "source": [
    "- Operaciones de matrices"
   ]
  },
  {
   "cell_type": "code",
   "execution_count": 23,
   "metadata": {},
   "outputs": [
    {
     "data": {
      "text/plain": [
       "array([[6, 3],\n",
       "       [8, 5]])"
      ]
     },
     "execution_count": 23,
     "metadata": {},
     "output_type": "execute_result"
    }
   ],
   "source": [
    "##sumas de matrices\n",
    "c+d"
   ]
  },
  {
   "cell_type": "code",
   "execution_count": 24,
   "metadata": {},
   "outputs": [
    {
     "data": {
      "text/plain": [
       "array([[26, 15],\n",
       "       [ 1,  0]])"
      ]
     },
     "execution_count": 24,
     "metadata": {},
     "output_type": "execute_result"
    }
   ],
   "source": [
    "## Multiplicación de matrices\n",
    "c.dot(d)\n",
    "##np.dot(c,d)"
   ]
  },
  {
   "cell_type": "code",
   "execution_count": 25,
   "metadata": {},
   "outputs": [
    {
     "data": {
      "text/plain": [
       "(2, 2)"
      ]
     },
     "execution_count": 25,
     "metadata": {},
     "output_type": "execute_result"
    }
   ],
   "source": [
    "## Imprimir dimensiones de una matriz\n",
    "c.shape"
   ]
  },
  {
   "cell_type": "code",
   "execution_count": 26,
   "metadata": {},
   "outputs": [
    {
     "data": {
      "text/plain": [
       "4"
      ]
     },
     "execution_count": 26,
     "metadata": {},
     "output_type": "execute_result"
    }
   ],
   "source": [
    "##elementos totales de una matriz\n",
    "c.size"
   ]
  },
  {
   "cell_type": "code",
   "execution_count": 27,
   "metadata": {},
   "outputs": [
    {
     "data": {
      "text/plain": [
       "array([[ 1.11022302e-17,  1.00000000e+00],\n",
       "       [ 3.33333333e-01, -1.66666667e+00]])"
      ]
     },
     "execution_count": 27,
     "metadata": {},
     "output_type": "execute_result"
    }
   ],
   "source": [
    "##inversa de una matriz\n",
    "np.linalg.inv(c)"
   ]
  },
  {
   "cell_type": "code",
   "execution_count": 28,
   "metadata": {},
   "outputs": [
    {
     "data": {
      "text/plain": [
       "4.999999999999998"
      ]
     },
     "execution_count": 28,
     "metadata": {},
     "output_type": "execute_result"
    }
   ],
   "source": [
    "## Determinante de una matriz\n",
    "np.linalg.det(d)"
   ]
  },
  {
   "cell_type": "code",
   "execution_count": 29,
   "metadata": {},
   "outputs": [
    {
     "data": {
      "text/plain": [
       "array([[5, 1],\n",
       "       [3, 0]])"
      ]
     },
     "execution_count": 29,
     "metadata": {},
     "output_type": "execute_result"
    }
   ],
   "source": [
    "## Traspuesta de una matriz\n",
    "##c.T\n",
    "np.transpose(c)"
   ]
  },
  {
   "cell_type": "markdown",
   "metadata": {
    "tags": []
   },
   "source": [
    "### **¿Cómo calcular MCO con numpy?**"
   ]
  },
  {
   "cell_type": "markdown",
   "metadata": {
    "tags": []
   },
   "source": [
    "- Para esto primero vamos a simular los datos de nuestras variables dependientes e independientes. Para esto debemos instalar la libreria random"
   ]
  },
  {
   "cell_type": "code",
   "execution_count": 18,
   "metadata": {
    "tags": []
   },
   "outputs": [],
   "source": [
    "import random"
   ]
  },
  {
   "cell_type": "code",
   "execution_count": 32,
   "metadata": {
    "tags": []
   },
   "outputs": [],
   "source": [
    "## Definimos una semilla para que nuestros resultados sean replicables\n",
    "np.random.seed(9876789)"
   ]
  },
  {
   "cell_type": "markdown",
   "metadata": {
    "tags": []
   },
   "source": [
    "- Ahora vamos a simular las variables, de distribuciones normales con mu y sigmas definidos, y agregar un vector de unos para calcular el intercepto. "
   ]
  },
  {
   "cell_type": "code",
   "execution_count": 49,
   "metadata": {
    "tags": []
   },
   "outputs": [],
   "source": [
    "X=np.random.normal(3, 2.5, size=(7000, 9))\n",
    "Y=np.random.normal(40, 250, size=(7000, 1))\n",
    "v = np.ones((7000, 1))\n",
    "X1 = np.c_[v, X]"
   ]
  },
  {
   "cell_type": "markdown",
   "metadata": {
    "tags": []
   },
   "source": [
    "- Teniendo ya nuestra data simulada podemos aplicar la expresión analítica de los estimadores de MCO\n",
    "\\begin{equation}\n",
    "\\hat{\\beta}=(X'X)^{-1}X'y\n",
    "\\end{equation}"
   ]
  },
  {
   "cell_type": "code",
   "execution_count": 50,
   "metadata": {
    "tags": []
   },
   "outputs": [],
   "source": [
    "beta_estimados = (np.linalg.inv(X1.T.dot(X1))).dot(X1.T.dot(Y))"
   ]
  },
  {
   "cell_type": "code",
   "execution_count": 51,
   "metadata": {
    "tags": []
   },
   "outputs": [
    {
     "data": {
      "text/plain": [
       "array([[35.05108084],\n",
       "       [-0.24294684],\n",
       "       [ 0.65479819],\n",
       "       [-0.17125465],\n",
       "       [-1.07571486],\n",
       "       [-1.64156742],\n",
       "       [ 0.86446528],\n",
       "       [ 0.93448394],\n",
       "       [ 0.85726027],\n",
       "       [ 0.21346173]])"
      ]
     },
     "execution_count": 51,
     "metadata": {},
     "output_type": "execute_result"
    }
   ],
   "source": [
    "beta_estimados"
   ]
  },
  {
   "cell_type": "markdown",
   "metadata": {
    "tags": []
   },
   "source": [
    "- Podemos verificar este resultado con diferentes librerias que ya tienen dentro de ellas funciones para calcular los estimadores de MCO, en este caso lo haremos como la libreria [Spreg.ols](https://spreg.readthedocs.io/en/latest/generated/spreg.OLS.html)"
   ]
  },
  {
   "cell_type": "code",
   "execution_count": 145,
   "metadata": {
    "tags": []
   },
   "outputs": [
    {
     "name": "stdout",
     "output_type": "stream",
     "text": [
      "Note: you may need to restart the kernel to use updated packages.\n"
     ]
    },
    {
     "name": "stderr",
     "output_type": "stream",
     "text": [
      "ERROR: Could not find a version that satisfies the requirement spreg.OLS (from versions: none)\n",
      "ERROR: No matching distribution found for spreg.OLS\n"
     ]
    }
   ],
   "source": [
    "pip install spreg.OLS"
   ]
  },
  {
   "cell_type": "code",
   "execution_count": 52,
   "metadata": {
    "tags": []
   },
   "outputs": [
    {
     "data": {
      "text/plain": [
       "array([[35.05108084],\n",
       "       [-0.24294684],\n",
       "       [ 0.65479819],\n",
       "       [-0.17125465],\n",
       "       [-1.07571486],\n",
       "       [-1.64156742],\n",
       "       [ 0.86446528],\n",
       "       [ 0.93448394],\n",
       "       [ 0.85726027],\n",
       "       [ 0.21346173]])"
      ]
     },
     "execution_count": 52,
     "metadata": {},
     "output_type": "execute_result"
    }
   ],
   "source": [
    "from spreg import OLS\n",
    "ols=OLS(Y, X1)\n",
    "ols.betas"
   ]
  },
  {
   "cell_type": "code",
   "execution_count": 53,
   "metadata": {
    "collapsed": true,
    "jupyter": {
     "outputs_hidden": true
    },
    "tags": []
   },
   "outputs": [
    {
     "name": "stdout",
     "output_type": "stream",
     "text": [
      "REGRESSION\n",
      "----------\n",
      "SUMMARY OF OUTPUT: ORDINARY LEAST SQUARES\n",
      "-----------------------------------------\n",
      "Data set            :     unknown\n",
      "Weights matrix      :        None\n",
      "Dependent Variable  :     dep_var                Number of Observations:        7000\n",
      "Mean dependent var  :     36.3666                Number of Variables   :          10\n",
      "S.D. dependent var  :    251.5773                Degrees of Freedom    :        6990\n",
      "R-squared           :      0.0007\n",
      "Adjusted R-squared  :     -0.0006\n",
      "Sum squared residual:442682355.377                F-statistic           :      0.5128\n",
      "Sigma-square        :   63330.809                Prob(F-statistic)     :      0.8665\n",
      "S.E. of regression  :     251.656                Log likelihood        :  -48624.011\n",
      "Sigma-square ML     :   63240.336                Akaike info criterion :   97268.023\n",
      "S.E of regression ML:    251.4763                Schwarz criterion     :   97336.559\n",
      "\n",
      "------------------------------------------------------------------------------------\n",
      "            Variable     Coefficient       Std.Error     t-Statistic     Probability\n",
      "------------------------------------------------------------------------------------\n",
      "            CONSTANT      35.0510808      11.2599339       3.1129029       0.0018600\n",
      "               var_1      -0.2429468       1.2156946      -0.1998420       0.8416100\n",
      "               var_2       0.6547982       1.2061414       0.5428868       0.5872251\n",
      "               var_3      -0.1712547       1.1872226      -0.1442481       0.8853087\n",
      "               var_4      -1.0757149       1.2044647      -0.8931062       0.3718311\n",
      "               var_5      -1.6415674       1.1981245      -1.3701142       0.1706953\n",
      "               var_6       0.8644653       1.2144026       0.7118441       0.4765851\n",
      "               var_7       0.9344839       1.1955210       0.7816541       0.4344443\n",
      "               var_8       0.8572603       1.1936583       0.7181789       0.4726710\n",
      "               var_9       0.2134617       1.1990665       0.1780233       0.8587099\n",
      "------------------------------------------------------------------------------------\n",
      "Warning: One variable has been removed for being constant.\n",
      "\n",
      "REGRESSION DIAGNOSTICS\n",
      "MULTICOLLINEARITY CONDITION NUMBER           10.423\n",
      "\n",
      "TEST ON NORMALITY OF ERRORS\n",
      "TEST                             DF        VALUE           PROB\n",
      "Jarque-Bera                       2           1.696           0.4282\n",
      "\n",
      "DIAGNOSTICS FOR HETEROSKEDASTICITY\n",
      "RANDOM COEFFICIENTS\n",
      "TEST                             DF        VALUE           PROB\n",
      "Breusch-Pagan test                9          14.049           0.1206\n",
      "Koenker-Bassett test              9          13.538           0.1397\n",
      "================================ END OF REPORT =====================================\n"
     ]
    }
   ],
   "source": [
    "print(ols.summary)"
   ]
  },
  {
   "cell_type": "markdown",
   "metadata": {},
   "source": [
    "## **Listas**"
   ]
  },
  {
   "cell_type": "code",
   "execution_count": 59,
   "metadata": {},
   "outputs": [],
   "source": [
    "ff=lista[2:4]"
   ]
  },
  {
   "cell_type": "code",
   "execution_count": 33,
   "metadata": {},
   "outputs": [],
   "source": [
    "##string\n",
    "ff='456'"
   ]
  },
  {
   "cell_type": "code",
   "execution_count": 43,
   "metadata": {},
   "outputs": [],
   "source": [
    "lista=['Rafael','Ignacio','Eduard']"
   ]
  },
  {
   "cell_type": "code",
   "execution_count": 30,
   "metadata": {},
   "outputs": [],
   "source": [
    "lista=[1,3,4,5,3]"
   ]
  },
  {
   "cell_type": "code",
   "execution_count": 68,
   "metadata": {},
   "outputs": [],
   "source": [
    "lista=[1,3,4,5,3]\n",
    "#lista['Rafael','andres'] lista compuesta de strings"
   ]
  },
  {
   "cell_type": "code",
   "execution_count": 40,
   "metadata": {
    "tags": []
   },
   "outputs": [
    {
     "data": {
      "text/plain": [
       "3"
      ]
     },
     "execution_count": 40,
     "metadata": {},
     "output_type": "execute_result"
    }
   ],
   "source": [
    "len(lista)\n",
    "##lista[1:3]\n",
    "##lista[-1] ultimo elemento de la lista"
   ]
  },
  {
   "cell_type": "code",
   "execution_count": 41,
   "metadata": {
    "tags": []
   },
   "outputs": [],
   "source": [
    "lista.remove(lista[1]) ## Es analogo a lista.pop(1)"
   ]
  },
  {
   "cell_type": "code",
   "execution_count": 45,
   "metadata": {},
   "outputs": [],
   "source": [
    "import random"
   ]
  },
  {
   "cell_type": "code",
   "execution_count": 46,
   "metadata": {},
   "outputs": [],
   "source": [
    "random.shuffle(lista) ##organiza aleatoriamente la lista"
   ]
  },
  {
   "cell_type": "code",
   "execution_count": 47,
   "metadata": {},
   "outputs": [
    {
     "data": {
      "text/plain": [
       "['Rafael', 'Eduard', 'Ignacio']"
      ]
     },
     "execution_count": 47,
     "metadata": {},
     "output_type": "execute_result"
    }
   ],
   "source": [
    "lista"
   ]
  },
  {
   "cell_type": "code",
   "execution_count": 48,
   "metadata": {},
   "outputs": [],
   "source": [
    "lista.append('Camila')"
   ]
  },
  {
   "cell_type": "code",
   "execution_count": 49,
   "metadata": {},
   "outputs": [
    {
     "data": {
      "text/plain": [
       "['Rafael', 'Eduard', 'Ignacio', 'Camila']"
      ]
     },
     "execution_count": 49,
     "metadata": {},
     "output_type": "execute_result"
    }
   ],
   "source": [
    "lista"
   ]
  },
  {
   "cell_type": "code",
   "execution_count": 50,
   "metadata": {
    "tags": []
   },
   "outputs": [
    {
     "data": {
      "text/html": [
       "<div>\n",
       "<style scoped>\n",
       "    .dataframe tbody tr th:only-of-type {\n",
       "        vertical-align: middle;\n",
       "    }\n",
       "\n",
       "    .dataframe tbody tr th {\n",
       "        vertical-align: top;\n",
       "    }\n",
       "\n",
       "    .dataframe thead th {\n",
       "        text-align: right;\n",
       "    }\n",
       "</style>\n",
       "<table border=\"1\" class=\"dataframe\">\n",
       "  <thead>\n",
       "    <tr style=\"text-align: right;\">\n",
       "      <th></th>\n",
       "      <th>0</th>\n",
       "    </tr>\n",
       "  </thead>\n",
       "  <tbody>\n",
       "    <tr>\n",
       "      <th>0</th>\n",
       "      <td>Rafael</td>\n",
       "    </tr>\n",
       "    <tr>\n",
       "      <th>1</th>\n",
       "      <td>Eduard</td>\n",
       "    </tr>\n",
       "    <tr>\n",
       "      <th>2</th>\n",
       "      <td>Ignacio</td>\n",
       "    </tr>\n",
       "    <tr>\n",
       "      <th>3</th>\n",
       "      <td>Camila</td>\n",
       "    </tr>\n",
       "  </tbody>\n",
       "</table>\n",
       "</div>"
      ],
      "text/plain": [
       "         0\n",
       "0   Rafael\n",
       "1   Eduard\n",
       "2  Ignacio\n",
       "3   Camila"
      ]
     },
     "execution_count": 50,
     "metadata": {},
     "output_type": "execute_result"
    }
   ],
   "source": [
    "pd.DataFrame(lista)"
   ]
  },
  {
   "cell_type": "markdown",
   "metadata": {},
   "source": [
    "## **Pandas**"
   ]
  },
  {
   "cell_type": "markdown",
   "metadata": {},
   "source": [
    "**Importar bases de datos**\n",
    "- Datos sacados de [kaggle](https://www.kaggle.com/c/house-prices-advanced-regression-techniques/data?select=train.csv)"
   ]
  },
  {
   "cell_type": "code",
   "execution_count": 10,
   "metadata": {},
   "outputs": [],
   "source": [
    "data=pd.read_csv('train.csv')\n",
    "##data=pd.read_excel('nombre archivo.xlsx', sheet_name='pagina1') para leer una página de un archivo de excel, si es solo una página se borra el \"sheet_name\"\n",
    "##data=pd.read_pickle('nobre archivo.pkl') para leer archivos tipo pickle\n"
   ]
  },
  {
   "cell_type": "markdown",
   "metadata": {},
   "source": [
    "**Visualización bases de datos**"
   ]
  },
  {
   "cell_type": "code",
   "execution_count": 73,
   "metadata": {},
   "outputs": [
    {
     "data": {
      "text/html": [
       "<div>\n",
       "<style scoped>\n",
       "    .dataframe tbody tr th:only-of-type {\n",
       "        vertical-align: middle;\n",
       "    }\n",
       "\n",
       "    .dataframe tbody tr th {\n",
       "        vertical-align: top;\n",
       "    }\n",
       "\n",
       "    .dataframe thead th {\n",
       "        text-align: right;\n",
       "    }\n",
       "</style>\n",
       "<table border=\"1\" class=\"dataframe\">\n",
       "  <thead>\n",
       "    <tr style=\"text-align: right;\">\n",
       "      <th></th>\n",
       "      <th>Id</th>\n",
       "      <th>MSSubClass</th>\n",
       "      <th>MSZoning</th>\n",
       "      <th>LotFrontage</th>\n",
       "      <th>LotArea</th>\n",
       "      <th>Street</th>\n",
       "      <th>Alley</th>\n",
       "      <th>LotShape</th>\n",
       "      <th>LandContour</th>\n",
       "      <th>Utilities</th>\n",
       "      <th>...</th>\n",
       "      <th>PoolArea</th>\n",
       "      <th>PoolQC</th>\n",
       "      <th>Fence</th>\n",
       "      <th>MiscFeature</th>\n",
       "      <th>MiscVal</th>\n",
       "      <th>MoSold</th>\n",
       "      <th>YrSold</th>\n",
       "      <th>SaleType</th>\n",
       "      <th>SaleCondition</th>\n",
       "      <th>SalePrice</th>\n",
       "    </tr>\n",
       "  </thead>\n",
       "  <tbody>\n",
       "    <tr>\n",
       "      <th>0</th>\n",
       "      <td>1</td>\n",
       "      <td>60</td>\n",
       "      <td>RL</td>\n",
       "      <td>65.0</td>\n",
       "      <td>8450</td>\n",
       "      <td>Pave</td>\n",
       "      <td>NaN</td>\n",
       "      <td>Reg</td>\n",
       "      <td>Lvl</td>\n",
       "      <td>AllPub</td>\n",
       "      <td>...</td>\n",
       "      <td>0</td>\n",
       "      <td>NaN</td>\n",
       "      <td>NaN</td>\n",
       "      <td>NaN</td>\n",
       "      <td>0</td>\n",
       "      <td>2</td>\n",
       "      <td>2008</td>\n",
       "      <td>WD</td>\n",
       "      <td>Normal</td>\n",
       "      <td>208500</td>\n",
       "    </tr>\n",
       "    <tr>\n",
       "      <th>1</th>\n",
       "      <td>2</td>\n",
       "      <td>20</td>\n",
       "      <td>RL</td>\n",
       "      <td>80.0</td>\n",
       "      <td>9600</td>\n",
       "      <td>Pave</td>\n",
       "      <td>NaN</td>\n",
       "      <td>Reg</td>\n",
       "      <td>Lvl</td>\n",
       "      <td>AllPub</td>\n",
       "      <td>...</td>\n",
       "      <td>0</td>\n",
       "      <td>NaN</td>\n",
       "      <td>NaN</td>\n",
       "      <td>NaN</td>\n",
       "      <td>0</td>\n",
       "      <td>5</td>\n",
       "      <td>2007</td>\n",
       "      <td>WD</td>\n",
       "      <td>Normal</td>\n",
       "      <td>181500</td>\n",
       "    </tr>\n",
       "    <tr>\n",
       "      <th>2</th>\n",
       "      <td>3</td>\n",
       "      <td>60</td>\n",
       "      <td>RL</td>\n",
       "      <td>68.0</td>\n",
       "      <td>11250</td>\n",
       "      <td>Pave</td>\n",
       "      <td>NaN</td>\n",
       "      <td>IR1</td>\n",
       "      <td>Lvl</td>\n",
       "      <td>AllPub</td>\n",
       "      <td>...</td>\n",
       "      <td>0</td>\n",
       "      <td>NaN</td>\n",
       "      <td>NaN</td>\n",
       "      <td>NaN</td>\n",
       "      <td>0</td>\n",
       "      <td>9</td>\n",
       "      <td>2008</td>\n",
       "      <td>WD</td>\n",
       "      <td>Normal</td>\n",
       "      <td>223500</td>\n",
       "    </tr>\n",
       "    <tr>\n",
       "      <th>3</th>\n",
       "      <td>4</td>\n",
       "      <td>70</td>\n",
       "      <td>RL</td>\n",
       "      <td>60.0</td>\n",
       "      <td>9550</td>\n",
       "      <td>Pave</td>\n",
       "      <td>NaN</td>\n",
       "      <td>IR1</td>\n",
       "      <td>Lvl</td>\n",
       "      <td>AllPub</td>\n",
       "      <td>...</td>\n",
       "      <td>0</td>\n",
       "      <td>NaN</td>\n",
       "      <td>NaN</td>\n",
       "      <td>NaN</td>\n",
       "      <td>0</td>\n",
       "      <td>2</td>\n",
       "      <td>2006</td>\n",
       "      <td>WD</td>\n",
       "      <td>Abnorml</td>\n",
       "      <td>140000</td>\n",
       "    </tr>\n",
       "    <tr>\n",
       "      <th>4</th>\n",
       "      <td>5</td>\n",
       "      <td>60</td>\n",
       "      <td>RL</td>\n",
       "      <td>84.0</td>\n",
       "      <td>14260</td>\n",
       "      <td>Pave</td>\n",
       "      <td>NaN</td>\n",
       "      <td>IR1</td>\n",
       "      <td>Lvl</td>\n",
       "      <td>AllPub</td>\n",
       "      <td>...</td>\n",
       "      <td>0</td>\n",
       "      <td>NaN</td>\n",
       "      <td>NaN</td>\n",
       "      <td>NaN</td>\n",
       "      <td>0</td>\n",
       "      <td>12</td>\n",
       "      <td>2008</td>\n",
       "      <td>WD</td>\n",
       "      <td>Normal</td>\n",
       "      <td>250000</td>\n",
       "    </tr>\n",
       "  </tbody>\n",
       "</table>\n",
       "<p>5 rows × 81 columns</p>\n",
       "</div>"
      ],
      "text/plain": [
       "   Id  MSSubClass MSZoning  LotFrontage  LotArea Street Alley LotShape  \\\n",
       "0   1          60       RL         65.0     8450   Pave   NaN      Reg   \n",
       "1   2          20       RL         80.0     9600   Pave   NaN      Reg   \n",
       "2   3          60       RL         68.0    11250   Pave   NaN      IR1   \n",
       "3   4          70       RL         60.0     9550   Pave   NaN      IR1   \n",
       "4   5          60       RL         84.0    14260   Pave   NaN      IR1   \n",
       "\n",
       "  LandContour Utilities  ... PoolArea PoolQC Fence MiscFeature MiscVal MoSold  \\\n",
       "0         Lvl    AllPub  ...        0    NaN   NaN         NaN       0      2   \n",
       "1         Lvl    AllPub  ...        0    NaN   NaN         NaN       0      5   \n",
       "2         Lvl    AllPub  ...        0    NaN   NaN         NaN       0      9   \n",
       "3         Lvl    AllPub  ...        0    NaN   NaN         NaN       0      2   \n",
       "4         Lvl    AllPub  ...        0    NaN   NaN         NaN       0     12   \n",
       "\n",
       "  YrSold  SaleType  SaleCondition  SalePrice  \n",
       "0   2008        WD         Normal     208500  \n",
       "1   2007        WD         Normal     181500  \n",
       "2   2008        WD         Normal     223500  \n",
       "3   2006        WD        Abnorml     140000  \n",
       "4   2008        WD         Normal     250000  \n",
       "\n",
       "[5 rows x 81 columns]"
      ]
     },
     "execution_count": 73,
     "metadata": {},
     "output_type": "execute_result"
    }
   ],
   "source": [
    "data.head() ## muestra las primeras 5 filas de la base de datos\n",
    "##data.tail() muestra las ultimas 5 filas\n",
    "##data.columns muestra el nombre de todas las columnas de la base de datos"
   ]
  },
  {
   "cell_type": "markdown",
   "metadata": {},
   "source": [
    "**¿Cómo ver las dimensiones de la base de datos?**"
   ]
  },
  {
   "cell_type": "code",
   "execution_count": 56,
   "metadata": {},
   "outputs": [
    {
     "data": {
      "text/plain": [
       "(1460, 81)"
      ]
     },
     "execution_count": 56,
     "metadata": {},
     "output_type": "execute_result"
    }
   ],
   "source": [
    "data.shape"
   ]
  },
  {
   "cell_type": "markdown",
   "metadata": {},
   "source": [
    "**Sintaxis para crear una nueva columna a partir de otras columnas**"
   ]
  },
  {
   "cell_type": "code",
   "execution_count": 14,
   "metadata": {},
   "outputs": [],
   "source": [
    "data['precio_m2']=data['SalePrice']/data['LotArea']"
   ]
  },
  {
   "cell_type": "markdown",
   "metadata": {},
   "source": [
    "**Cortes en la base de datos**\n",
    "1. Cortes por filas\n",
    "2. Cortes por columnas\n",
    "3. Cortes por una condición dada\n",
    "4. Tomar un dato de una columna y fila específica\n"
   ]
  },
  {
   "cell_type": "code",
   "execution_count": 61,
   "metadata": {
    "tags": []
   },
   "outputs": [],
   "source": [
    "data[20:100] ##muestra unicamente los primeros 100 registros"
   ]
  },
  {
   "cell_type": "code",
   "execution_count": 64,
   "metadata": {
    "tags": []
   },
   "outputs": [
    {
     "data": {
      "text/html": [
       "<div>\n",
       "<style scoped>\n",
       "    .dataframe tbody tr th:only-of-type {\n",
       "        vertical-align: middle;\n",
       "    }\n",
       "\n",
       "    .dataframe tbody tr th {\n",
       "        vertical-align: top;\n",
       "    }\n",
       "\n",
       "    .dataframe thead th {\n",
       "        text-align: right;\n",
       "    }\n",
       "</style>\n",
       "<table border=\"1\" class=\"dataframe\">\n",
       "  <thead>\n",
       "    <tr style=\"text-align: right;\">\n",
       "      <th></th>\n",
       "      <th>SalePrice</th>\n",
       "      <th>LotArea</th>\n",
       "      <th>precio_m2</th>\n",
       "    </tr>\n",
       "  </thead>\n",
       "  <tbody>\n",
       "    <tr>\n",
       "      <th>0</th>\n",
       "      <td>208500</td>\n",
       "      <td>8450</td>\n",
       "      <td>24.674556</td>\n",
       "    </tr>\n",
       "    <tr>\n",
       "      <th>1</th>\n",
       "      <td>181500</td>\n",
       "      <td>9600</td>\n",
       "      <td>18.906250</td>\n",
       "    </tr>\n",
       "    <tr>\n",
       "      <th>2</th>\n",
       "      <td>223500</td>\n",
       "      <td>11250</td>\n",
       "      <td>19.866667</td>\n",
       "    </tr>\n",
       "    <tr>\n",
       "      <th>3</th>\n",
       "      <td>140000</td>\n",
       "      <td>9550</td>\n",
       "      <td>14.659686</td>\n",
       "    </tr>\n",
       "    <tr>\n",
       "      <th>4</th>\n",
       "      <td>250000</td>\n",
       "      <td>14260</td>\n",
       "      <td>17.531557</td>\n",
       "    </tr>\n",
       "    <tr>\n",
       "      <th>...</th>\n",
       "      <td>...</td>\n",
       "      <td>...</td>\n",
       "      <td>...</td>\n",
       "    </tr>\n",
       "    <tr>\n",
       "      <th>1455</th>\n",
       "      <td>175000</td>\n",
       "      <td>7917</td>\n",
       "      <td>22.104332</td>\n",
       "    </tr>\n",
       "    <tr>\n",
       "      <th>1456</th>\n",
       "      <td>210000</td>\n",
       "      <td>13175</td>\n",
       "      <td>15.939279</td>\n",
       "    </tr>\n",
       "    <tr>\n",
       "      <th>1457</th>\n",
       "      <td>266500</td>\n",
       "      <td>9042</td>\n",
       "      <td>29.473568</td>\n",
       "    </tr>\n",
       "    <tr>\n",
       "      <th>1458</th>\n",
       "      <td>142125</td>\n",
       "      <td>9717</td>\n",
       "      <td>14.626428</td>\n",
       "    </tr>\n",
       "    <tr>\n",
       "      <th>1459</th>\n",
       "      <td>147500</td>\n",
       "      <td>9937</td>\n",
       "      <td>14.843514</td>\n",
       "    </tr>\n",
       "  </tbody>\n",
       "</table>\n",
       "<p>1460 rows × 3 columns</p>\n",
       "</div>"
      ],
      "text/plain": [
       "      SalePrice  LotArea  precio_m2\n",
       "0        208500     8450  24.674556\n",
       "1        181500     9600  18.906250\n",
       "2        223500    11250  19.866667\n",
       "3        140000     9550  14.659686\n",
       "4        250000    14260  17.531557\n",
       "...         ...      ...        ...\n",
       "1455     175000     7917  22.104332\n",
       "1456     210000    13175  15.939279\n",
       "1457     266500     9042  29.473568\n",
       "1458     142125     9717  14.626428\n",
       "1459     147500     9937  14.843514\n",
       "\n",
       "[1460 rows x 3 columns]"
      ]
     },
     "execution_count": 64,
     "metadata": {},
     "output_type": "execute_result"
    }
   ],
   "source": [
    "data[['SalePrice','LotArea','precio_m2']]##muestra unicamente las columnas seleccionadas dentro de los corchetes"
   ]
  },
  {
   "cell_type": "code",
   "execution_count": 65,
   "metadata": {
    "collapsed": true,
    "jupyter": {
     "outputs_hidden": true
    },
    "tags": []
   },
   "outputs": [
    {
     "data": {
      "text/html": [
       "<div>\n",
       "<style scoped>\n",
       "    .dataframe tbody tr th:only-of-type {\n",
       "        vertical-align: middle;\n",
       "    }\n",
       "\n",
       "    .dataframe tbody tr th {\n",
       "        vertical-align: top;\n",
       "    }\n",
       "\n",
       "    .dataframe thead th {\n",
       "        text-align: right;\n",
       "    }\n",
       "</style>\n",
       "<table border=\"1\" class=\"dataframe\">\n",
       "  <thead>\n",
       "    <tr style=\"text-align: right;\">\n",
       "      <th></th>\n",
       "      <th>Id</th>\n",
       "      <th>MSSubClass</th>\n",
       "      <th>MSZoning</th>\n",
       "      <th>LotFrontage</th>\n",
       "      <th>LotArea</th>\n",
       "      <th>Street</th>\n",
       "      <th>Alley</th>\n",
       "      <th>LotShape</th>\n",
       "      <th>LandContour</th>\n",
       "      <th>Utilities</th>\n",
       "      <th>...</th>\n",
       "      <th>PoolQC</th>\n",
       "      <th>Fence</th>\n",
       "      <th>MiscFeature</th>\n",
       "      <th>MiscVal</th>\n",
       "      <th>MoSold</th>\n",
       "      <th>YrSold</th>\n",
       "      <th>SaleType</th>\n",
       "      <th>SaleCondition</th>\n",
       "      <th>SalePrice</th>\n",
       "      <th>precio_m2</th>\n",
       "    </tr>\n",
       "  </thead>\n",
       "  <tbody>\n",
       "    <tr>\n",
       "      <th>0</th>\n",
       "      <td>1</td>\n",
       "      <td>60</td>\n",
       "      <td>RL</td>\n",
       "      <td>65.0</td>\n",
       "      <td>8450</td>\n",
       "      <td>Pave</td>\n",
       "      <td>NaN</td>\n",
       "      <td>Reg</td>\n",
       "      <td>Lvl</td>\n",
       "      <td>AllPub</td>\n",
       "      <td>...</td>\n",
       "      <td>NaN</td>\n",
       "      <td>NaN</td>\n",
       "      <td>NaN</td>\n",
       "      <td>0</td>\n",
       "      <td>2</td>\n",
       "      <td>2008</td>\n",
       "      <td>WD</td>\n",
       "      <td>Normal</td>\n",
       "      <td>208500</td>\n",
       "      <td>24.674556</td>\n",
       "    </tr>\n",
       "    <tr>\n",
       "      <th>6</th>\n",
       "      <td>7</td>\n",
       "      <td>20</td>\n",
       "      <td>RL</td>\n",
       "      <td>75.0</td>\n",
       "      <td>10084</td>\n",
       "      <td>Pave</td>\n",
       "      <td>NaN</td>\n",
       "      <td>Reg</td>\n",
       "      <td>Lvl</td>\n",
       "      <td>AllPub</td>\n",
       "      <td>...</td>\n",
       "      <td>NaN</td>\n",
       "      <td>NaN</td>\n",
       "      <td>NaN</td>\n",
       "      <td>0</td>\n",
       "      <td>8</td>\n",
       "      <td>2007</td>\n",
       "      <td>WD</td>\n",
       "      <td>Normal</td>\n",
       "      <td>307000</td>\n",
       "      <td>30.444268</td>\n",
       "    </tr>\n",
       "    <tr>\n",
       "      <th>8</th>\n",
       "      <td>9</td>\n",
       "      <td>50</td>\n",
       "      <td>RM</td>\n",
       "      <td>51.0</td>\n",
       "      <td>6120</td>\n",
       "      <td>Pave</td>\n",
       "      <td>NaN</td>\n",
       "      <td>Reg</td>\n",
       "      <td>Lvl</td>\n",
       "      <td>AllPub</td>\n",
       "      <td>...</td>\n",
       "      <td>NaN</td>\n",
       "      <td>NaN</td>\n",
       "      <td>NaN</td>\n",
       "      <td>0</td>\n",
       "      <td>4</td>\n",
       "      <td>2008</td>\n",
       "      <td>WD</td>\n",
       "      <td>Abnorml</td>\n",
       "      <td>129900</td>\n",
       "      <td>21.225490</td>\n",
       "    </tr>\n",
       "    <tr>\n",
       "      <th>11</th>\n",
       "      <td>12</td>\n",
       "      <td>60</td>\n",
       "      <td>RL</td>\n",
       "      <td>85.0</td>\n",
       "      <td>11924</td>\n",
       "      <td>Pave</td>\n",
       "      <td>NaN</td>\n",
       "      <td>IR1</td>\n",
       "      <td>Lvl</td>\n",
       "      <td>AllPub</td>\n",
       "      <td>...</td>\n",
       "      <td>NaN</td>\n",
       "      <td>NaN</td>\n",
       "      <td>NaN</td>\n",
       "      <td>0</td>\n",
       "      <td>7</td>\n",
       "      <td>2006</td>\n",
       "      <td>New</td>\n",
       "      <td>Partial</td>\n",
       "      <td>345000</td>\n",
       "      <td>28.933244</td>\n",
       "    </tr>\n",
       "    <tr>\n",
       "      <th>13</th>\n",
       "      <td>14</td>\n",
       "      <td>20</td>\n",
       "      <td>RL</td>\n",
       "      <td>91.0</td>\n",
       "      <td>10652</td>\n",
       "      <td>Pave</td>\n",
       "      <td>NaN</td>\n",
       "      <td>IR1</td>\n",
       "      <td>Lvl</td>\n",
       "      <td>AllPub</td>\n",
       "      <td>...</td>\n",
       "      <td>NaN</td>\n",
       "      <td>NaN</td>\n",
       "      <td>NaN</td>\n",
       "      <td>0</td>\n",
       "      <td>8</td>\n",
       "      <td>2007</td>\n",
       "      <td>New</td>\n",
       "      <td>Partial</td>\n",
       "      <td>279500</td>\n",
       "      <td>26.239204</td>\n",
       "    </tr>\n",
       "    <tr>\n",
       "      <th>...</th>\n",
       "      <td>...</td>\n",
       "      <td>...</td>\n",
       "      <td>...</td>\n",
       "      <td>...</td>\n",
       "      <td>...</td>\n",
       "      <td>...</td>\n",
       "      <td>...</td>\n",
       "      <td>...</td>\n",
       "      <td>...</td>\n",
       "      <td>...</td>\n",
       "      <td>...</td>\n",
       "      <td>...</td>\n",
       "      <td>...</td>\n",
       "      <td>...</td>\n",
       "      <td>...</td>\n",
       "      <td>...</td>\n",
       "      <td>...</td>\n",
       "      <td>...</td>\n",
       "      <td>...</td>\n",
       "      <td>...</td>\n",
       "      <td>...</td>\n",
       "    </tr>\n",
       "    <tr>\n",
       "      <th>1451</th>\n",
       "      <td>1452</td>\n",
       "      <td>20</td>\n",
       "      <td>RL</td>\n",
       "      <td>78.0</td>\n",
       "      <td>9262</td>\n",
       "      <td>Pave</td>\n",
       "      <td>NaN</td>\n",
       "      <td>Reg</td>\n",
       "      <td>Lvl</td>\n",
       "      <td>AllPub</td>\n",
       "      <td>...</td>\n",
       "      <td>NaN</td>\n",
       "      <td>NaN</td>\n",
       "      <td>NaN</td>\n",
       "      <td>0</td>\n",
       "      <td>5</td>\n",
       "      <td>2009</td>\n",
       "      <td>New</td>\n",
       "      <td>Partial</td>\n",
       "      <td>287090</td>\n",
       "      <td>30.996545</td>\n",
       "    </tr>\n",
       "    <tr>\n",
       "      <th>1452</th>\n",
       "      <td>1453</td>\n",
       "      <td>180</td>\n",
       "      <td>RM</td>\n",
       "      <td>35.0</td>\n",
       "      <td>3675</td>\n",
       "      <td>Pave</td>\n",
       "      <td>NaN</td>\n",
       "      <td>Reg</td>\n",
       "      <td>Lvl</td>\n",
       "      <td>AllPub</td>\n",
       "      <td>...</td>\n",
       "      <td>NaN</td>\n",
       "      <td>NaN</td>\n",
       "      <td>NaN</td>\n",
       "      <td>0</td>\n",
       "      <td>5</td>\n",
       "      <td>2006</td>\n",
       "      <td>WD</td>\n",
       "      <td>Normal</td>\n",
       "      <td>145000</td>\n",
       "      <td>39.455782</td>\n",
       "    </tr>\n",
       "    <tr>\n",
       "      <th>1454</th>\n",
       "      <td>1455</td>\n",
       "      <td>20</td>\n",
       "      <td>FV</td>\n",
       "      <td>62.0</td>\n",
       "      <td>7500</td>\n",
       "      <td>Pave</td>\n",
       "      <td>Pave</td>\n",
       "      <td>Reg</td>\n",
       "      <td>Lvl</td>\n",
       "      <td>AllPub</td>\n",
       "      <td>...</td>\n",
       "      <td>NaN</td>\n",
       "      <td>NaN</td>\n",
       "      <td>NaN</td>\n",
       "      <td>0</td>\n",
       "      <td>10</td>\n",
       "      <td>2009</td>\n",
       "      <td>WD</td>\n",
       "      <td>Normal</td>\n",
       "      <td>185000</td>\n",
       "      <td>24.666667</td>\n",
       "    </tr>\n",
       "    <tr>\n",
       "      <th>1455</th>\n",
       "      <td>1456</td>\n",
       "      <td>60</td>\n",
       "      <td>RL</td>\n",
       "      <td>62.0</td>\n",
       "      <td>7917</td>\n",
       "      <td>Pave</td>\n",
       "      <td>NaN</td>\n",
       "      <td>Reg</td>\n",
       "      <td>Lvl</td>\n",
       "      <td>AllPub</td>\n",
       "      <td>...</td>\n",
       "      <td>NaN</td>\n",
       "      <td>NaN</td>\n",
       "      <td>NaN</td>\n",
       "      <td>0</td>\n",
       "      <td>8</td>\n",
       "      <td>2007</td>\n",
       "      <td>WD</td>\n",
       "      <td>Normal</td>\n",
       "      <td>175000</td>\n",
       "      <td>22.104332</td>\n",
       "    </tr>\n",
       "    <tr>\n",
       "      <th>1457</th>\n",
       "      <td>1458</td>\n",
       "      <td>70</td>\n",
       "      <td>RL</td>\n",
       "      <td>66.0</td>\n",
       "      <td>9042</td>\n",
       "      <td>Pave</td>\n",
       "      <td>NaN</td>\n",
       "      <td>Reg</td>\n",
       "      <td>Lvl</td>\n",
       "      <td>AllPub</td>\n",
       "      <td>...</td>\n",
       "      <td>NaN</td>\n",
       "      <td>GdPrv</td>\n",
       "      <td>Shed</td>\n",
       "      <td>2500</td>\n",
       "      <td>5</td>\n",
       "      <td>2010</td>\n",
       "      <td>WD</td>\n",
       "      <td>Normal</td>\n",
       "      <td>266500</td>\n",
       "      <td>29.473568</td>\n",
       "    </tr>\n",
       "  </tbody>\n",
       "</table>\n",
       "<p>509 rows × 82 columns</p>\n",
       "</div>"
      ],
      "text/plain": [
       "        Id  MSSubClass MSZoning  LotFrontage  LotArea Street Alley LotShape  \\\n",
       "0        1          60       RL         65.0     8450   Pave   NaN      Reg   \n",
       "6        7          20       RL         75.0    10084   Pave   NaN      Reg   \n",
       "8        9          50       RM         51.0     6120   Pave   NaN      Reg   \n",
       "11      12          60       RL         85.0    11924   Pave   NaN      IR1   \n",
       "13      14          20       RL         91.0    10652   Pave   NaN      IR1   \n",
       "...    ...         ...      ...          ...      ...    ...   ...      ...   \n",
       "1451  1452          20       RL         78.0     9262   Pave   NaN      Reg   \n",
       "1452  1453         180       RM         35.0     3675   Pave   NaN      Reg   \n",
       "1454  1455          20       FV         62.0     7500   Pave  Pave      Reg   \n",
       "1455  1456          60       RL         62.0     7917   Pave   NaN      Reg   \n",
       "1457  1458          70       RL         66.0     9042   Pave   NaN      Reg   \n",
       "\n",
       "     LandContour Utilities  ... PoolQC  Fence MiscFeature MiscVal MoSold  \\\n",
       "0            Lvl    AllPub  ...    NaN    NaN         NaN       0      2   \n",
       "6            Lvl    AllPub  ...    NaN    NaN         NaN       0      8   \n",
       "8            Lvl    AllPub  ...    NaN    NaN         NaN       0      4   \n",
       "11           Lvl    AllPub  ...    NaN    NaN         NaN       0      7   \n",
       "13           Lvl    AllPub  ...    NaN    NaN         NaN       0      8   \n",
       "...          ...       ...  ...    ...    ...         ...     ...    ...   \n",
       "1451         Lvl    AllPub  ...    NaN    NaN         NaN       0      5   \n",
       "1452         Lvl    AllPub  ...    NaN    NaN         NaN       0      5   \n",
       "1454         Lvl    AllPub  ...    NaN    NaN         NaN       0     10   \n",
       "1455         Lvl    AllPub  ...    NaN    NaN         NaN       0      8   \n",
       "1457         Lvl    AllPub  ...    NaN  GdPrv        Shed    2500      5   \n",
       "\n",
       "     YrSold SaleType  SaleCondition  SalePrice  precio_m2  \n",
       "0      2008       WD         Normal     208500  24.674556  \n",
       "6      2007       WD         Normal     307000  30.444268  \n",
       "8      2008       WD        Abnorml     129900  21.225490  \n",
       "11     2006      New        Partial     345000  28.933244  \n",
       "13     2007      New        Partial     279500  26.239204  \n",
       "...     ...      ...            ...        ...        ...  \n",
       "1451   2009      New        Partial     287090  30.996545  \n",
       "1452   2006       WD         Normal     145000  39.455782  \n",
       "1454   2009       WD         Normal     185000  24.666667  \n",
       "1455   2007       WD         Normal     175000  22.104332  \n",
       "1457   2010       WD         Normal     266500  29.473568  \n",
       "\n",
       "[509 rows x 82 columns]"
      ]
     },
     "execution_count": 65,
     "metadata": {},
     "output_type": "execute_result"
    }
   ],
   "source": [
    "data[data['precio_m2']>data['precio_m2'].mean()]##muestra aquellos inmuebles donde el precio por m2 sea mayor al primedio"
   ]
  },
  {
   "cell_type": "markdown",
   "metadata": {},
   "source": [
    "**Documentación de iloc** : [iloc](https://pandas.pydata.org/pandas-docs/stable/reference/api/pandas.DataFrame.iloc.html)"
   ]
  },
  {
   "cell_type": "code",
   "execution_count": 66,
   "metadata": {},
   "outputs": [
    {
     "data": {
      "text/plain": [
       "24.674556213017752"
      ]
     },
     "execution_count": 66,
     "metadata": {},
     "output_type": "execute_result"
    }
   ],
   "source": [
    "data['precio_m2'].iloc[0]"
   ]
  },
  {
   "cell_type": "markdown",
   "metadata": {},
   "source": [
    "**Agrupación (groupby)**"
   ]
  },
  {
   "cell_type": "code",
   "execution_count": 15,
   "metadata": {
    "collapsed": true,
    "jupyter": {
     "outputs_hidden": true
    },
    "tags": []
   },
   "outputs": [
    {
     "data": {
      "text/html": [
       "<div>\n",
       "<style scoped>\n",
       "    .dataframe tbody tr th:only-of-type {\n",
       "        vertical-align: middle;\n",
       "    }\n",
       "\n",
       "    .dataframe tbody tr th {\n",
       "        vertical-align: top;\n",
       "    }\n",
       "\n",
       "    .dataframe thead th {\n",
       "        text-align: right;\n",
       "    }\n",
       "</style>\n",
       "<table border=\"1\" class=\"dataframe\">\n",
       "  <thead>\n",
       "    <tr style=\"text-align: right;\">\n",
       "      <th></th>\n",
       "      <th>precio_m2</th>\n",
       "    </tr>\n",
       "    <tr>\n",
       "      <th>Neighborhood</th>\n",
       "      <th></th>\n",
       "    </tr>\n",
       "  </thead>\n",
       "  <tbody>\n",
       "    <tr>\n",
       "      <th>Blmngtn</th>\n",
       "      <td>57.643934</td>\n",
       "    </tr>\n",
       "    <tr>\n",
       "      <th>Blueste</th>\n",
       "      <td>86.410256</td>\n",
       "    </tr>\n",
       "    <tr>\n",
       "      <th>BrDale</th>\n",
       "      <td>58.323157</td>\n",
       "    </tr>\n",
       "    <tr>\n",
       "      <th>BrkSide</th>\n",
       "      <td>17.500370</td>\n",
       "    </tr>\n",
       "    <tr>\n",
       "      <th>ClearCr</th>\n",
       "      <td>13.780805</td>\n",
       "    </tr>\n",
       "    <tr>\n",
       "      <th>CollgCr</th>\n",
       "      <td>21.393421</td>\n",
       "    </tr>\n",
       "    <tr>\n",
       "      <th>Crawfor</th>\n",
       "      <td>21.043650</td>\n",
       "    </tr>\n",
       "    <tr>\n",
       "      <th>Edwards</th>\n",
       "      <td>15.475815</td>\n",
       "    </tr>\n",
       "    <tr>\n",
       "      <th>Gilbert</th>\n",
       "      <td>18.575884</td>\n",
       "    </tr>\n",
       "    <tr>\n",
       "      <th>IDOTRR</th>\n",
       "      <td>13.179700</td>\n",
       "    </tr>\n",
       "    <tr>\n",
       "      <th>MeadowV</th>\n",
       "      <td>45.394765</td>\n",
       "    </tr>\n",
       "    <tr>\n",
       "      <th>Mitchel</th>\n",
       "      <td>16.430881</td>\n",
       "    </tr>\n",
       "    <tr>\n",
       "      <th>NAmes</th>\n",
       "      <td>15.086940</td>\n",
       "    </tr>\n",
       "    <tr>\n",
       "      <th>NPkVill</th>\n",
       "      <td>49.577688</td>\n",
       "    </tr>\n",
       "    <tr>\n",
       "      <th>NWAmes</th>\n",
       "      <td>16.505557</td>\n",
       "    </tr>\n",
       "    <tr>\n",
       "      <th>NoRidge</th>\n",
       "      <td>25.668164</td>\n",
       "    </tr>\n",
       "    <tr>\n",
       "      <th>NridgHt</th>\n",
       "      <td>31.426916</td>\n",
       "    </tr>\n",
       "    <tr>\n",
       "      <th>OldTown</th>\n",
       "      <td>17.036698</td>\n",
       "    </tr>\n",
       "    <tr>\n",
       "      <th>SWISU</th>\n",
       "      <td>18.630789</td>\n",
       "    </tr>\n",
       "    <tr>\n",
       "      <th>Sawyer</th>\n",
       "      <td>13.966735</td>\n",
       "    </tr>\n",
       "    <tr>\n",
       "      <th>SawyerW</th>\n",
       "      <td>19.014902</td>\n",
       "    </tr>\n",
       "    <tr>\n",
       "      <th>Somerst</th>\n",
       "      <td>35.461897</td>\n",
       "    </tr>\n",
       "    <tr>\n",
       "      <th>StoneBr</th>\n",
       "      <td>36.074463</td>\n",
       "    </tr>\n",
       "    <tr>\n",
       "      <th>Timber</th>\n",
       "      <td>18.386003</td>\n",
       "    </tr>\n",
       "    <tr>\n",
       "      <th>Veenker</th>\n",
       "      <td>18.081011</td>\n",
       "    </tr>\n",
       "  </tbody>\n",
       "</table>\n",
       "</div>"
      ],
      "text/plain": [
       "              precio_m2\n",
       "Neighborhood           \n",
       "Blmngtn       57.643934\n",
       "Blueste       86.410256\n",
       "BrDale        58.323157\n",
       "BrkSide       17.500370\n",
       "ClearCr       13.780805\n",
       "CollgCr       21.393421\n",
       "Crawfor       21.043650\n",
       "Edwards       15.475815\n",
       "Gilbert       18.575884\n",
       "IDOTRR        13.179700\n",
       "MeadowV       45.394765\n",
       "Mitchel       16.430881\n",
       "NAmes         15.086940\n",
       "NPkVill       49.577688\n",
       "NWAmes        16.505557\n",
       "NoRidge       25.668164\n",
       "NridgHt       31.426916\n",
       "OldTown       17.036698\n",
       "SWISU         18.630789\n",
       "Sawyer        13.966735\n",
       "SawyerW       19.014902\n",
       "Somerst       35.461897\n",
       "StoneBr       36.074463\n",
       "Timber        18.386003\n",
       "Veenker       18.081011"
      ]
     },
     "execution_count": 15,
     "metadata": {},
     "output_type": "execute_result"
    }
   ],
   "source": [
    "data.groupby('Neighborhood').agg({'precio_m2':'mean'})\n",
    "##data.groupby('Neighborhood').agg({'precio_m2':'mean','SalePrice','median'})\n",
    "##data.groupby('Neighborhood').agg({'id':'count'})\n",
    "##data.groupby(['Neighborhood','SaleCondition']).agg({'precio_m2':'mean'})\n",
    "\n"
   ]
  },
  {
   "cell_type": "markdown",
   "metadata": {},
   "source": [
    "1. **Renombrar columnas**\n",
    "2. **Eliminar columnas**\n",
    "3. **Eliminar filas donde hay datos nulos en columnas determinadas**\n",
    "4. **Eliminar duplicados en una columna**"
   ]
  },
  {
   "cell_type": "code",
   "execution_count": 69,
   "metadata": {
    "collapsed": true,
    "jupyter": {
     "outputs_hidden": true
    },
    "tags": []
   },
   "outputs": [
    {
     "data": {
      "text/html": [
       "<div>\n",
       "<style scoped>\n",
       "    .dataframe tbody tr th:only-of-type {\n",
       "        vertical-align: middle;\n",
       "    }\n",
       "\n",
       "    .dataframe tbody tr th {\n",
       "        vertical-align: top;\n",
       "    }\n",
       "\n",
       "    .dataframe thead th {\n",
       "        text-align: right;\n",
       "    }\n",
       "</style>\n",
       "<table border=\"1\" class=\"dataframe\">\n",
       "  <thead>\n",
       "    <tr style=\"text-align: right;\">\n",
       "      <th></th>\n",
       "      <th>Id</th>\n",
       "      <th>MSSubClass</th>\n",
       "      <th>MSZoning</th>\n",
       "      <th>LotFrontage</th>\n",
       "      <th>LotArea</th>\n",
       "      <th>Street</th>\n",
       "      <th>Alley</th>\n",
       "      <th>LotShape</th>\n",
       "      <th>LandContour</th>\n",
       "      <th>Utilities</th>\n",
       "      <th>...</th>\n",
       "      <th>PoolQC</th>\n",
       "      <th>Fence</th>\n",
       "      <th>MiscFeature</th>\n",
       "      <th>MiscVal</th>\n",
       "      <th>MoSold</th>\n",
       "      <th>YrSold</th>\n",
       "      <th>SaleType</th>\n",
       "      <th>SaleCondition</th>\n",
       "      <th>SalePrice</th>\n",
       "      <th>price_m2</th>\n",
       "    </tr>\n",
       "  </thead>\n",
       "  <tbody>\n",
       "    <tr>\n",
       "      <th>0</th>\n",
       "      <td>1</td>\n",
       "      <td>60</td>\n",
       "      <td>RL</td>\n",
       "      <td>65.0</td>\n",
       "      <td>8450</td>\n",
       "      <td>Pave</td>\n",
       "      <td>NaN</td>\n",
       "      <td>Reg</td>\n",
       "      <td>Lvl</td>\n",
       "      <td>AllPub</td>\n",
       "      <td>...</td>\n",
       "      <td>NaN</td>\n",
       "      <td>NaN</td>\n",
       "      <td>NaN</td>\n",
       "      <td>0</td>\n",
       "      <td>2</td>\n",
       "      <td>2008</td>\n",
       "      <td>WD</td>\n",
       "      <td>Normal</td>\n",
       "      <td>208500</td>\n",
       "      <td>24.674556</td>\n",
       "    </tr>\n",
       "    <tr>\n",
       "      <th>1</th>\n",
       "      <td>2</td>\n",
       "      <td>20</td>\n",
       "      <td>RL</td>\n",
       "      <td>80.0</td>\n",
       "      <td>9600</td>\n",
       "      <td>Pave</td>\n",
       "      <td>NaN</td>\n",
       "      <td>Reg</td>\n",
       "      <td>Lvl</td>\n",
       "      <td>AllPub</td>\n",
       "      <td>...</td>\n",
       "      <td>NaN</td>\n",
       "      <td>NaN</td>\n",
       "      <td>NaN</td>\n",
       "      <td>0</td>\n",
       "      <td>5</td>\n",
       "      <td>2007</td>\n",
       "      <td>WD</td>\n",
       "      <td>Normal</td>\n",
       "      <td>181500</td>\n",
       "      <td>18.906250</td>\n",
       "    </tr>\n",
       "    <tr>\n",
       "      <th>2</th>\n",
       "      <td>3</td>\n",
       "      <td>60</td>\n",
       "      <td>RL</td>\n",
       "      <td>68.0</td>\n",
       "      <td>11250</td>\n",
       "      <td>Pave</td>\n",
       "      <td>NaN</td>\n",
       "      <td>IR1</td>\n",
       "      <td>Lvl</td>\n",
       "      <td>AllPub</td>\n",
       "      <td>...</td>\n",
       "      <td>NaN</td>\n",
       "      <td>NaN</td>\n",
       "      <td>NaN</td>\n",
       "      <td>0</td>\n",
       "      <td>9</td>\n",
       "      <td>2008</td>\n",
       "      <td>WD</td>\n",
       "      <td>Normal</td>\n",
       "      <td>223500</td>\n",
       "      <td>19.866667</td>\n",
       "    </tr>\n",
       "    <tr>\n",
       "      <th>3</th>\n",
       "      <td>4</td>\n",
       "      <td>70</td>\n",
       "      <td>RL</td>\n",
       "      <td>60.0</td>\n",
       "      <td>9550</td>\n",
       "      <td>Pave</td>\n",
       "      <td>NaN</td>\n",
       "      <td>IR1</td>\n",
       "      <td>Lvl</td>\n",
       "      <td>AllPub</td>\n",
       "      <td>...</td>\n",
       "      <td>NaN</td>\n",
       "      <td>NaN</td>\n",
       "      <td>NaN</td>\n",
       "      <td>0</td>\n",
       "      <td>2</td>\n",
       "      <td>2006</td>\n",
       "      <td>WD</td>\n",
       "      <td>Abnorml</td>\n",
       "      <td>140000</td>\n",
       "      <td>14.659686</td>\n",
       "    </tr>\n",
       "    <tr>\n",
       "      <th>4</th>\n",
       "      <td>5</td>\n",
       "      <td>60</td>\n",
       "      <td>RL</td>\n",
       "      <td>84.0</td>\n",
       "      <td>14260</td>\n",
       "      <td>Pave</td>\n",
       "      <td>NaN</td>\n",
       "      <td>IR1</td>\n",
       "      <td>Lvl</td>\n",
       "      <td>AllPub</td>\n",
       "      <td>...</td>\n",
       "      <td>NaN</td>\n",
       "      <td>NaN</td>\n",
       "      <td>NaN</td>\n",
       "      <td>0</td>\n",
       "      <td>12</td>\n",
       "      <td>2008</td>\n",
       "      <td>WD</td>\n",
       "      <td>Normal</td>\n",
       "      <td>250000</td>\n",
       "      <td>17.531557</td>\n",
       "    </tr>\n",
       "    <tr>\n",
       "      <th>...</th>\n",
       "      <td>...</td>\n",
       "      <td>...</td>\n",
       "      <td>...</td>\n",
       "      <td>...</td>\n",
       "      <td>...</td>\n",
       "      <td>...</td>\n",
       "      <td>...</td>\n",
       "      <td>...</td>\n",
       "      <td>...</td>\n",
       "      <td>...</td>\n",
       "      <td>...</td>\n",
       "      <td>...</td>\n",
       "      <td>...</td>\n",
       "      <td>...</td>\n",
       "      <td>...</td>\n",
       "      <td>...</td>\n",
       "      <td>...</td>\n",
       "      <td>...</td>\n",
       "      <td>...</td>\n",
       "      <td>...</td>\n",
       "      <td>...</td>\n",
       "    </tr>\n",
       "    <tr>\n",
       "      <th>1455</th>\n",
       "      <td>1456</td>\n",
       "      <td>60</td>\n",
       "      <td>RL</td>\n",
       "      <td>62.0</td>\n",
       "      <td>7917</td>\n",
       "      <td>Pave</td>\n",
       "      <td>NaN</td>\n",
       "      <td>Reg</td>\n",
       "      <td>Lvl</td>\n",
       "      <td>AllPub</td>\n",
       "      <td>...</td>\n",
       "      <td>NaN</td>\n",
       "      <td>NaN</td>\n",
       "      <td>NaN</td>\n",
       "      <td>0</td>\n",
       "      <td>8</td>\n",
       "      <td>2007</td>\n",
       "      <td>WD</td>\n",
       "      <td>Normal</td>\n",
       "      <td>175000</td>\n",
       "      <td>22.104332</td>\n",
       "    </tr>\n",
       "    <tr>\n",
       "      <th>1456</th>\n",
       "      <td>1457</td>\n",
       "      <td>20</td>\n",
       "      <td>RL</td>\n",
       "      <td>85.0</td>\n",
       "      <td>13175</td>\n",
       "      <td>Pave</td>\n",
       "      <td>NaN</td>\n",
       "      <td>Reg</td>\n",
       "      <td>Lvl</td>\n",
       "      <td>AllPub</td>\n",
       "      <td>...</td>\n",
       "      <td>NaN</td>\n",
       "      <td>MnPrv</td>\n",
       "      <td>NaN</td>\n",
       "      <td>0</td>\n",
       "      <td>2</td>\n",
       "      <td>2010</td>\n",
       "      <td>WD</td>\n",
       "      <td>Normal</td>\n",
       "      <td>210000</td>\n",
       "      <td>15.939279</td>\n",
       "    </tr>\n",
       "    <tr>\n",
       "      <th>1457</th>\n",
       "      <td>1458</td>\n",
       "      <td>70</td>\n",
       "      <td>RL</td>\n",
       "      <td>66.0</td>\n",
       "      <td>9042</td>\n",
       "      <td>Pave</td>\n",
       "      <td>NaN</td>\n",
       "      <td>Reg</td>\n",
       "      <td>Lvl</td>\n",
       "      <td>AllPub</td>\n",
       "      <td>...</td>\n",
       "      <td>NaN</td>\n",
       "      <td>GdPrv</td>\n",
       "      <td>Shed</td>\n",
       "      <td>2500</td>\n",
       "      <td>5</td>\n",
       "      <td>2010</td>\n",
       "      <td>WD</td>\n",
       "      <td>Normal</td>\n",
       "      <td>266500</td>\n",
       "      <td>29.473568</td>\n",
       "    </tr>\n",
       "    <tr>\n",
       "      <th>1458</th>\n",
       "      <td>1459</td>\n",
       "      <td>20</td>\n",
       "      <td>RL</td>\n",
       "      <td>68.0</td>\n",
       "      <td>9717</td>\n",
       "      <td>Pave</td>\n",
       "      <td>NaN</td>\n",
       "      <td>Reg</td>\n",
       "      <td>Lvl</td>\n",
       "      <td>AllPub</td>\n",
       "      <td>...</td>\n",
       "      <td>NaN</td>\n",
       "      <td>NaN</td>\n",
       "      <td>NaN</td>\n",
       "      <td>0</td>\n",
       "      <td>4</td>\n",
       "      <td>2010</td>\n",
       "      <td>WD</td>\n",
       "      <td>Normal</td>\n",
       "      <td>142125</td>\n",
       "      <td>14.626428</td>\n",
       "    </tr>\n",
       "    <tr>\n",
       "      <th>1459</th>\n",
       "      <td>1460</td>\n",
       "      <td>20</td>\n",
       "      <td>RL</td>\n",
       "      <td>75.0</td>\n",
       "      <td>9937</td>\n",
       "      <td>Pave</td>\n",
       "      <td>NaN</td>\n",
       "      <td>Reg</td>\n",
       "      <td>Lvl</td>\n",
       "      <td>AllPub</td>\n",
       "      <td>...</td>\n",
       "      <td>NaN</td>\n",
       "      <td>NaN</td>\n",
       "      <td>NaN</td>\n",
       "      <td>0</td>\n",
       "      <td>6</td>\n",
       "      <td>2008</td>\n",
       "      <td>WD</td>\n",
       "      <td>Normal</td>\n",
       "      <td>147500</td>\n",
       "      <td>14.843514</td>\n",
       "    </tr>\n",
       "  </tbody>\n",
       "</table>\n",
       "<p>1460 rows × 82 columns</p>\n",
       "</div>"
      ],
      "text/plain": [
       "        Id  MSSubClass MSZoning  LotFrontage  LotArea Street Alley LotShape  \\\n",
       "0        1          60       RL         65.0     8450   Pave   NaN      Reg   \n",
       "1        2          20       RL         80.0     9600   Pave   NaN      Reg   \n",
       "2        3          60       RL         68.0    11250   Pave   NaN      IR1   \n",
       "3        4          70       RL         60.0     9550   Pave   NaN      IR1   \n",
       "4        5          60       RL         84.0    14260   Pave   NaN      IR1   \n",
       "...    ...         ...      ...          ...      ...    ...   ...      ...   \n",
       "1455  1456          60       RL         62.0     7917   Pave   NaN      Reg   \n",
       "1456  1457          20       RL         85.0    13175   Pave   NaN      Reg   \n",
       "1457  1458          70       RL         66.0     9042   Pave   NaN      Reg   \n",
       "1458  1459          20       RL         68.0     9717   Pave   NaN      Reg   \n",
       "1459  1460          20       RL         75.0     9937   Pave   NaN      Reg   \n",
       "\n",
       "     LandContour Utilities  ... PoolQC  Fence MiscFeature MiscVal MoSold  \\\n",
       "0            Lvl    AllPub  ...    NaN    NaN         NaN       0      2   \n",
       "1            Lvl    AllPub  ...    NaN    NaN         NaN       0      5   \n",
       "2            Lvl    AllPub  ...    NaN    NaN         NaN       0      9   \n",
       "3            Lvl    AllPub  ...    NaN    NaN         NaN       0      2   \n",
       "4            Lvl    AllPub  ...    NaN    NaN         NaN       0     12   \n",
       "...          ...       ...  ...    ...    ...         ...     ...    ...   \n",
       "1455         Lvl    AllPub  ...    NaN    NaN         NaN       0      8   \n",
       "1456         Lvl    AllPub  ...    NaN  MnPrv         NaN       0      2   \n",
       "1457         Lvl    AllPub  ...    NaN  GdPrv        Shed    2500      5   \n",
       "1458         Lvl    AllPub  ...    NaN    NaN         NaN       0      4   \n",
       "1459         Lvl    AllPub  ...    NaN    NaN         NaN       0      6   \n",
       "\n",
       "     YrSold SaleType  SaleCondition  SalePrice   price_m2  \n",
       "0      2008       WD         Normal     208500  24.674556  \n",
       "1      2007       WD         Normal     181500  18.906250  \n",
       "2      2008       WD         Normal     223500  19.866667  \n",
       "3      2006       WD        Abnorml     140000  14.659686  \n",
       "4      2008       WD         Normal     250000  17.531557  \n",
       "...     ...      ...            ...        ...        ...  \n",
       "1455   2007       WD         Normal     175000  22.104332  \n",
       "1456   2010       WD         Normal     210000  15.939279  \n",
       "1457   2010       WD         Normal     266500  29.473568  \n",
       "1458   2010       WD         Normal     142125  14.626428  \n",
       "1459   2008       WD         Normal     147500  14.843514  \n",
       "\n",
       "[1460 rows x 82 columns]"
      ]
     },
     "execution_count": 69,
     "metadata": {},
     "output_type": "execute_result"
    }
   ],
   "source": [
    "data.rename(columns={'precio_m2':'price_m2'})"
   ]
  },
  {
   "cell_type": "code",
   "execution_count": 27,
   "metadata": {},
   "outputs": [],
   "source": [
    "data.drop(columns=['MSZoning','price_m2'])"
   ]
  },
  {
   "cell_type": "code",
   "execution_count": 28,
   "metadata": {
    "collapsed": true,
    "jupyter": {
     "outputs_hidden": true
    },
    "tags": []
   },
   "outputs": [
    {
     "data": {
      "text/html": [
       "<div>\n",
       "<style scoped>\n",
       "    .dataframe tbody tr th:only-of-type {\n",
       "        vertical-align: middle;\n",
       "    }\n",
       "\n",
       "    .dataframe tbody tr th {\n",
       "        vertical-align: top;\n",
       "    }\n",
       "\n",
       "    .dataframe thead th {\n",
       "        text-align: right;\n",
       "    }\n",
       "</style>\n",
       "<table border=\"1\" class=\"dataframe\">\n",
       "  <thead>\n",
       "    <tr style=\"text-align: right;\">\n",
       "      <th></th>\n",
       "      <th>Id</th>\n",
       "      <th>MSSubClass</th>\n",
       "      <th>LotFrontage</th>\n",
       "      <th>LotArea</th>\n",
       "      <th>Street</th>\n",
       "      <th>Alley</th>\n",
       "      <th>LotShape</th>\n",
       "      <th>LandContour</th>\n",
       "      <th>Utilities</th>\n",
       "      <th>LotConfig</th>\n",
       "      <th>...</th>\n",
       "      <th>PoolQC</th>\n",
       "      <th>Fence</th>\n",
       "      <th>MiscFeature</th>\n",
       "      <th>MiscVal</th>\n",
       "      <th>MoSold</th>\n",
       "      <th>YrSold</th>\n",
       "      <th>SaleType</th>\n",
       "      <th>SaleCondition</th>\n",
       "      <th>SalePrice</th>\n",
       "      <th>precio_m2</th>\n",
       "    </tr>\n",
       "  </thead>\n",
       "  <tbody>\n",
       "    <tr>\n",
       "      <th>0</th>\n",
       "      <td>1</td>\n",
       "      <td>60</td>\n",
       "      <td>65.0</td>\n",
       "      <td>8450</td>\n",
       "      <td>Pave</td>\n",
       "      <td>NaN</td>\n",
       "      <td>Reg</td>\n",
       "      <td>Lvl</td>\n",
       "      <td>AllPub</td>\n",
       "      <td>Inside</td>\n",
       "      <td>...</td>\n",
       "      <td>NaN</td>\n",
       "      <td>NaN</td>\n",
       "      <td>NaN</td>\n",
       "      <td>0</td>\n",
       "      <td>2</td>\n",
       "      <td>2008</td>\n",
       "      <td>WD</td>\n",
       "      <td>Normal</td>\n",
       "      <td>208500</td>\n",
       "      <td>24.674556</td>\n",
       "    </tr>\n",
       "    <tr>\n",
       "      <th>1</th>\n",
       "      <td>2</td>\n",
       "      <td>20</td>\n",
       "      <td>80.0</td>\n",
       "      <td>9600</td>\n",
       "      <td>Pave</td>\n",
       "      <td>NaN</td>\n",
       "      <td>Reg</td>\n",
       "      <td>Lvl</td>\n",
       "      <td>AllPub</td>\n",
       "      <td>FR2</td>\n",
       "      <td>...</td>\n",
       "      <td>NaN</td>\n",
       "      <td>NaN</td>\n",
       "      <td>NaN</td>\n",
       "      <td>0</td>\n",
       "      <td>5</td>\n",
       "      <td>2007</td>\n",
       "      <td>WD</td>\n",
       "      <td>Normal</td>\n",
       "      <td>181500</td>\n",
       "      <td>18.906250</td>\n",
       "    </tr>\n",
       "    <tr>\n",
       "      <th>2</th>\n",
       "      <td>3</td>\n",
       "      <td>60</td>\n",
       "      <td>68.0</td>\n",
       "      <td>11250</td>\n",
       "      <td>Pave</td>\n",
       "      <td>NaN</td>\n",
       "      <td>IR1</td>\n",
       "      <td>Lvl</td>\n",
       "      <td>AllPub</td>\n",
       "      <td>Inside</td>\n",
       "      <td>...</td>\n",
       "      <td>NaN</td>\n",
       "      <td>NaN</td>\n",
       "      <td>NaN</td>\n",
       "      <td>0</td>\n",
       "      <td>9</td>\n",
       "      <td>2008</td>\n",
       "      <td>WD</td>\n",
       "      <td>Normal</td>\n",
       "      <td>223500</td>\n",
       "      <td>19.866667</td>\n",
       "    </tr>\n",
       "    <tr>\n",
       "      <th>3</th>\n",
       "      <td>4</td>\n",
       "      <td>70</td>\n",
       "      <td>60.0</td>\n",
       "      <td>9550</td>\n",
       "      <td>Pave</td>\n",
       "      <td>NaN</td>\n",
       "      <td>IR1</td>\n",
       "      <td>Lvl</td>\n",
       "      <td>AllPub</td>\n",
       "      <td>Corner</td>\n",
       "      <td>...</td>\n",
       "      <td>NaN</td>\n",
       "      <td>NaN</td>\n",
       "      <td>NaN</td>\n",
       "      <td>0</td>\n",
       "      <td>2</td>\n",
       "      <td>2006</td>\n",
       "      <td>WD</td>\n",
       "      <td>Abnorml</td>\n",
       "      <td>140000</td>\n",
       "      <td>14.659686</td>\n",
       "    </tr>\n",
       "    <tr>\n",
       "      <th>4</th>\n",
       "      <td>5</td>\n",
       "      <td>60</td>\n",
       "      <td>84.0</td>\n",
       "      <td>14260</td>\n",
       "      <td>Pave</td>\n",
       "      <td>NaN</td>\n",
       "      <td>IR1</td>\n",
       "      <td>Lvl</td>\n",
       "      <td>AllPub</td>\n",
       "      <td>FR2</td>\n",
       "      <td>...</td>\n",
       "      <td>NaN</td>\n",
       "      <td>NaN</td>\n",
       "      <td>NaN</td>\n",
       "      <td>0</td>\n",
       "      <td>12</td>\n",
       "      <td>2008</td>\n",
       "      <td>WD</td>\n",
       "      <td>Normal</td>\n",
       "      <td>250000</td>\n",
       "      <td>17.531557</td>\n",
       "    </tr>\n",
       "    <tr>\n",
       "      <th>...</th>\n",
       "      <td>...</td>\n",
       "      <td>...</td>\n",
       "      <td>...</td>\n",
       "      <td>...</td>\n",
       "      <td>...</td>\n",
       "      <td>...</td>\n",
       "      <td>...</td>\n",
       "      <td>...</td>\n",
       "      <td>...</td>\n",
       "      <td>...</td>\n",
       "      <td>...</td>\n",
       "      <td>...</td>\n",
       "      <td>...</td>\n",
       "      <td>...</td>\n",
       "      <td>...</td>\n",
       "      <td>...</td>\n",
       "      <td>...</td>\n",
       "      <td>...</td>\n",
       "      <td>...</td>\n",
       "      <td>...</td>\n",
       "      <td>...</td>\n",
       "    </tr>\n",
       "    <tr>\n",
       "      <th>1455</th>\n",
       "      <td>1456</td>\n",
       "      <td>60</td>\n",
       "      <td>62.0</td>\n",
       "      <td>7917</td>\n",
       "      <td>Pave</td>\n",
       "      <td>NaN</td>\n",
       "      <td>Reg</td>\n",
       "      <td>Lvl</td>\n",
       "      <td>AllPub</td>\n",
       "      <td>Inside</td>\n",
       "      <td>...</td>\n",
       "      <td>NaN</td>\n",
       "      <td>NaN</td>\n",
       "      <td>NaN</td>\n",
       "      <td>0</td>\n",
       "      <td>8</td>\n",
       "      <td>2007</td>\n",
       "      <td>WD</td>\n",
       "      <td>Normal</td>\n",
       "      <td>175000</td>\n",
       "      <td>22.104332</td>\n",
       "    </tr>\n",
       "    <tr>\n",
       "      <th>1456</th>\n",
       "      <td>1457</td>\n",
       "      <td>20</td>\n",
       "      <td>85.0</td>\n",
       "      <td>13175</td>\n",
       "      <td>Pave</td>\n",
       "      <td>NaN</td>\n",
       "      <td>Reg</td>\n",
       "      <td>Lvl</td>\n",
       "      <td>AllPub</td>\n",
       "      <td>Inside</td>\n",
       "      <td>...</td>\n",
       "      <td>NaN</td>\n",
       "      <td>MnPrv</td>\n",
       "      <td>NaN</td>\n",
       "      <td>0</td>\n",
       "      <td>2</td>\n",
       "      <td>2010</td>\n",
       "      <td>WD</td>\n",
       "      <td>Normal</td>\n",
       "      <td>210000</td>\n",
       "      <td>15.939279</td>\n",
       "    </tr>\n",
       "    <tr>\n",
       "      <th>1457</th>\n",
       "      <td>1458</td>\n",
       "      <td>70</td>\n",
       "      <td>66.0</td>\n",
       "      <td>9042</td>\n",
       "      <td>Pave</td>\n",
       "      <td>NaN</td>\n",
       "      <td>Reg</td>\n",
       "      <td>Lvl</td>\n",
       "      <td>AllPub</td>\n",
       "      <td>Inside</td>\n",
       "      <td>...</td>\n",
       "      <td>NaN</td>\n",
       "      <td>GdPrv</td>\n",
       "      <td>Shed</td>\n",
       "      <td>2500</td>\n",
       "      <td>5</td>\n",
       "      <td>2010</td>\n",
       "      <td>WD</td>\n",
       "      <td>Normal</td>\n",
       "      <td>266500</td>\n",
       "      <td>29.473568</td>\n",
       "    </tr>\n",
       "    <tr>\n",
       "      <th>1458</th>\n",
       "      <td>1459</td>\n",
       "      <td>20</td>\n",
       "      <td>68.0</td>\n",
       "      <td>9717</td>\n",
       "      <td>Pave</td>\n",
       "      <td>NaN</td>\n",
       "      <td>Reg</td>\n",
       "      <td>Lvl</td>\n",
       "      <td>AllPub</td>\n",
       "      <td>Inside</td>\n",
       "      <td>...</td>\n",
       "      <td>NaN</td>\n",
       "      <td>NaN</td>\n",
       "      <td>NaN</td>\n",
       "      <td>0</td>\n",
       "      <td>4</td>\n",
       "      <td>2010</td>\n",
       "      <td>WD</td>\n",
       "      <td>Normal</td>\n",
       "      <td>142125</td>\n",
       "      <td>14.626428</td>\n",
       "    </tr>\n",
       "    <tr>\n",
       "      <th>1459</th>\n",
       "      <td>1460</td>\n",
       "      <td>20</td>\n",
       "      <td>75.0</td>\n",
       "      <td>9937</td>\n",
       "      <td>Pave</td>\n",
       "      <td>NaN</td>\n",
       "      <td>Reg</td>\n",
       "      <td>Lvl</td>\n",
       "      <td>AllPub</td>\n",
       "      <td>Inside</td>\n",
       "      <td>...</td>\n",
       "      <td>NaN</td>\n",
       "      <td>NaN</td>\n",
       "      <td>NaN</td>\n",
       "      <td>0</td>\n",
       "      <td>6</td>\n",
       "      <td>2008</td>\n",
       "      <td>WD</td>\n",
       "      <td>Normal</td>\n",
       "      <td>147500</td>\n",
       "      <td>14.843514</td>\n",
       "    </tr>\n",
       "  </tbody>\n",
       "</table>\n",
       "<p>1460 rows × 81 columns</p>\n",
       "</div>"
      ],
      "text/plain": [
       "        Id  MSSubClass  LotFrontage  LotArea Street Alley LotShape  \\\n",
       "0        1          60         65.0     8450   Pave   NaN      Reg   \n",
       "1        2          20         80.0     9600   Pave   NaN      Reg   \n",
       "2        3          60         68.0    11250   Pave   NaN      IR1   \n",
       "3        4          70         60.0     9550   Pave   NaN      IR1   \n",
       "4        5          60         84.0    14260   Pave   NaN      IR1   \n",
       "...    ...         ...          ...      ...    ...   ...      ...   \n",
       "1455  1456          60         62.0     7917   Pave   NaN      Reg   \n",
       "1456  1457          20         85.0    13175   Pave   NaN      Reg   \n",
       "1457  1458          70         66.0     9042   Pave   NaN      Reg   \n",
       "1458  1459          20         68.0     9717   Pave   NaN      Reg   \n",
       "1459  1460          20         75.0     9937   Pave   NaN      Reg   \n",
       "\n",
       "     LandContour Utilities LotConfig  ... PoolQC  Fence MiscFeature MiscVal  \\\n",
       "0            Lvl    AllPub    Inside  ...    NaN    NaN         NaN       0   \n",
       "1            Lvl    AllPub       FR2  ...    NaN    NaN         NaN       0   \n",
       "2            Lvl    AllPub    Inside  ...    NaN    NaN         NaN       0   \n",
       "3            Lvl    AllPub    Corner  ...    NaN    NaN         NaN       0   \n",
       "4            Lvl    AllPub       FR2  ...    NaN    NaN         NaN       0   \n",
       "...          ...       ...       ...  ...    ...    ...         ...     ...   \n",
       "1455         Lvl    AllPub    Inside  ...    NaN    NaN         NaN       0   \n",
       "1456         Lvl    AllPub    Inside  ...    NaN  MnPrv         NaN       0   \n",
       "1457         Lvl    AllPub    Inside  ...    NaN  GdPrv        Shed    2500   \n",
       "1458         Lvl    AllPub    Inside  ...    NaN    NaN         NaN       0   \n",
       "1459         Lvl    AllPub    Inside  ...    NaN    NaN         NaN       0   \n",
       "\n",
       "     MoSold YrSold  SaleType  SaleCondition  SalePrice  precio_m2  \n",
       "0         2   2008        WD         Normal     208500  24.674556  \n",
       "1         5   2007        WD         Normal     181500  18.906250  \n",
       "2         9   2008        WD         Normal     223500  19.866667  \n",
       "3         2   2006        WD        Abnorml     140000  14.659686  \n",
       "4        12   2008        WD         Normal     250000  17.531557  \n",
       "...     ...    ...       ...            ...        ...        ...  \n",
       "1455      8   2007        WD         Normal     175000  22.104332  \n",
       "1456      2   2010        WD         Normal     210000  15.939279  \n",
       "1457      5   2010        WD         Normal     266500  29.473568  \n",
       "1458      4   2010        WD         Normal     142125  14.626428  \n",
       "1459      6   2008        WD         Normal     147500  14.843514  \n",
       "\n",
       "[1460 rows x 81 columns]"
      ]
     },
     "execution_count": 28,
     "metadata": {},
     "output_type": "execute_result"
    }
   ],
   "source": [
    "data=data.dropna(subset=['price_m2'])"
   ]
  },
  {
   "cell_type": "code",
   "execution_count": 38,
   "metadata": {
    "tags": []
   },
   "outputs": [],
   "source": [
    "data=data[data['Id'].duplicated()==False] ## Crea una base donde no hay duplicados en la variable Id\n",
    "##data=data[data.duplicated()==False]"
   ]
  },
  {
   "cell_type": "markdown",
   "metadata": {},
   "source": [
    "- Ver estadísticas descriptivas de variables continuas"
   ]
  },
  {
   "cell_type": "code",
   "execution_count": 91,
   "metadata": {},
   "outputs": [
    {
     "data": {
      "text/html": [
       "<div>\n",
       "<style scoped>\n",
       "    .dataframe tbody tr th:only-of-type {\n",
       "        vertical-align: middle;\n",
       "    }\n",
       "\n",
       "    .dataframe tbody tr th {\n",
       "        vertical-align: top;\n",
       "    }\n",
       "\n",
       "    .dataframe thead th {\n",
       "        text-align: right;\n",
       "    }\n",
       "</style>\n",
       "<table border=\"1\" class=\"dataframe\">\n",
       "  <thead>\n",
       "    <tr style=\"text-align: right;\">\n",
       "      <th></th>\n",
       "      <th>SalePrice</th>\n",
       "      <th>LotFrontage</th>\n",
       "      <th>LotArea</th>\n",
       "      <th>FullBath</th>\n",
       "      <th>TotRmsAbvGrd</th>\n",
       "      <th>GarageCars</th>\n",
       "    </tr>\n",
       "  </thead>\n",
       "  <tbody>\n",
       "    <tr>\n",
       "      <th>count</th>\n",
       "      <td>1460.000000</td>\n",
       "      <td>1201.000000</td>\n",
       "      <td>1460.000000</td>\n",
       "      <td>1460.000000</td>\n",
       "      <td>1460.000000</td>\n",
       "      <td>1460.000000</td>\n",
       "    </tr>\n",
       "    <tr>\n",
       "      <th>mean</th>\n",
       "      <td>180921.195890</td>\n",
       "      <td>70.049958</td>\n",
       "      <td>10516.828082</td>\n",
       "      <td>1.565068</td>\n",
       "      <td>6.517808</td>\n",
       "      <td>1.767123</td>\n",
       "    </tr>\n",
       "    <tr>\n",
       "      <th>std</th>\n",
       "      <td>79442.502883</td>\n",
       "      <td>24.284752</td>\n",
       "      <td>9981.264932</td>\n",
       "      <td>0.550916</td>\n",
       "      <td>1.625393</td>\n",
       "      <td>0.747315</td>\n",
       "    </tr>\n",
       "    <tr>\n",
       "      <th>min</th>\n",
       "      <td>34900.000000</td>\n",
       "      <td>21.000000</td>\n",
       "      <td>1300.000000</td>\n",
       "      <td>0.000000</td>\n",
       "      <td>2.000000</td>\n",
       "      <td>0.000000</td>\n",
       "    </tr>\n",
       "    <tr>\n",
       "      <th>25%</th>\n",
       "      <td>129975.000000</td>\n",
       "      <td>59.000000</td>\n",
       "      <td>7553.500000</td>\n",
       "      <td>1.000000</td>\n",
       "      <td>5.000000</td>\n",
       "      <td>1.000000</td>\n",
       "    </tr>\n",
       "    <tr>\n",
       "      <th>50%</th>\n",
       "      <td>163000.000000</td>\n",
       "      <td>69.000000</td>\n",
       "      <td>9478.500000</td>\n",
       "      <td>2.000000</td>\n",
       "      <td>6.000000</td>\n",
       "      <td>2.000000</td>\n",
       "    </tr>\n",
       "    <tr>\n",
       "      <th>75%</th>\n",
       "      <td>214000.000000</td>\n",
       "      <td>80.000000</td>\n",
       "      <td>11601.500000</td>\n",
       "      <td>2.000000</td>\n",
       "      <td>7.000000</td>\n",
       "      <td>2.000000</td>\n",
       "    </tr>\n",
       "    <tr>\n",
       "      <th>max</th>\n",
       "      <td>755000.000000</td>\n",
       "      <td>313.000000</td>\n",
       "      <td>215245.000000</td>\n",
       "      <td>3.000000</td>\n",
       "      <td>14.000000</td>\n",
       "      <td>4.000000</td>\n",
       "    </tr>\n",
       "  </tbody>\n",
       "</table>\n",
       "</div>"
      ],
      "text/plain": [
       "           SalePrice  LotFrontage        LotArea     FullBath  TotRmsAbvGrd  \\\n",
       "count    1460.000000  1201.000000    1460.000000  1460.000000   1460.000000   \n",
       "mean   180921.195890    70.049958   10516.828082     1.565068      6.517808   \n",
       "std     79442.502883    24.284752    9981.264932     0.550916      1.625393   \n",
       "min     34900.000000    21.000000    1300.000000     0.000000      2.000000   \n",
       "25%    129975.000000    59.000000    7553.500000     1.000000      5.000000   \n",
       "50%    163000.000000    69.000000    9478.500000     2.000000      6.000000   \n",
       "75%    214000.000000    80.000000   11601.500000     2.000000      7.000000   \n",
       "max    755000.000000   313.000000  215245.000000     3.000000     14.000000   \n",
       "\n",
       "        GarageCars  \n",
       "count  1460.000000  \n",
       "mean      1.767123  \n",
       "std       0.747315  \n",
       "min       0.000000  \n",
       "25%       1.000000  \n",
       "50%       2.000000  \n",
       "75%       2.000000  \n",
       "max       4.000000  "
      ]
     },
     "execution_count": 91,
     "metadata": {},
     "output_type": "execute_result"
    }
   ],
   "source": [
    "data[['SalePrice','LotFrontage','LotArea','FullBath','TotRmsAbvGrd','GarageCars']].describe()"
   ]
  },
  {
   "cell_type": "markdown",
   "metadata": {},
   "source": [
    "**A continuación vamos a ver como hacer algunas gráficas con ayuda de la libreria [matplotlib](https://matplotlib.org/)**"
   ]
  },
  {
   "cell_type": "code",
   "execution_count": 59,
   "metadata": {},
   "outputs": [],
   "source": [
    "##pip install matplotlib\n",
    "import matplotlib.pyplot as plt"
   ]
  },
  {
   "cell_type": "markdown",
   "metadata": {},
   "source": [
    "- El primer ejemplo que vamos a ver es como realizar histogramas, en este caso vamos a ver como se distribuye los precios de los inmuebles para distintos tamaños de lotes"
   ]
  },
  {
   "cell_type": "code",
   "execution_count": null,
   "metadata": {},
   "outputs": [],
   "source": [
    "## &=y o=|"
   ]
  },
  {
   "cell_type": "code",
   "execution_count": 93,
   "metadata": {},
   "outputs": [],
   "source": [
    "b=data[(data['LotArea']<7553.500000)]\n",
    "a=data[(data['LotArea']>7553.500000)&(data['LotArea']<9478.500000)]\n",
    "c=data[(data['LotArea']>9478.500000)]"
   ]
  },
  {
   "cell_type": "code",
   "execution_count": 94,
   "metadata": {
    "collapsed": true,
    "jupyter": {
     "outputs_hidden": true
    },
    "tags": []
   },
   "outputs": [
    {
     "data": {
      "text/html": [
       "<div>\n",
       "<style scoped>\n",
       "    .dataframe tbody tr th:only-of-type {\n",
       "        vertical-align: middle;\n",
       "    }\n",
       "\n",
       "    .dataframe tbody tr th {\n",
       "        vertical-align: top;\n",
       "    }\n",
       "\n",
       "    .dataframe thead th {\n",
       "        text-align: right;\n",
       "    }\n",
       "</style>\n",
       "<table border=\"1\" class=\"dataframe\">\n",
       "  <thead>\n",
       "    <tr style=\"text-align: right;\">\n",
       "      <th></th>\n",
       "      <th>Id</th>\n",
       "      <th>MSSubClass</th>\n",
       "      <th>MSZoning</th>\n",
       "      <th>LotFrontage</th>\n",
       "      <th>LotArea</th>\n",
       "      <th>Street</th>\n",
       "      <th>Alley</th>\n",
       "      <th>LotShape</th>\n",
       "      <th>LandContour</th>\n",
       "      <th>Utilities</th>\n",
       "      <th>...</th>\n",
       "      <th>PoolQC</th>\n",
       "      <th>Fence</th>\n",
       "      <th>MiscFeature</th>\n",
       "      <th>MiscVal</th>\n",
       "      <th>MoSold</th>\n",
       "      <th>YrSold</th>\n",
       "      <th>SaleType</th>\n",
       "      <th>SaleCondition</th>\n",
       "      <th>SalePrice</th>\n",
       "      <th>precio_m2</th>\n",
       "    </tr>\n",
       "  </thead>\n",
       "  <tbody>\n",
       "    <tr>\n",
       "      <th>1</th>\n",
       "      <td>2</td>\n",
       "      <td>20</td>\n",
       "      <td>RL</td>\n",
       "      <td>80.0</td>\n",
       "      <td>9600</td>\n",
       "      <td>Pave</td>\n",
       "      <td>NaN</td>\n",
       "      <td>Reg</td>\n",
       "      <td>Lvl</td>\n",
       "      <td>AllPub</td>\n",
       "      <td>...</td>\n",
       "      <td>NaN</td>\n",
       "      <td>NaN</td>\n",
       "      <td>NaN</td>\n",
       "      <td>0</td>\n",
       "      <td>5</td>\n",
       "      <td>2007</td>\n",
       "      <td>WD</td>\n",
       "      <td>Normal</td>\n",
       "      <td>181500</td>\n",
       "      <td>18.906250</td>\n",
       "    </tr>\n",
       "    <tr>\n",
       "      <th>2</th>\n",
       "      <td>3</td>\n",
       "      <td>60</td>\n",
       "      <td>RL</td>\n",
       "      <td>68.0</td>\n",
       "      <td>11250</td>\n",
       "      <td>Pave</td>\n",
       "      <td>NaN</td>\n",
       "      <td>IR1</td>\n",
       "      <td>Lvl</td>\n",
       "      <td>AllPub</td>\n",
       "      <td>...</td>\n",
       "      <td>NaN</td>\n",
       "      <td>NaN</td>\n",
       "      <td>NaN</td>\n",
       "      <td>0</td>\n",
       "      <td>9</td>\n",
       "      <td>2008</td>\n",
       "      <td>WD</td>\n",
       "      <td>Normal</td>\n",
       "      <td>223500</td>\n",
       "      <td>19.866667</td>\n",
       "    </tr>\n",
       "    <tr>\n",
       "      <th>3</th>\n",
       "      <td>4</td>\n",
       "      <td>70</td>\n",
       "      <td>RL</td>\n",
       "      <td>60.0</td>\n",
       "      <td>9550</td>\n",
       "      <td>Pave</td>\n",
       "      <td>NaN</td>\n",
       "      <td>IR1</td>\n",
       "      <td>Lvl</td>\n",
       "      <td>AllPub</td>\n",
       "      <td>...</td>\n",
       "      <td>NaN</td>\n",
       "      <td>NaN</td>\n",
       "      <td>NaN</td>\n",
       "      <td>0</td>\n",
       "      <td>2</td>\n",
       "      <td>2006</td>\n",
       "      <td>WD</td>\n",
       "      <td>Abnorml</td>\n",
       "      <td>140000</td>\n",
       "      <td>14.659686</td>\n",
       "    </tr>\n",
       "    <tr>\n",
       "      <th>4</th>\n",
       "      <td>5</td>\n",
       "      <td>60</td>\n",
       "      <td>RL</td>\n",
       "      <td>84.0</td>\n",
       "      <td>14260</td>\n",
       "      <td>Pave</td>\n",
       "      <td>NaN</td>\n",
       "      <td>IR1</td>\n",
       "      <td>Lvl</td>\n",
       "      <td>AllPub</td>\n",
       "      <td>...</td>\n",
       "      <td>NaN</td>\n",
       "      <td>NaN</td>\n",
       "      <td>NaN</td>\n",
       "      <td>0</td>\n",
       "      <td>12</td>\n",
       "      <td>2008</td>\n",
       "      <td>WD</td>\n",
       "      <td>Normal</td>\n",
       "      <td>250000</td>\n",
       "      <td>17.531557</td>\n",
       "    </tr>\n",
       "    <tr>\n",
       "      <th>5</th>\n",
       "      <td>6</td>\n",
       "      <td>50</td>\n",
       "      <td>RL</td>\n",
       "      <td>85.0</td>\n",
       "      <td>14115</td>\n",
       "      <td>Pave</td>\n",
       "      <td>NaN</td>\n",
       "      <td>IR1</td>\n",
       "      <td>Lvl</td>\n",
       "      <td>AllPub</td>\n",
       "      <td>...</td>\n",
       "      <td>NaN</td>\n",
       "      <td>MnPrv</td>\n",
       "      <td>Shed</td>\n",
       "      <td>700</td>\n",
       "      <td>10</td>\n",
       "      <td>2009</td>\n",
       "      <td>WD</td>\n",
       "      <td>Normal</td>\n",
       "      <td>143000</td>\n",
       "      <td>10.131066</td>\n",
       "    </tr>\n",
       "    <tr>\n",
       "      <th>...</th>\n",
       "      <td>...</td>\n",
       "      <td>...</td>\n",
       "      <td>...</td>\n",
       "      <td>...</td>\n",
       "      <td>...</td>\n",
       "      <td>...</td>\n",
       "      <td>...</td>\n",
       "      <td>...</td>\n",
       "      <td>...</td>\n",
       "      <td>...</td>\n",
       "      <td>...</td>\n",
       "      <td>...</td>\n",
       "      <td>...</td>\n",
       "      <td>...</td>\n",
       "      <td>...</td>\n",
       "      <td>...</td>\n",
       "      <td>...</td>\n",
       "      <td>...</td>\n",
       "      <td>...</td>\n",
       "      <td>...</td>\n",
       "      <td>...</td>\n",
       "    </tr>\n",
       "    <tr>\n",
       "      <th>1448</th>\n",
       "      <td>1449</td>\n",
       "      <td>50</td>\n",
       "      <td>RL</td>\n",
       "      <td>70.0</td>\n",
       "      <td>11767</td>\n",
       "      <td>Pave</td>\n",
       "      <td>NaN</td>\n",
       "      <td>Reg</td>\n",
       "      <td>Lvl</td>\n",
       "      <td>AllPub</td>\n",
       "      <td>...</td>\n",
       "      <td>NaN</td>\n",
       "      <td>GdWo</td>\n",
       "      <td>NaN</td>\n",
       "      <td>0</td>\n",
       "      <td>5</td>\n",
       "      <td>2007</td>\n",
       "      <td>WD</td>\n",
       "      <td>Normal</td>\n",
       "      <td>112000</td>\n",
       "      <td>9.518144</td>\n",
       "    </tr>\n",
       "    <tr>\n",
       "      <th>1453</th>\n",
       "      <td>1454</td>\n",
       "      <td>20</td>\n",
       "      <td>RL</td>\n",
       "      <td>90.0</td>\n",
       "      <td>17217</td>\n",
       "      <td>Pave</td>\n",
       "      <td>NaN</td>\n",
       "      <td>Reg</td>\n",
       "      <td>Lvl</td>\n",
       "      <td>AllPub</td>\n",
       "      <td>...</td>\n",
       "      <td>NaN</td>\n",
       "      <td>NaN</td>\n",
       "      <td>NaN</td>\n",
       "      <td>0</td>\n",
       "      <td>7</td>\n",
       "      <td>2006</td>\n",
       "      <td>WD</td>\n",
       "      <td>Abnorml</td>\n",
       "      <td>84500</td>\n",
       "      <td>4.907940</td>\n",
       "    </tr>\n",
       "    <tr>\n",
       "      <th>1456</th>\n",
       "      <td>1457</td>\n",
       "      <td>20</td>\n",
       "      <td>RL</td>\n",
       "      <td>85.0</td>\n",
       "      <td>13175</td>\n",
       "      <td>Pave</td>\n",
       "      <td>NaN</td>\n",
       "      <td>Reg</td>\n",
       "      <td>Lvl</td>\n",
       "      <td>AllPub</td>\n",
       "      <td>...</td>\n",
       "      <td>NaN</td>\n",
       "      <td>MnPrv</td>\n",
       "      <td>NaN</td>\n",
       "      <td>0</td>\n",
       "      <td>2</td>\n",
       "      <td>2010</td>\n",
       "      <td>WD</td>\n",
       "      <td>Normal</td>\n",
       "      <td>210000</td>\n",
       "      <td>15.939279</td>\n",
       "    </tr>\n",
       "    <tr>\n",
       "      <th>1458</th>\n",
       "      <td>1459</td>\n",
       "      <td>20</td>\n",
       "      <td>RL</td>\n",
       "      <td>68.0</td>\n",
       "      <td>9717</td>\n",
       "      <td>Pave</td>\n",
       "      <td>NaN</td>\n",
       "      <td>Reg</td>\n",
       "      <td>Lvl</td>\n",
       "      <td>AllPub</td>\n",
       "      <td>...</td>\n",
       "      <td>NaN</td>\n",
       "      <td>NaN</td>\n",
       "      <td>NaN</td>\n",
       "      <td>0</td>\n",
       "      <td>4</td>\n",
       "      <td>2010</td>\n",
       "      <td>WD</td>\n",
       "      <td>Normal</td>\n",
       "      <td>142125</td>\n",
       "      <td>14.626428</td>\n",
       "    </tr>\n",
       "    <tr>\n",
       "      <th>1459</th>\n",
       "      <td>1460</td>\n",
       "      <td>20</td>\n",
       "      <td>RL</td>\n",
       "      <td>75.0</td>\n",
       "      <td>9937</td>\n",
       "      <td>Pave</td>\n",
       "      <td>NaN</td>\n",
       "      <td>Reg</td>\n",
       "      <td>Lvl</td>\n",
       "      <td>AllPub</td>\n",
       "      <td>...</td>\n",
       "      <td>NaN</td>\n",
       "      <td>NaN</td>\n",
       "      <td>NaN</td>\n",
       "      <td>0</td>\n",
       "      <td>6</td>\n",
       "      <td>2008</td>\n",
       "      <td>WD</td>\n",
       "      <td>Normal</td>\n",
       "      <td>147500</td>\n",
       "      <td>14.843514</td>\n",
       "    </tr>\n",
       "  </tbody>\n",
       "</table>\n",
       "<p>730 rows × 82 columns</p>\n",
       "</div>"
      ],
      "text/plain": [
       "        Id  MSSubClass MSZoning  LotFrontage  LotArea Street Alley LotShape  \\\n",
       "1        2          20       RL         80.0     9600   Pave   NaN      Reg   \n",
       "2        3          60       RL         68.0    11250   Pave   NaN      IR1   \n",
       "3        4          70       RL         60.0     9550   Pave   NaN      IR1   \n",
       "4        5          60       RL         84.0    14260   Pave   NaN      IR1   \n",
       "5        6          50       RL         85.0    14115   Pave   NaN      IR1   \n",
       "...    ...         ...      ...          ...      ...    ...   ...      ...   \n",
       "1448  1449          50       RL         70.0    11767   Pave   NaN      Reg   \n",
       "1453  1454          20       RL         90.0    17217   Pave   NaN      Reg   \n",
       "1456  1457          20       RL         85.0    13175   Pave   NaN      Reg   \n",
       "1458  1459          20       RL         68.0     9717   Pave   NaN      Reg   \n",
       "1459  1460          20       RL         75.0     9937   Pave   NaN      Reg   \n",
       "\n",
       "     LandContour Utilities  ... PoolQC  Fence MiscFeature MiscVal MoSold  \\\n",
       "1            Lvl    AllPub  ...    NaN    NaN         NaN       0      5   \n",
       "2            Lvl    AllPub  ...    NaN    NaN         NaN       0      9   \n",
       "3            Lvl    AllPub  ...    NaN    NaN         NaN       0      2   \n",
       "4            Lvl    AllPub  ...    NaN    NaN         NaN       0     12   \n",
       "5            Lvl    AllPub  ...    NaN  MnPrv        Shed     700     10   \n",
       "...          ...       ...  ...    ...    ...         ...     ...    ...   \n",
       "1448         Lvl    AllPub  ...    NaN   GdWo         NaN       0      5   \n",
       "1453         Lvl    AllPub  ...    NaN    NaN         NaN       0      7   \n",
       "1456         Lvl    AllPub  ...    NaN  MnPrv         NaN       0      2   \n",
       "1458         Lvl    AllPub  ...    NaN    NaN         NaN       0      4   \n",
       "1459         Lvl    AllPub  ...    NaN    NaN         NaN       0      6   \n",
       "\n",
       "     YrSold SaleType  SaleCondition  SalePrice  precio_m2  \n",
       "1      2007       WD         Normal     181500  18.906250  \n",
       "2      2008       WD         Normal     223500  19.866667  \n",
       "3      2006       WD        Abnorml     140000  14.659686  \n",
       "4      2008       WD         Normal     250000  17.531557  \n",
       "5      2009       WD         Normal     143000  10.131066  \n",
       "...     ...      ...            ...        ...        ...  \n",
       "1448   2007       WD         Normal     112000   9.518144  \n",
       "1453   2006       WD        Abnorml      84500   4.907940  \n",
       "1456   2010       WD         Normal     210000  15.939279  \n",
       "1458   2010       WD         Normal     142125  14.626428  \n",
       "1459   2008       WD         Normal     147500  14.843514  \n",
       "\n",
       "[730 rows x 82 columns]"
      ]
     },
     "execution_count": 94,
     "metadata": {},
     "output_type": "execute_result"
    }
   ],
   "source": [
    "c"
   ]
  },
  {
   "cell_type": "code",
   "execution_count": 78,
   "metadata": {},
   "outputs": [
    {
     "data": {
      "image/png": "[encoded data removed]",
      "text/plain": [
       "<Figure size 432x288 with 1 Axes>"
      ]
     },
     "metadata": {
      "needs_background": "light"
     },
     "output_type": "display_data"
    }
   ],
   "source": [
    "fig, ax = plt.subplots()\n",
    "kwargs = dict(histtype='stepfilled', alpha=0.3,  bins=40)\n",
    "\n",
    "ax.hist(b['SalePrice'], **kwargs)\n",
    "ax.hist(c['SalePrice'], **kwargs)\n",
    "ax.hist(a['SalePrice'], **kwargs)\n",
    "\n",
    "fig.savefig(\"histogramas.png\")"
   ]
  },
  {
   "cell_type": "code",
   "execution_count": 87,
   "metadata": {},
   "outputs": [
    {
     "data": {
      "image/png": "[encoded data removed]",
      "text/plain": [
       "<Figure size 432x288 with 1 Axes>"
      ]
     },
     "metadata": {
      "needs_background": "light"
     },
     "output_type": "display_data"
    }
   ],
   "source": [
    "fig, ax = plt.subplots()\n",
    "ax.scatter(data['LotArea'],data['SalePrice'], c=\"g\", alpha=0.5, marker=r'$\\clubsuit$',\n",
    "            label=\"Luck\") \n",
    "ax.set(xlabel='Area lote', ylabel='Precio Inmueble',\n",
    "       title='Area Lote vs precio inmueble')\n",
    "ax.grid()\n",
    "fig.savefig(\"scatter.png\")"
   ]
  },
  {
   "cell_type": "markdown",
   "metadata": {},
   "source": [
    "**Guardar bases de datos**"
   ]
  },
  {
   "cell_type": "code",
   "execution_count": null,
   "metadata": {},
   "outputs": [],
   "source": [
    "##data.to_excel('nombre_archivo.xlsx')\n",
    "##data.to_csv('nombre_archivo.csv')\n",
    "##data.to_pickle('nombre_archivo.pkl')"
   ]
  },
  {
   "cell_type": "markdown",
   "metadata": {},
   "source": [
    "## **Functional forms and box-cox**"
   ]
  },
  {
   "cell_type": "code",
   "execution_count": 83,
   "metadata": {},
   "outputs": [],
   "source": [
    "data=pd.read_csv('train.csv')"
   ]
  },
  {
   "cell_type": "markdown",
   "metadata": {},
   "source": [
    "- Supose we want to estimate a lin-lin linear regresion that relates the sale price of an aparment and its area and garage area"
   ]
  },
  {
   "cell_type": "code",
   "execution_count": 19,
   "metadata": {},
   "outputs": [
    {
     "data": {
      "text/plain": [
       "LinearRegression()"
      ]
     },
     "execution_count": 19,
     "metadata": {},
     "output_type": "execute_result"
    }
   ],
   "source": [
    "from sklearn import linear_model\n",
    "import statsmodels.api as sm\n",
    "from scipy import stats\n",
    "X = data[['LotArea','GarageArea']] \n",
    "Y = data['SalePrice'] \n",
    "regr = linear_model.LinearRegression()\n",
    "regr.fit(X, Y)"
   ]
  },
  {
   "cell_type": "code",
   "execution_count": 24,
   "metadata": {},
   "outputs": [
    {
     "data": {
      "text/plain": [
       "63221.052205943124"
      ]
     },
     "execution_count": 24,
     "metadata": {},
     "output_type": "execute_result"
    }
   ],
   "source": [
    "regr.intercept_"
   ]
  },
  {
   "cell_type": "code",
   "execution_count": 23,
   "metadata": {},
   "outputs": [
    {
     "data": {
      "text/plain": [
       "array([  1.24534492, 221.15741677])"
      ]
     },
     "execution_count": 23,
     "metadata": {},
     "output_type": "execute_result"
    }
   ],
   "source": [
    "regr.coef_"
   ]
  },
  {
   "cell_type": "markdown",
   "metadata": {},
   "source": [
    "- Supose you want to estimate this particular model but in a log-lin form. What would be this model interpretation?"
   ]
  },
  {
   "cell_type": "code",
   "execution_count": 41,
   "metadata": {},
   "outputs": [],
   "source": [
    "data['log_SalePrice'] = np.log2(data['SalePrice'])"
   ]
  },
  {
   "cell_type": "code",
   "execution_count": 26,
   "metadata": {},
   "outputs": [
    {
     "data": {
      "text/plain": [
       "LinearRegression()"
      ]
     },
     "execution_count": 26,
     "metadata": {},
     "output_type": "execute_result"
    }
   ],
   "source": [
    "X = data[['LotArea','GarageArea']] \n",
    "Y = data['log_SalePrice'] \n",
    "regr1 = linear_model.LinearRegression()\n",
    "regr1.fit(X, Y)"
   ]
  },
  {
   "cell_type": "code",
   "execution_count": 28,
   "metadata": {},
   "outputs": [
    {
     "data": {
      "text/plain": [
       "array([8.34899429e-06, 1.68408062e-03])"
      ]
     },
     "execution_count": 28,
     "metadata": {},
     "output_type": "execute_result"
    }
   ],
   "source": [
    "regr1.coef_"
   ]
  },
  {
   "cell_type": "markdown",
   "metadata": {},
   "source": [
    "- What about the log-log form?. What would be this model interpretation?"
   ]
  },
  {
   "cell_type": "code",
   "execution_count": 47,
   "metadata": {},
   "outputs": [],
   "source": [
    "data=data.dropna(subset=['LotArea','GarageArea'])\n",
    "data=data[(data['LotArea']!=0)&(data['GarageArea']!=0)]"
   ]
  },
  {
   "cell_type": "code",
   "execution_count": 50,
   "metadata": {},
   "outputs": [],
   "source": [
    "data['log_LotArea'] = np.log2(data['LotArea'])\n",
    "data['log_GarageArea'] = np.log2(data['GarageArea'])"
   ]
  },
  {
   "cell_type": "code",
   "execution_count": 51,
   "metadata": {},
   "outputs": [
    {
     "data": {
      "text/plain": [
       "LinearRegression()"
      ]
     },
     "execution_count": 51,
     "metadata": {},
     "output_type": "execute_result"
    }
   ],
   "source": [
    "X = data[['log_LotArea','log_GarageArea']] \n",
    "Y = data['log_SalePrice'] \n",
    "regr2 = linear_model.LinearRegression()\n",
    "regr2.fit(X, Y)"
   ]
  },
  {
   "cell_type": "code",
   "execution_count": 52,
   "metadata": {},
   "outputs": [
    {
     "data": {
      "text/plain": [
       "array([0.16373529, 0.54881774])"
      ]
     },
     "execution_count": 52,
     "metadata": {},
     "output_type": "execute_result"
    }
   ],
   "source": [
    "regr2.coef_"
   ]
  },
  {
   "cell_type": "markdown",
   "metadata": {},
   "source": [
    "- **Box cox**: Let´s say you are suspicious about  the distribution of the variable SalePrice, so you want to use boxcox transformation to ensure a distribution that looks more like a normal distribution. Remeber that boxcox transformation finds the $\\lambda$ that maximazes the log likelihood, and uses this lambda to perform the following transformation of a given variable:\n",
    "$$ \\begin{eqnarray}\n",
    "x(\\lambda) & = &  \\frac{x^\\lambda -1}{\\lambda}  \\,\\,\\,\\,\\, & \\lambda \\ne 0 \\\\\n",
    "x(\\lambda) & = & \\mbox{ln}(x) & \\lambda = 0 \\, .\n",
    "\\end{eqnarray} $$"
   ]
  },
  {
   "cell_type": "code",
   "execution_count": 84,
   "metadata": {},
   "outputs": [],
   "source": [
    "data=data.dropna(subset=['SalePrice'])\n",
    "data=data[(data['SalePrice']!=0)]"
   ]
  },
  {
   "cell_type": "code",
   "execution_count": 85,
   "metadata": {},
   "outputs": [],
   "source": [
    "t, Max_MLE = stats.boxcox(data['SalePrice'])"
   ]
  },
  {
   "cell_type": "code",
   "execution_count": 86,
   "metadata": {},
   "outputs": [
    {
     "data": {
      "text/plain": [
       "-0.07692391328663316"
      ]
     },
     "execution_count": 86,
     "metadata": {},
     "output_type": "execute_result"
    }
   ],
   "source": [
    "Max_MLE"
   ]
  },
  {
   "cell_type": "code",
   "execution_count": 87,
   "metadata": {},
   "outputs": [
    {
     "data": {
      "text/plain": [
       "<matplotlib.lines.Line2D at 0x253464054c0>"
      ]
     },
     "execution_count": 87,
     "metadata": {},
     "output_type": "execute_result"
    },
    {
     "data": {
      "image/png": "[encoded data removed]",
      "text/plain": [
       "<Figure size 432x288 with 1 Axes>"
      ]
     },
     "metadata": {
      "needs_background": "light"
     },
     "output_type": "display_data"
    }
   ],
   "source": [
    "fig = plt.figure()\n",
    "ax = fig.add_subplot(111)\n",
    "prob = stats.boxcox_normplot(data['SalePrice'], -1, 1, plot=ax)\n",
    "ax.axvline(Max_MLE, color='r')"
   ]
  },
  {
   "cell_type": "code",
   "execution_count": 79,
   "metadata": {},
   "outputs": [
    {
     "data": {
      "text/plain": [
       "LinearRegression()"
      ]
     },
     "execution_count": 79,
     "metadata": {},
     "output_type": "execute_result"
    }
   ],
   "source": [
    "Y=data['SalePrice']**lmax_mle\n",
    "X = data[['LotArea','GarageArea']] \n",
    "\n",
    "regr3 = linear_model.LinearRegression()\n",
    "regr3.fit(X, Y)"
   ]
  },
  {
   "cell_type": "code",
   "execution_count": 80,
   "metadata": {},
   "outputs": [
    {
     "data": {
      "text/plain": [
       "array([-9.41114039e-08, -2.05785132e-05])"
      ]
     },
     "execution_count": 80,
     "metadata": {},
     "output_type": "execute_result"
    }
   ],
   "source": [
    "regr3.coef_"
   ]
  },
  {
   "cell_type": "markdown",
   "metadata": {},
   "source": [
    "## While Statement, it's highly recommended to use recursion instead!"
   ]
  },
  {
   "cell_type": "code",
   "execution_count": 113,
   "metadata": {},
   "outputs": [],
   "source": [
    "u=0\n",
    "la=1\n",
    "p=0\n",
    "while u==0:\n",
    "    la+=p\n",
    "    p+=1\n",
    "    if p==10:\n",
    "        u=1\n",
    "    \n",
    "    "
   ]
  },
  {
   "cell_type": "markdown",
   "metadata": {},
   "source": [
    "## **For loops**\n",
    "- Un for loop es un procedimiento donde se le aplica una función determinada a unos objetos determinados. Estos objetos pueden ser los objetos que constituyen una lista, un DataFrame, etc. Un ejemplo que permite entender claramente la dinámica de un for loop es una sumatoria.El siguiente ejemplo muestra como resolver mediante un loop la siguiente operación:\n",
    "$ \\sum \\limits _{i=1} ^{10} i$"
   ]
  },
  {
   "cell_type": "code",
   "execution_count": 25,
   "metadata": {},
   "outputs": [
    {
     "name": "stdout",
     "output_type": "stream",
     "text": [
      "1\n",
      "3\n",
      "6\n",
      "10\n",
      "15\n",
      "21\n",
      "28\n",
      "36\n",
      "45\n",
      "55\n"
     ]
    }
   ],
   "source": [
    "a=0\n",
    "for i in range(1,11):\n",
    "    a+=i\n",
    "    print(a)\n",
    "\n",
    "    "
   ]
  },
  {
   "cell_type": "markdown",
   "metadata": {},
   "source": [
    "En el anterior ejemplo se ve como se puede usar el comando range para delimitar el rango por el cual se quiere iterar. El límite derecho de este rango no se toma. Ahora, supongamos que tenemos una lista de strings de donde queremos sacar un substring, en este caso tenemos string que contiene dentro un precio el cual queremos tener como un integrer. Este tipo de procedimientos es muy frecuente en la construcción de bases de datos\n"
   ]
  },
  {
   "cell_type": "code",
   "execution_count": 25,
   "metadata": {},
   "outputs": [
    {
     "name": "stderr",
     "output_type": "stream",
     "text": [
      "100%|██████████| 7/7 [00:00<?, ?it/s]\n"
     ]
    },
    {
     "data": {
      "text/plain": [
       "[12222, 55000, 77223, 89545, 123656, 99878]"
      ]
     },
     "execution_count": 25,
     "metadata": {},
     "output_type": "execute_result"
    }
   ],
   "source": [
    "from tqdm import tqdm\n",
    "lista=['precio:12.222','precio:55.000','precio:77.223','cio:89.545','precio:123.656','fhdjs','precio:99.878']\n",
    "precios=[]\n",
    "for i in tqdm(lista):\n",
    "    try:\n",
    "        precios.append(int(i.split(':')[1].replace('.','')))\n",
    "    except:pass\n",
    "    \n",
    "precios"
   ]
  },
  {
   "cell_type": "markdown",
   "metadata": {},
   "source": [
    "- En este ejemplo quise ejemplificar el uso del comando **tqdm**. Este comando permite ver cuanto tiempo se demora cada iteración. En el ejemplo anterior no es muy relevante pues las iteraciones son rapidas y son pocas, pero esto puede ser muy util a la hora de tener procesos largos para estimar el tiempo que estos tomaran. Por otro lado, también se muestra el uso del comando **try**. Este es usado cuando en una de las iteraciones no se puede llevar a cabo el procedimiento establecido, con el fin de que el proceso general no se detenga\n",
    "- En el siguiente ejemplo quiero mostrar porque el uso de for loops no es muy eficiente, por lo cual debe intentarse buscar una solución alternativa de ser posible, aunque no siempre lo es. En los casos donde no lo es, recomiendo usar paralelismo, sobre todo trabajando bases de datos grandes, tema del que hablare levemente la clase que viene"
   ]
  },
  {
   "cell_type": "code",
   "execution_count": 12,
   "metadata": {},
   "outputs": [],
   "source": [
    "import random"
   ]
  },
  {
   "cell_type": "code",
   "execution_count": 21,
   "metadata": {},
   "outputs": [],
   "source": [
    "pp=[]\n",
    "hh=[]\n",
    "for i in range(0,10000000):\n",
    "    pp.append(random.uniform(200,1000))\n",
    "    hh.append(random.uniform(200,1000))"
   ]
  },
  {
   "cell_type": "markdown",
   "metadata": {},
   "source": [
    "-Aquí tienen un ejemplo de como convertir listas de la misma longitud en un DataFrame"
   ]
  },
  {
   "cell_type": "code",
   "execution_count": 22,
   "metadata": {},
   "outputs": [],
   "source": [
    "d={'pp':pp,'aa':hh}\n",
    "data=pd.DataFrame(d)"
   ]
  },
  {
   "cell_type": "code",
   "execution_count": 23,
   "metadata": {},
   "outputs": [
    {
     "name": "stdout",
     "output_type": "stream",
     "text": [
      "Wall time: 38.4 ms\n"
     ]
    }
   ],
   "source": [
    "%%time\n",
    "data['yy']=data['aa']+data['pp']"
   ]
  },
  {
   "cell_type": "code",
   "execution_count": 24,
   "metadata": {},
   "outputs": [
    {
     "name": "stdout",
     "output_type": "stream",
     "text": [
      "Wall time: 2 s\n"
     ]
    }
   ],
   "source": [
    "%%time\n",
    "ej=[]\n",
    "for i in range(0,len(pp)):\n",
    "    ej.append(pp[i]+hh[i])"
   ]
  },
  {
   "cell_type": "markdown",
   "metadata": {},
   "source": [
    "El anterior ejemplo pretendía generar una lista que fuera el resultado de la suma de dos listas en cada posición. Como vemos, Pandas logra resolver este problema mucha más rápido, al convertirlo en una suma de vectores."
   ]
  },
  {
   "cell_type": "markdown",
   "metadata": {},
   "source": [
    "En algunos casos es más eficiente solucionar problemas para los cuales se quiera iterar por medio **recursión**. [Dejo este enlace para quien esté interesado](https://hackernoon.com/recursion-vs-looping-in-python-9261442f70a5)"
   ]
  },
  {
   "cell_type": "markdown",
   "metadata": {},
   "source": [
    "## **Funciones**\n"
   ]
  },
  {
   "cell_type": "code",
   "execution_count": 26,
   "metadata": {},
   "outputs": [],
   "source": [
    "def Fahrenheit_Celsius(lista,x):\n",
    "    traduccion=[]\n",
    "    if x=='f':\n",
    "        for i in lista:\n",
    "            traduccion.append((i-32)* 5/9) \n",
    "    elif x=='c':\n",
    "        for i in lista:\n",
    "            traduccion.append(( i* 9/5) + 32 )\n",
    "    return traduccion\n",
    "    \n",
    "        "
   ]
  },
  {
   "cell_type": "code",
   "execution_count": 30,
   "metadata": {},
   "outputs": [],
   "source": [
    "l=[100,150,200]\n",
    "a=Fahrenheit_Celsius(l,'c')\n",
    "    "
   ]
  },
  {
   "cell_type": "markdown",
   "metadata": {},
   "source": [
    "**Función para calcular los estimadores de MCO**"
   ]
  },
  {
   "cell_type": "code",
   "execution_count": 32,
   "metadata": {},
   "outputs": [],
   "source": [
    "data=pd.read_csv('train.csv')"
   ]
  },
  {
   "cell_type": "code",
   "execution_count": 34,
   "metadata": {},
   "outputs": [
    {
     "data": {
      "text/plain": [
       "1460"
      ]
     },
     "execution_count": 34,
     "metadata": {},
     "output_type": "execute_result"
    }
   ],
   "source": [
    "data.shape[0]"
   ]
  },
  {
   "cell_type": "code",
   "execution_count": 38,
   "metadata": {},
   "outputs": [],
   "source": [
    "def MCO(data, Y, X):\n",
    "    la=X.append(Y)\n",
    "    data=data.dropna(subset=X)\n",
    "    Y1=data[Y].to_numpy()\n",
    "    X1=data[X].to_numpy()\n",
    "    l=Y1.shape[0]\n",
    "    v = np.ones((l, 1))\n",
    "    X2 = np.c_[v, X1]\n",
    "    beta_estimados = np.linalg.inv(X2.T @ X2) @ X2.T @ Y1\n",
    "    return beta_estimados"
   ]
  },
  {
   "cell_type": "code",
   "execution_count": 39,
   "metadata": {},
   "outputs": [],
   "source": [
    "a=MCO(data,'SalePrice',['LotFrontage','LotArea','FullBath','TotRmsAbvGrd','GarageCars'])"
   ]
  },
  {
   "cell_type": "markdown",
   "metadata": {},
   "source": [
    "## **Diccionarios**"
   ]
  },
  {
   "cell_type": "markdown",
   "metadata": {},
   "source": [
    "Los diccionarios son un tipo de dato con el cual se puede relacionar un **key** con su imagen. Son utiles cuando se quiere relacionar una palabra con un valor en específico. Por ejemplo, si se quiere relacionar algunas personas con su edad, se podría pensar en algo como lo siguiente.\n"
   ]
  },
  {
   "cell_type": "code",
   "execution_count": 41,
   "metadata": {},
   "outputs": [],
   "source": [
    "data={}\n",
    "data['Rafael']=23\n",
    "data['Daniela']=44\n",
    "data['Jesus']=33"
   ]
  },
  {
   "cell_type": "code",
   "execution_count": 42,
   "metadata": {},
   "outputs": [
    {
     "data": {
      "text/plain": [
       "{'Rafael': 23, 'Daniela': 44, 'Jesus': 33}"
      ]
     },
     "execution_count": 42,
     "metadata": {},
     "output_type": "execute_result"
    }
   ],
   "source": [
    "data"
   ]
  },
  {
   "cell_type": "code",
   "execution_count": 44,
   "metadata": {},
   "outputs": [
    {
     "data": {
      "text/plain": [
       "23"
      ]
     },
     "execution_count": 44,
     "metadata": {},
     "output_type": "execute_result"
    }
   ],
   "source": [
    "data['Rafael']"
   ]
  },
  {
   "cell_type": "markdown",
   "metadata": {},
   "source": [
    "Los diccionarios no permiten acceder a objetos dentro de ellos por medio de la posición de este objeto en el diccionario, como si ocurre con las listas. Tampoco permiten duplicados.\n"
   ]
  },
  {
   "cell_type": "code",
   "execution_count": 43,
   "metadata": {},
   "outputs": [
    {
     "ename": "KeyError",
     "evalue": "0",
     "output_type": "error",
     "traceback": [
      "\u001b[1;31m---------------------------------------------------------------------------\u001b[0m",
      "\u001b[1;31mKeyError\u001b[0m                                  Traceback (most recent call last)",
      "\u001b[1;32m<ipython-input-43-80a4aab09c73>\u001b[0m in \u001b[0;36m<module>\u001b[1;34m\u001b[0m\n\u001b[1;32m----> 1\u001b[1;33m \u001b[0mdata\u001b[0m\u001b[1;33m[\u001b[0m\u001b[1;36m0\u001b[0m\u001b[1;33m]\u001b[0m\u001b[1;33m\u001b[0m\u001b[1;33m\u001b[0m\u001b[0m\n\u001b[0m",
      "\u001b[1;31mKeyError\u001b[0m: 0"
     ]
    }
   ],
   "source": [
    "data[0]"
   ]
  },
  {
   "cell_type": "markdown",
   "metadata": {},
   "source": [
    "Los diccionarios son muy utiles para ciertos procesos en programación, como veremos más adelante. Un tip que puede ser de utilidad es que pandas tiene programado en si una manera de convertir una lista de diccinarios en un DataFrame. Para mostrar esto, generare aleatorioamente una serie de diccinarios con características de algunas personas"
   ]
  },
  {
   "cell_type": "code",
   "execution_count": 45,
   "metadata": {},
   "outputs": [
    {
     "name": "stderr",
     "output_type": "stream",
     "text": [
      "100%|██████████| 10000/10000 [00:00<00:00, 28033.57it/s]\n"
     ]
    },
    {
     "name": "stdout",
     "output_type": "stream",
     "text": [
      "Wall time: 360 ms\n"
     ]
    }
   ],
   "source": [
    "%%time\n",
    "datas=[]\n",
    "a=0\n",
    "for i in tqdm(range(0,10000)): \n",
    "    a+=1\n",
    "    data={}\n",
    "    data['id']=a ##Es importante tener un identificador unico por cada individuo\n",
    "    data['altura']=random.normalvariate(1.66, 0.3)##se genera una observación aleatoria de una distribución normal con media y varianza definidas\n",
    "    data['peso']=random.normalvariate(56, 0.3)\n",
    "    datas.append(data)\n",
    "    \n",
    "    "
   ]
  },
  {
   "cell_type": "code",
   "execution_count": 51,
   "metadata": {},
   "outputs": [],
   "source": [
    "data=pd.DataFrame(datas)"
   ]
  },
  {
   "cell_type": "markdown",
   "metadata": {},
   "source": [
    "## **Progamación en paralelo**"
   ]
  },
  {
   "cell_type": "code",
   "execution_count": 59,
   "metadata": {},
   "outputs": [],
   "source": [
    "from multiprocessing.dummy import Pool\n",
    "from multiprocessing import cpu_count"
   ]
  },
  {
   "cell_type": "markdown",
   "metadata": {},
   "source": [
    "- Un ejemplo de cuando podría ser de utilidad un usar programación en paralelo es cuando se tiene un proceso iterativo, en el cual cada iteración no requiere la totalidad de la capacidad de procesamiento de la maquina en la cual corre. En este caso, pensar en poder realizar varias de estas iteraciones al mismo tiempo, o en paralelo, podría hacer los procesos mucho más eficientes. En esta clase vamos a ver una manera de aplicar programación el paralelo con la función pool.map() de la libreria multiprocessing"
   ]
  },
  {
   "cell_type": "code",
   "execution_count": 60,
   "metadata": {},
   "outputs": [
    {
     "data": {
      "text/plain": [
       "12"
      ]
     },
     "execution_count": 60,
     "metadata": {},
     "output_type": "execute_result"
    }
   ],
   "source": [
    "##Este comando permite ver la cantidad de cpu´s de la máquina, la libreria recomienda que el número de cpu´s sea igual al número procesos paralelos\n",
    "cpu_count()"
   ]
  },
  {
   "cell_type": "code",
   "execution_count": 61,
   "metadata": {},
   "outputs": [],
   "source": [
    "strings=[]\n",
    "a=0\n",
    "li=random.uniform(200,1000)\n",
    "for i in range(0,1000000):\n",
    "    a+=0\n",
    "    if a==li:\n",
    "        li=random.uniform(200,1000)\n",
    "        a=0\n",
    "        strings.append('sdfasdf')\n",
    "    else:\n",
    "        strings.append('precio:'+' '+str(random.uniform(200,1000)))"
   ]
  },
  {
   "cell_type": "code",
   "execution_count": 62,
   "metadata": {
    "collapsed": true,
    "jupyter": {
     "outputs_hidden": true
    }
   },
   "outputs": [
    {
     "data": {
      "text/plain": [
       "['precio: 205.08002371707903',\n",
       " 'precio: 828.6148335548497',\n",
       " 'precio: 381.7800660984898',\n",
       " 'precio: 559.9543094151692',\n",
       " 'precio: 416.7939264054577',\n",
       " 'precio: 311.8759192501002',\n",
       " 'precio: 522.960049506994',\n",
       " 'precio: 661.066238498815',\n",
       " 'precio: 870.678477938879',\n",
       " 'precio: 337.09654631902123',\n",
       " 'precio: 223.70200086491278',\n",
       " 'precio: 632.7530195349835',\n",
       " 'precio: 517.9883762958757',\n",
       " 'precio: 733.6990746210578',\n",
       " 'precio: 288.4326204353294',\n",
       " 'precio: 653.3017119119415',\n",
       " 'precio: 475.4481758344659',\n",
       " 'precio: 693.3817560298174',\n",
       " 'precio: 943.285230145734',\n",
       " 'precio: 961.0114737902326',\n",
       " 'precio: 926.3113301176472',\n",
       " 'precio: 721.9246099268055',\n",
       " 'precio: 541.5355689029548',\n",
       " 'precio: 420.24010891289015',\n",
       " 'precio: 297.7912486299859',\n",
       " 'precio: 437.6962109913761',\n",
       " 'precio: 321.0273808687533',\n",
       " 'precio: 534.0006721626148',\n",
       " 'precio: 846.5315640879759',\n",
       " 'precio: 535.6828846253499',\n",
       " 'precio: 778.4020804347452',\n",
       " 'precio: 400.63036558383544',\n",
       " 'precio: 487.20941533105287',\n",
       " 'precio: 962.4375162362546',\n",
       " 'precio: 256.81639628472146',\n",
       " 'precio: 736.6465573662191',\n",
       " 'precio: 782.1102511843108',\n",
       " 'precio: 844.6799123475278',\n",
       " 'precio: 504.04588284265833',\n",
       " 'precio: 915.9343353899931',\n",
       " 'precio: 982.2646469867732',\n",
       " 'precio: 579.4249655186845',\n",
       " 'precio: 547.3370741835814',\n",
       " 'precio: 553.8738360733128',\n",
       " 'precio: 673.9822849748062',\n",
       " 'precio: 558.1361690203696',\n",
       " 'precio: 495.9549428627581',\n",
       " 'precio: 653.2806618934874',\n",
       " 'precio: 734.1328726222401',\n",
       " 'precio: 523.8834837149791',\n",
       " 'precio: 364.47765645727225',\n",
       " 'precio: 744.6496635187151',\n",
       " 'precio: 640.1036134101004',\n",
       " 'precio: 954.5469028590152',\n",
       " 'precio: 353.29869295819395',\n",
       " 'precio: 946.9965067236186',\n",
       " 'precio: 549.8347500429531',\n",
       " 'precio: 292.7049926975858',\n",
       " 'precio: 468.99352760152556',\n",
       " 'precio: 519.2224373961833',\n",
       " 'precio: 224.78857659966476',\n",
       " 'precio: 669.6548385146042',\n",
       " 'precio: 679.1110790347296',\n",
       " 'precio: 276.57230643880376',\n",
       " 'precio: 320.75850085284594',\n",
       " 'precio: 473.02429337575995',\n",
       " 'precio: 950.6273800194864',\n",
       " 'precio: 332.25548161205046',\n",
       " 'precio: 639.8732440820462',\n",
       " 'precio: 605.7674998382527',\n",
       " 'precio: 281.0561598894089',\n",
       " 'precio: 310.88508626871663',\n",
       " 'precio: 566.5004751385783',\n",
       " 'precio: 552.3171756693516',\n",
       " 'precio: 965.6450292022865',\n",
       " 'precio: 488.687584244831',\n",
       " 'precio: 388.63273894409986',\n",
       " 'precio: 792.0209142927786',\n",
       " 'precio: 323.52942583151247',\n",
       " 'precio: 614.49597351136',\n",
       " 'precio: 787.3948921145515',\n",
       " 'precio: 672.0449524280172',\n",
       " 'precio: 766.0634497820593',\n",
       " 'precio: 482.1223545711425',\n",
       " 'precio: 332.48803371657056',\n",
       " 'precio: 255.68069725249086',\n",
       " 'precio: 657.7583966400227',\n",
       " 'precio: 411.79995123361897',\n",
       " 'precio: 705.5921756932426',\n",
       " 'precio: 598.3539505002706',\n",
       " 'precio: 509.40051102360144',\n",
       " 'precio: 938.1761105169011',\n",
       " 'precio: 853.1935129172782',\n",
       " 'precio: 581.190830257741',\n",
       " 'precio: 667.2846238436056',\n",
       " 'precio: 647.7078705308388',\n",
       " 'precio: 436.17866097021187',\n",
       " 'precio: 990.7826320999279',\n",
       " 'precio: 460.8749865640312',\n",
       " 'precio: 389.9389327766169',\n",
       " 'precio: 709.2201620991353',\n",
       " 'precio: 553.0920654830329',\n",
       " 'precio: 540.7893443325745',\n",
       " 'precio: 240.07703211738152',\n",
       " 'precio: 671.8882037891274',\n",
       " 'precio: 902.1232110277509',\n",
       " 'precio: 651.5853614211876',\n",
       " 'precio: 575.8956486676221',\n",
       " 'precio: 872.501855315542',\n",
       " 'precio: 233.2493441214881',\n",
       " 'precio: 220.77118139904178',\n",
       " 'precio: 223.68181857296543',\n",
       " 'precio: 518.2670193436832',\n",
       " 'precio: 483.9141795432896',\n",
       " 'precio: 602.9272357791459',\n",
       " 'precio: 692.2224244317881',\n",
       " 'precio: 986.0755805530694',\n",
       " 'precio: 242.84370329414492',\n",
       " 'precio: 590.9466550898392',\n",
       " 'precio: 706.5458013094067',\n",
       " 'precio: 920.8934613316893',\n",
       " 'precio: 926.0431511175002',\n",
       " 'precio: 694.813618812052',\n",
       " 'precio: 808.2013137384292',\n",
       " 'precio: 420.27648936484945',\n",
       " 'precio: 910.5132344026456',\n",
       " 'precio: 919.1258154455317',\n",
       " 'precio: 518.1593464977815',\n",
       " 'precio: 696.6185180591062',\n",
       " 'precio: 571.639221651301',\n",
       " 'precio: 374.0529789349074',\n",
       " 'precio: 325.4475821443938',\n",
       " 'precio: 283.5985489012935',\n",
       " 'precio: 232.80195288544434',\n",
       " 'precio: 679.6640604589343',\n",
       " 'precio: 697.7767264010151',\n",
       " 'precio: 811.0026375407904',\n",
       " 'precio: 971.0726507904673',\n",
       " 'precio: 283.1919131271903',\n",
       " 'precio: 296.0321818186606',\n",
       " 'precio: 545.0543882968448',\n",
       " 'precio: 872.2591620768825',\n",
       " 'precio: 607.4035072038708',\n",
       " 'precio: 502.96125281721913',\n",
       " 'precio: 761.6684447737827',\n",
       " 'precio: 896.0855260031727',\n",
       " 'precio: 760.5683923436956',\n",
       " 'precio: 296.5973020715169',\n",
       " 'precio: 729.5799354284237',\n",
       " 'precio: 417.34267123761435',\n",
       " 'precio: 728.137432259775',\n",
       " 'precio: 863.6148060100273',\n",
       " 'precio: 921.4639223648047',\n",
       " 'precio: 555.3163803696937',\n",
       " 'precio: 699.6913779138762',\n",
       " 'precio: 699.728819743196',\n",
       " 'precio: 830.2085811774776',\n",
       " 'precio: 807.0340934728443',\n",
       " 'precio: 635.7812718490752',\n",
       " 'precio: 715.9492088018634',\n",
       " 'precio: 966.64263622793',\n",
       " 'precio: 965.3011697327314',\n",
       " 'precio: 367.9419876401946',\n",
       " 'precio: 969.7316306128216',\n",
       " 'precio: 340.16107079370045',\n",
       " 'precio: 634.6105510174054',\n",
       " 'precio: 871.4640966040888',\n",
       " 'precio: 947.1173913066118',\n",
       " 'precio: 607.9397842068074',\n",
       " 'precio: 253.85333868865018',\n",
       " 'precio: 631.4352571148338',\n",
       " 'precio: 883.1760706899265',\n",
       " 'precio: 811.4063706678303',\n",
       " 'precio: 519.2935184233984',\n",
       " 'precio: 611.8898580923975',\n",
       " 'precio: 726.1129427777611',\n",
       " 'precio: 663.5198802547479',\n",
       " 'precio: 891.443116844159',\n",
       " 'precio: 783.0842614438867',\n",
       " 'precio: 429.202776699403',\n",
       " 'precio: 239.46366603666576',\n",
       " 'precio: 218.86411426573193',\n",
       " 'precio: 679.1937075723854',\n",
       " 'precio: 682.25155055703',\n",
       " 'precio: 406.06171881514666',\n",
       " 'precio: 611.9480393927784',\n",
       " 'precio: 606.6118828889695',\n",
       " 'precio: 441.7834653789872',\n",
       " 'precio: 790.3657098603063',\n",
       " 'precio: 816.1238525717091',\n",
       " 'precio: 799.0390446837671',\n",
       " 'precio: 994.2249442147175',\n",
       " 'precio: 907.7612698593066',\n",
       " 'precio: 247.95819817181322',\n",
       " 'precio: 275.9806390107394',\n",
       " 'precio: 663.6469043020138',\n",
       " 'precio: 750.3630671140312',\n",
       " 'precio: 999.292070266966',\n",
       " 'precio: 597.2274967683944',\n",
       " 'precio: 275.4462112059756',\n",
       " 'precio: 964.4935676560212',\n",
       " 'precio: 244.07683842373473',\n",
       " 'precio: 708.4034480269878',\n",
       " 'precio: 328.90702226158436',\n",
       " 'precio: 458.2077588379068',\n",
       " 'precio: 922.2159578377226',\n",
       " 'precio: 346.7685460630651',\n",
       " 'precio: 758.9028511514075',\n",
       " 'precio: 212.23889430608952',\n",
       " 'precio: 775.4751303153239',\n",
       " 'precio: 913.5345931863045',\n",
       " 'precio: 789.5910669876548',\n",
       " 'precio: 724.3255920383478',\n",
       " 'precio: 589.3889043547599',\n",
       " 'precio: 855.6404786253688',\n",
       " 'precio: 539.0995452486923',\n",
       " 'precio: 707.4311352995658',\n",
       " 'precio: 278.2587728431532',\n",
       " 'precio: 336.9268203077024',\n",
       " 'precio: 307.027567490662',\n",
       " 'precio: 957.0046077666708',\n",
       " 'precio: 685.2751446448588',\n",
       " 'precio: 327.72066617281894',\n",
       " 'precio: 622.5590006198917',\n",
       " 'precio: 724.4054197538188',\n",
       " 'precio: 472.91021488664074',\n",
       " 'precio: 345.7484148861018',\n",
       " 'precio: 282.8768653853822',\n",
       " 'precio: 868.2655220442065',\n",
       " 'precio: 611.2051975095873',\n",
       " 'precio: 760.3139124056804',\n",
       " 'precio: 577.4493075414441',\n",
       " 'precio: 559.1919041896604',\n",
       " 'precio: 356.1934126897932',\n",
       " 'precio: 555.6874519458198',\n",
       " 'precio: 656.7783377885348',\n",
       " 'precio: 707.918369536702',\n",
       " 'precio: 545.0529728641278',\n",
       " 'precio: 732.0588291541907',\n",
       " 'precio: 861.801269863689',\n",
       " 'precio: 849.2411012613347',\n",
       " 'precio: 511.3947762937152',\n",
       " 'precio: 836.2023721162502',\n",
       " 'precio: 900.1472199656426',\n",
       " 'precio: 201.04442195813778',\n",
       " 'precio: 472.1861351916691',\n",
       " 'precio: 610.3416945360246',\n",
       " 'precio: 407.3007045826214',\n",
       " 'precio: 509.3707313100569',\n",
       " 'precio: 516.9199995073511',\n",
       " 'precio: 729.2424691807842',\n",
       " 'precio: 479.02975905638493',\n",
       " 'precio: 351.90807478413865',\n",
       " 'precio: 388.40302999448534',\n",
       " 'precio: 964.9291871438393',\n",
       " 'precio: 987.4565155887301',\n",
       " 'precio: 993.7047869949193',\n",
       " 'precio: 260.63979448268776',\n",
       " 'precio: 558.4853112059802',\n",
       " 'precio: 418.1840196783175',\n",
       " 'precio: 532.9981299776243',\n",
       " 'precio: 889.8353693179731',\n",
       " 'precio: 825.876208560462',\n",
       " 'precio: 413.7442749469278',\n",
       " 'precio: 342.39923491779604',\n",
       " 'precio: 891.9822129646163',\n",
       " 'precio: 729.4327906430175',\n",
       " 'precio: 543.8941956844183',\n",
       " 'precio: 566.0700216684675',\n",
       " 'precio: 869.1505869922084',\n",
       " 'precio: 716.226813320054',\n",
       " 'precio: 683.787537062617',\n",
       " 'precio: 931.9437425007898',\n",
       " 'precio: 925.5631157348804',\n",
       " 'precio: 556.4147165963589',\n",
       " 'precio: 854.6216781132267',\n",
       " 'precio: 530.9199362381722',\n",
       " 'precio: 875.8135882317067',\n",
       " 'precio: 308.55200054596435',\n",
       " 'precio: 470.23838963163024',\n",
       " 'precio: 476.18821930790415',\n",
       " 'precio: 582.0190064394658',\n",
       " 'precio: 734.6865078496081',\n",
       " 'precio: 902.0580575636986',\n",
       " 'precio: 289.62304711987815',\n",
       " 'precio: 233.0589826066074',\n",
       " 'precio: 697.8458870478594',\n",
       " 'precio: 814.5228662583063',\n",
       " 'precio: 814.328396896091',\n",
       " 'precio: 700.7189503834475',\n",
       " 'precio: 898.735529045908',\n",
       " 'precio: 977.9297656371785',\n",
       " 'precio: 636.1557246963707',\n",
       " 'precio: 604.407975648189',\n",
       " 'precio: 373.15759729064644',\n",
       " 'precio: 931.9760272159277',\n",
       " 'precio: 359.87298129995395',\n",
       " 'precio: 615.252560063816',\n",
       " 'precio: 731.0124924605666',\n",
       " 'precio: 473.34351625672247',\n",
       " 'precio: 644.7886072724796',\n",
       " 'precio: 805.7566825432607',\n",
       " 'precio: 734.7909295114771',\n",
       " 'precio: 763.0414677182483',\n",
       " 'precio: 643.7659239229873',\n",
       " 'precio: 544.5337897067934',\n",
       " 'precio: 674.2486220502917',\n",
       " 'precio: 538.7716444458911',\n",
       " 'precio: 901.1124061156689',\n",
       " 'precio: 816.0148394595896',\n",
       " 'precio: 344.9981562636376',\n",
       " 'precio: 441.8496697074544',\n",
       " 'precio: 852.6833050562058',\n",
       " 'precio: 311.2375464064679',\n",
       " 'precio: 301.4739642624886',\n",
       " 'precio: 851.5480632885481',\n",
       " 'precio: 953.1817783247527',\n",
       " 'precio: 560.1563361268793',\n",
       " 'precio: 864.7607118682379',\n",
       " 'precio: 729.1538162670207',\n",
       " 'precio: 739.3232907351476',\n",
       " 'precio: 239.52315346295228',\n",
       " 'precio: 395.9935773696683',\n",
       " 'precio: 344.904469841531',\n",
       " 'precio: 822.1903782545339',\n",
       " 'precio: 229.66288596810793',\n",
       " 'precio: 548.9409382506135',\n",
       " 'precio: 556.3981543256342',\n",
       " 'precio: 799.2225874590088',\n",
       " 'precio: 338.19162768532453',\n",
       " 'precio: 418.9964690458945',\n",
       " 'precio: 501.4425370614533',\n",
       " 'precio: 862.7548696603119',\n",
       " 'precio: 406.1584935504574',\n",
       " 'precio: 339.8246860170251',\n",
       " 'precio: 930.0980379654626',\n",
       " 'precio: 810.2674463435179',\n",
       " 'precio: 475.7239476324095',\n",
       " 'precio: 938.8008180818487',\n",
       " 'precio: 315.2386308223229',\n",
       " 'precio: 579.2661942678877',\n",
       " 'precio: 825.4296117240175',\n",
       " 'precio: 217.47161083690915',\n",
       " 'precio: 971.4609124843819',\n",
       " 'precio: 292.71174768350875',\n",
       " 'precio: 418.7863704536627',\n",
       " 'precio: 623.1146065188495',\n",
       " 'precio: 749.5052047593974',\n",
       " 'precio: 699.0602708837941',\n",
       " 'precio: 968.2427606777449',\n",
       " 'precio: 394.5467022811275',\n",
       " 'precio: 405.83910380363136',\n",
       " 'precio: 248.47703812956743',\n",
       " 'precio: 563.3877270739072',\n",
       " 'precio: 884.5107614503934',\n",
       " 'precio: 566.2111499852172',\n",
       " 'precio: 774.3478956746882',\n",
       " 'precio: 409.7105350818085',\n",
       " 'precio: 287.6445693933224',\n",
       " 'precio: 243.407883746829',\n",
       " 'precio: 793.7405640356488',\n",
       " 'precio: 412.8907655010977',\n",
       " 'precio: 513.8219191694452',\n",
       " 'precio: 285.99529898500805',\n",
       " 'precio: 547.8373453654468',\n",
       " 'precio: 366.83570884590875',\n",
       " 'precio: 820.4938331515455',\n",
       " 'precio: 210.06569271696804',\n",
       " 'precio: 542.352263120026',\n",
       " 'precio: 693.0109969373664',\n",
       " 'precio: 973.5525895678736',\n",
       " 'precio: 976.8909032282679',\n",
       " 'precio: 595.4924590298779',\n",
       " 'precio: 930.3162265600006',\n",
       " 'precio: 431.87065538343677',\n",
       " 'precio: 824.585883327801',\n",
       " 'precio: 602.0591393102638',\n",
       " 'precio: 443.42180875380063',\n",
       " 'precio: 696.2888309765679',\n",
       " 'precio: 798.6692183705303',\n",
       " 'precio: 482.5421080219264',\n",
       " 'precio: 446.910416910702',\n",
       " 'precio: 700.6923311791038',\n",
       " 'precio: 617.0622687130987',\n",
       " 'precio: 669.8340871333288',\n",
       " 'precio: 834.8624230665928',\n",
       " 'precio: 373.752270331119',\n",
       " 'precio: 862.4815708438075',\n",
       " 'precio: 899.5937338740289',\n",
       " 'precio: 625.3295241761612',\n",
       " 'precio: 530.6960665583651',\n",
       " 'precio: 914.4630764051991',\n",
       " 'precio: 927.839400071255',\n",
       " 'precio: 515.3021104729203',\n",
       " 'precio: 848.8721796158222',\n",
       " 'precio: 990.1461613540602',\n",
       " 'precio: 699.1004646924878',\n",
       " 'precio: 588.4688373946555',\n",
       " 'precio: 527.2247704445927',\n",
       " 'precio: 539.9179856755192',\n",
       " 'precio: 927.8650858466987',\n",
       " 'precio: 390.05764757480733',\n",
       " 'precio: 379.98964942374477',\n",
       " 'precio: 749.2666016570779',\n",
       " 'precio: 830.8902841882481',\n",
       " 'precio: 309.2300153109767',\n",
       " 'precio: 883.1868111279944',\n",
       " 'precio: 422.68419013885074',\n",
       " 'precio: 273.74551555001557',\n",
       " 'precio: 217.53793605007505',\n",
       " 'precio: 717.2062919625296',\n",
       " 'precio: 381.79237999801234',\n",
       " 'precio: 810.6557189378932',\n",
       " 'precio: 832.3255785321664',\n",
       " 'precio: 683.5066972820922',\n",
       " 'precio: 834.574725010952',\n",
       " 'precio: 965.0627386505639',\n",
       " 'precio: 789.574189732595',\n",
       " 'precio: 612.0281892979667',\n",
       " 'precio: 861.6835808607644',\n",
       " 'precio: 361.136852296714',\n",
       " 'precio: 993.4702333598497',\n",
       " 'precio: 566.8598351092467',\n",
       " 'precio: 689.7045427301202',\n",
       " 'precio: 791.3201714238234',\n",
       " 'precio: 337.0235812604633',\n",
       " 'precio: 287.61907613855993',\n",
       " 'precio: 363.4828025282783',\n",
       " 'precio: 575.8678683188821',\n",
       " 'precio: 380.26880783661204',\n",
       " 'precio: 684.5620221961606',\n",
       " 'precio: 342.45688211151054',\n",
       " 'precio: 228.96194802905896',\n",
       " 'precio: 273.72097794868216',\n",
       " 'precio: 824.5200702317034',\n",
       " 'precio: 329.65184511394057',\n",
       " 'precio: 749.147674554937',\n",
       " 'precio: 991.727542523107',\n",
       " 'precio: 273.03968131718136',\n",
       " 'precio: 883.6851494507448',\n",
       " 'precio: 327.6448133266388',\n",
       " 'precio: 782.7893454119217',\n",
       " 'precio: 464.3488509827648',\n",
       " 'precio: 378.65174402750137',\n",
       " 'precio: 462.9393520549819',\n",
       " 'precio: 921.443019888359',\n",
       " 'precio: 792.4358848687735',\n",
       " 'precio: 445.95759397033214',\n",
       " 'precio: 860.5248581843123',\n",
       " 'precio: 884.4717442353121',\n",
       " 'precio: 453.55709849578113',\n",
       " 'precio: 507.9306287306461',\n",
       " 'precio: 473.6526498753454',\n",
       " 'precio: 861.4157113805541',\n",
       " 'precio: 407.6553533104682',\n",
       " 'precio: 655.7834852092235',\n",
       " 'precio: 659.2991366243423',\n",
       " 'precio: 827.4558530843501',\n",
       " 'precio: 764.3185224644342',\n",
       " 'precio: 809.1835979165111',\n",
       " 'precio: 733.1700448641338',\n",
       " 'precio: 347.1856153577998',\n",
       " 'precio: 845.5261443094018',\n",
       " 'precio: 646.458142055169',\n",
       " 'precio: 809.301195272872',\n",
       " 'precio: 883.9869520278003',\n",
       " 'precio: 791.3663352440367',\n",
       " 'precio: 211.97453701231677',\n",
       " 'precio: 433.6223296545155',\n",
       " 'precio: 821.2595386060985',\n",
       " 'precio: 481.00295464336995',\n",
       " 'precio: 455.19802765681226',\n",
       " 'precio: 874.7467559587648',\n",
       " 'precio: 621.7388020706087',\n",
       " 'precio: 586.418808941627',\n",
       " 'precio: 351.97947294829106',\n",
       " 'precio: 608.8647642291342',\n",
       " 'precio: 845.8717619623982',\n",
       " 'precio: 747.2201305022057',\n",
       " 'precio: 461.06895311729465',\n",
       " 'precio: 358.6606322453607',\n",
       " 'precio: 846.3712624322116',\n",
       " 'precio: 224.88676269237624',\n",
       " 'precio: 475.2132384833854',\n",
       " 'precio: 314.0873503598327',\n",
       " 'precio: 479.0026840195136',\n",
       " 'precio: 768.007456243581',\n",
       " 'precio: 577.2561845767539',\n",
       " 'precio: 669.4644823762601',\n",
       " 'precio: 892.8795202930743',\n",
       " 'precio: 816.5675934984433',\n",
       " 'precio: 384.7505357927231',\n",
       " 'precio: 231.806001066826',\n",
       " 'precio: 880.446561889401',\n",
       " 'precio: 983.9507657232358',\n",
       " 'precio: 928.1734425159217',\n",
       " 'precio: 955.0973951733109',\n",
       " 'precio: 399.9243700730833',\n",
       " 'precio: 742.2841828271065',\n",
       " 'precio: 268.70709688727493',\n",
       " 'precio: 449.6452289610608',\n",
       " 'precio: 914.5578595847135',\n",
       " 'precio: 429.5931183528452',\n",
       " 'precio: 866.5908815456419',\n",
       " 'precio: 362.9521635023691',\n",
       " 'precio: 380.153268914543',\n",
       " 'precio: 549.534666670573',\n",
       " 'precio: 700.4271049460331',\n",
       " 'precio: 590.8695349581693',\n",
       " 'precio: 528.6367761027838',\n",
       " 'precio: 897.2211705068158',\n",
       " 'precio: 355.3908566108145',\n",
       " 'precio: 706.0852704993476',\n",
       " 'precio: 443.93286184095865',\n",
       " 'precio: 389.95710739905803',\n",
       " 'precio: 489.91007959651427',\n",
       " 'precio: 866.3689404800347',\n",
       " 'precio: 843.6346798587604',\n",
       " 'precio: 686.6127406753891',\n",
       " 'precio: 969.5404614423006',\n",
       " 'precio: 585.909105590945',\n",
       " 'precio: 615.5635137966818',\n",
       " 'precio: 695.0648875670183',\n",
       " 'precio: 525.4490096201678',\n",
       " 'precio: 604.8455101215884',\n",
       " 'precio: 849.8937050947872',\n",
       " 'precio: 446.7683971846752',\n",
       " 'precio: 464.78405047259923',\n",
       " 'precio: 411.4751950291746',\n",
       " 'precio: 707.1807957050689',\n",
       " 'precio: 292.3310990212564',\n",
       " 'precio: 993.965727691554',\n",
       " 'precio: 666.5573956180516',\n",
       " 'precio: 479.328870683923',\n",
       " 'precio: 914.2940872556691',\n",
       " 'precio: 694.7529420962159',\n",
       " 'precio: 860.0644213790794',\n",
       " 'precio: 715.313259264523',\n",
       " 'precio: 568.974083010904',\n",
       " 'precio: 222.44193309671917',\n",
       " 'precio: 347.2525520393431',\n",
       " 'precio: 309.14741030742834',\n",
       " 'precio: 835.1663206065809',\n",
       " 'precio: 814.2231426800296',\n",
       " 'precio: 324.99553820018167',\n",
       " 'precio: 660.3405825195831',\n",
       " 'precio: 642.8693984672059',\n",
       " 'precio: 581.7738235886145',\n",
       " 'precio: 999.8987577758666',\n",
       " 'precio: 969.1509599194491',\n",
       " 'precio: 600.0733738325991',\n",
       " 'precio: 503.37634629360235',\n",
       " 'precio: 544.8278332271454',\n",
       " 'precio: 773.758999769479',\n",
       " 'precio: 631.3627268068024',\n",
       " 'precio: 650.3808298351764',\n",
       " 'precio: 925.518159950589',\n",
       " 'precio: 899.7558996710571',\n",
       " 'precio: 257.42784972903536',\n",
       " 'precio: 935.3743899472247',\n",
       " 'precio: 362.2141839648625',\n",
       " 'precio: 805.118405593259',\n",
       " 'precio: 878.1285528543061',\n",
       " 'precio: 751.9418731964777',\n",
       " 'precio: 728.1585196940216',\n",
       " 'precio: 678.2501951548571',\n",
       " 'precio: 914.5329294292516',\n",
       " 'precio: 693.9364931123027',\n",
       " 'precio: 628.5875635175375',\n",
       " 'precio: 241.7545689649878',\n",
       " 'precio: 972.4345666523177',\n",
       " 'precio: 797.7923543254602',\n",
       " 'precio: 553.7402490548002',\n",
       " 'precio: 893.3847566794633',\n",
       " 'precio: 313.72450385515276',\n",
       " 'precio: 770.9535484564791',\n",
       " 'precio: 211.71181068684825',\n",
       " 'precio: 485.0411252004352',\n",
       " 'precio: 485.61873007952937',\n",
       " 'precio: 959.4275225425029',\n",
       " 'precio: 897.2519494063805',\n",
       " 'precio: 450.642293485226',\n",
       " 'precio: 429.83535764838166',\n",
       " 'precio: 385.0868760568736',\n",
       " 'precio: 290.3837966995085',\n",
       " 'precio: 741.8780509403523',\n",
       " 'precio: 823.1518227322251',\n",
       " 'precio: 647.679607335681',\n",
       " 'precio: 471.52624406632395',\n",
       " 'precio: 224.28957104187725',\n",
       " 'precio: 459.07634884771494',\n",
       " 'precio: 331.877692900441',\n",
       " 'precio: 640.230327874626',\n",
       " 'precio: 301.3731767591046',\n",
       " 'precio: 530.7462193954933',\n",
       " 'precio: 904.065479470179',\n",
       " 'precio: 319.97118081146436',\n",
       " 'precio: 368.80418100650957',\n",
       " 'precio: 473.56168902175256',\n",
       " 'precio: 415.8844510016635',\n",
       " 'precio: 867.1361660412866',\n",
       " 'precio: 415.1184772564043',\n",
       " 'precio: 862.0157810550137',\n",
       " 'precio: 600.8423603136948',\n",
       " 'precio: 383.4840263777518',\n",
       " 'precio: 546.4765890663781',\n",
       " 'precio: 313.0492825809542',\n",
       " 'precio: 294.27437032208604',\n",
       " 'precio: 853.4062467496924',\n",
       " 'precio: 200.68568191805429',\n",
       " 'precio: 954.5027000361313',\n",
       " 'precio: 508.1463551635938',\n",
       " 'precio: 611.1379932593554',\n",
       " 'precio: 717.0048931237036',\n",
       " 'precio: 855.6527217184719',\n",
       " 'precio: 470.18156120274125',\n",
       " 'precio: 277.89570028045875',\n",
       " 'precio: 541.5869873168563',\n",
       " 'precio: 235.70871636687568',\n",
       " 'precio: 221.8206737447212',\n",
       " 'precio: 389.4036022696036',\n",
       " 'precio: 228.65031392291934',\n",
       " 'precio: 373.23783044375256',\n",
       " 'precio: 856.3910983663587',\n",
       " 'precio: 980.544249921172',\n",
       " 'precio: 743.8008279237379',\n",
       " 'precio: 246.69204466836555',\n",
       " 'precio: 274.0965867327639',\n",
       " 'precio: 254.91859270014078',\n",
       " 'precio: 758.0367011894692',\n",
       " 'precio: 317.5441571844889',\n",
       " 'precio: 529.7346632736744',\n",
       " 'precio: 690.9252566637942',\n",
       " 'precio: 571.1810461300583',\n",
       " 'precio: 836.1902106717961',\n",
       " 'precio: 268.4030598510253',\n",
       " 'precio: 210.6089611199871',\n",
       " 'precio: 416.57585068239143',\n",
       " 'precio: 624.9181878990378',\n",
       " 'precio: 759.9339848369585',\n",
       " 'precio: 996.7454694621765',\n",
       " 'precio: 748.9032134805186',\n",
       " 'precio: 904.6244751931805',\n",
       " 'precio: 734.200417412428',\n",
       " 'precio: 959.4224518616985',\n",
       " 'precio: 331.50479658751016',\n",
       " 'precio: 443.1260620925163',\n",
       " 'precio: 763.5398151290167',\n",
       " 'precio: 568.7430063619775',\n",
       " 'precio: 680.9648178266117',\n",
       " 'precio: 955.057112950868',\n",
       " 'precio: 524.0202882810177',\n",
       " 'precio: 734.0393241288875',\n",
       " 'precio: 369.31004628567564',\n",
       " 'precio: 634.1503855902024',\n",
       " 'precio: 620.5253020603956',\n",
       " 'precio: 985.8501933964297',\n",
       " 'precio: 872.2088160054408',\n",
       " 'precio: 823.3848814414698',\n",
       " 'precio: 935.4826061407227',\n",
       " 'precio: 530.2029723154805',\n",
       " 'precio: 443.71966763005105',\n",
       " 'precio: 760.7751205301713',\n",
       " 'precio: 695.4487811067759',\n",
       " 'precio: 855.701813279525',\n",
       " 'precio: 513.6915918765715',\n",
       " 'precio: 997.1638744133013',\n",
       " 'precio: 721.9909295070613',\n",
       " 'precio: 236.1006966293072',\n",
       " 'precio: 974.0954031116835',\n",
       " 'precio: 439.90899268865496',\n",
       " 'precio: 653.8727802063158',\n",
       " 'precio: 250.47658798691714',\n",
       " 'precio: 548.5561442025598',\n",
       " 'precio: 265.06857935920294',\n",
       " 'precio: 408.4421340514324',\n",
       " 'precio: 212.29697715463624',\n",
       " 'precio: 355.31852099605777',\n",
       " 'precio: 847.0047747885501',\n",
       " 'precio: 333.5630778041412',\n",
       " 'precio: 580.7772292937509',\n",
       " 'precio: 243.08214232364892',\n",
       " 'precio: 388.9106974412908',\n",
       " 'precio: 278.974039548482',\n",
       " 'precio: 782.8267878542003',\n",
       " 'precio: 547.435043197301',\n",
       " 'precio: 520.2986044806689',\n",
       " 'precio: 956.1695981318105',\n",
       " 'precio: 729.9410105974075',\n",
       " 'precio: 599.3490242062242',\n",
       " 'precio: 308.45027996485584',\n",
       " 'precio: 216.69689827945788',\n",
       " 'precio: 637.2697002243176',\n",
       " 'precio: 957.9921876301474',\n",
       " 'precio: 362.6410028785614',\n",
       " 'precio: 302.48351011186037',\n",
       " 'precio: 465.92104775842296',\n",
       " 'precio: 616.5409373230414',\n",
       " 'precio: 934.282781573718',\n",
       " 'precio: 609.7656131660387',\n",
       " 'precio: 474.75773125220354',\n",
       " 'precio: 474.0084865244703',\n",
       " 'precio: 838.6686509671443',\n",
       " 'precio: 781.1916952495329',\n",
       " 'precio: 492.3192366802965',\n",
       " 'precio: 931.3341834750024',\n",
       " 'precio: 941.6920947763653',\n",
       " 'precio: 338.8487149292322',\n",
       " 'precio: 519.977349200296',\n",
       " 'precio: 898.8978868481431',\n",
       " 'precio: 317.1981309550527',\n",
       " 'precio: 765.9421289768787',\n",
       " 'precio: 573.2385884033148',\n",
       " 'precio: 963.8791187479436',\n",
       " 'precio: 815.1386566770898',\n",
       " 'precio: 284.424435365698',\n",
       " 'precio: 443.06158441001264',\n",
       " 'precio: 790.8480660005688',\n",
       " 'precio: 294.48059911725284',\n",
       " 'precio: 234.15074757572228',\n",
       " 'precio: 385.1589822970103',\n",
       " 'precio: 833.5542015310654',\n",
       " 'precio: 517.3726408442194',\n",
       " 'precio: 520.7026042158091',\n",
       " 'precio: 769.3842642990257',\n",
       " 'precio: 465.27114932594753',\n",
       " 'precio: 989.2304321458327',\n",
       " 'precio: 598.8973936933327',\n",
       " 'precio: 947.0236561888695',\n",
       " 'precio: 420.82782921970227',\n",
       " 'precio: 529.3435536424616',\n",
       " 'precio: 618.4406918045638',\n",
       " 'precio: 523.6848632545443',\n",
       " 'precio: 479.9788968578356',\n",
       " 'precio: 425.7664220328356',\n",
       " 'precio: 982.033440720034',\n",
       " 'precio: 563.540433644707',\n",
       " 'precio: 883.4867024789573',\n",
       " 'precio: 790.7690621486123',\n",
       " 'precio: 384.6280929257426',\n",
       " 'precio: 722.527023303259',\n",
       " 'precio: 871.9814053486964',\n",
       " 'precio: 935.1289831756079',\n",
       " 'precio: 370.3635826882998',\n",
       " 'precio: 287.5416460351739',\n",
       " 'precio: 525.231641320612',\n",
       " 'precio: 226.76106519535074',\n",
       " 'precio: 368.1108314232522',\n",
       " 'precio: 869.6916360057279',\n",
       " 'precio: 508.2139157391189',\n",
       " 'precio: 820.3680240247479',\n",
       " 'precio: 307.1467417527522',\n",
       " 'precio: 237.57337584710257',\n",
       " 'precio: 535.7311737636411',\n",
       " 'precio: 654.4076076776432',\n",
       " 'precio: 409.8003995408227',\n",
       " 'precio: 845.6029363182691',\n",
       " 'precio: 747.8419407937361',\n",
       " 'precio: 644.4519489805111',\n",
       " 'precio: 624.382432616657',\n",
       " 'precio: 269.98957568338176',\n",
       " 'precio: 732.6157582417638',\n",
       " 'precio: 234.98117702864496',\n",
       " 'precio: 422.7463523881703',\n",
       " 'precio: 233.46317538935074',\n",
       " 'precio: 391.8672936306497',\n",
       " 'precio: 642.2657188191032',\n",
       " 'precio: 289.2247020630059',\n",
       " 'precio: 811.0093365623351',\n",
       " 'precio: 276.42301144802747',\n",
       " 'precio: 322.4244062735596',\n",
       " 'precio: 379.1132977010525',\n",
       " 'precio: 770.8146027461668',\n",
       " 'precio: 953.4651594095795',\n",
       " 'precio: 913.5294598559684',\n",
       " 'precio: 854.1706041439554',\n",
       " 'precio: 815.9107941040712',\n",
       " 'precio: 255.21654319709847',\n",
       " 'precio: 697.714689084007',\n",
       " 'precio: 315.2667426237555',\n",
       " 'precio: 297.0386263062892',\n",
       " 'precio: 456.8919497964874',\n",
       " 'precio: 345.23235813174324',\n",
       " 'precio: 215.40370313688095',\n",
       " 'precio: 224.7709504597007',\n",
       " 'precio: 804.9373810213165',\n",
       " 'precio: 896.2529976148622',\n",
       " 'precio: 350.7281818234453',\n",
       " 'precio: 845.29435265202',\n",
       " 'precio: 321.0840355751988',\n",
       " 'precio: 949.0256596247432',\n",
       " 'precio: 582.2119736556422',\n",
       " 'precio: 463.4959693230388',\n",
       " 'precio: 505.9324471902121',\n",
       " 'precio: 248.5518828257873',\n",
       " 'precio: 940.3068606612045',\n",
       " 'precio: 591.0789607385971',\n",
       " 'precio: 309.56324582963833',\n",
       " 'precio: 701.7112035064283',\n",
       " 'precio: 385.6397811797649',\n",
       " 'precio: 688.8307580118009',\n",
       " 'precio: 985.5951443316646',\n",
       " 'precio: 591.170523284702',\n",
       " 'precio: 786.5078149299634',\n",
       " 'precio: 825.3199589089473',\n",
       " 'precio: 219.5040221904656',\n",
       " 'precio: 257.0646606745936',\n",
       " 'precio: 552.0653221501841',\n",
       " 'precio: 614.8147300773753',\n",
       " 'precio: 212.02001985015534',\n",
       " 'precio: 447.62776855800973',\n",
       " 'precio: 755.120554676075',\n",
       " 'precio: 515.8930068422694',\n",
       " 'precio: 460.8904281740293',\n",
       " 'precio: 722.0653773952265',\n",
       " 'precio: 797.7771080246947',\n",
       " 'precio: 788.5590367268074',\n",
       " 'precio: 348.64508638794405',\n",
       " 'precio: 796.0440514002786',\n",
       " 'precio: 860.123983336851',\n",
       " 'precio: 912.14424287706',\n",
       " 'precio: 224.03611309434623',\n",
       " 'precio: 267.72774594380405',\n",
       " 'precio: 583.6184162321704',\n",
       " 'precio: 785.5435663354821',\n",
       " 'precio: 233.27207209205721',\n",
       " 'precio: 677.6111443120861',\n",
       " 'precio: 941.4123960387226',\n",
       " 'precio: 658.3448394314826',\n",
       " 'precio: 847.5934409609017',\n",
       " 'precio: 884.8336243045161',\n",
       " 'precio: 403.5425426775648',\n",
       " 'precio: 265.57824172944055',\n",
       " 'precio: 701.8214909285044',\n",
       " 'precio: 779.6644247861276',\n",
       " 'precio: 513.3436289059232',\n",
       " 'precio: 812.1764775128349',\n",
       " 'precio: 760.4709651292156',\n",
       " 'precio: 754.4544346257669',\n",
       " 'precio: 397.2073110382531',\n",
       " 'precio: 824.8866457312422',\n",
       " 'precio: 949.7837316300312',\n",
       " 'precio: 572.0241370817936',\n",
       " 'precio: 262.907178936637',\n",
       " 'precio: 263.2381592900929',\n",
       " 'precio: 987.7114806036549',\n",
       " 'precio: 367.13962301372703',\n",
       " 'precio: 776.3005610033355',\n",
       " 'precio: 898.9723264512277',\n",
       " 'precio: 378.9254337985941',\n",
       " 'precio: 864.2185042000855',\n",
       " 'precio: 605.8242943654966',\n",
       " 'precio: 303.49095258394857',\n",
       " 'precio: 527.4799165458222',\n",
       " 'precio: 280.76222361366024',\n",
       " 'precio: 682.7034216325674',\n",
       " 'precio: 763.3919166555495',\n",
       " 'precio: 406.0012109039257',\n",
       " 'precio: 306.21438898586916',\n",
       " 'precio: 888.8356506371571',\n",
       " 'precio: 507.29810865373554',\n",
       " 'precio: 504.23598729919865',\n",
       " 'precio: 969.6597648869806',\n",
       " 'precio: 257.4512123335449',\n",
       " 'precio: 380.55693405141085',\n",
       " 'precio: 856.4500309930252',\n",
       " 'precio: 401.94610240899164',\n",
       " 'precio: 352.84975992564614',\n",
       " 'precio: 429.01757845043414',\n",
       " 'precio: 532.9040197158548',\n",
       " 'precio: 755.5167251733204',\n",
       " 'precio: 625.0069373589433',\n",
       " 'precio: 748.9042662778821',\n",
       " 'precio: 857.8397242773119',\n",
       " 'precio: 556.1654789769206',\n",
       " 'precio: 885.5140161000293',\n",
       " 'precio: 990.1895467585657',\n",
       " 'precio: 328.3704304641116',\n",
       " 'precio: 368.2151631296276',\n",
       " 'precio: 412.2954831238082',\n",
       " 'precio: 547.983664114186',\n",
       " 'precio: 951.3533726437682',\n",
       " 'precio: 383.7632528732307',\n",
       " 'precio: 846.5611225546163',\n",
       " 'precio: 578.9599130963818',\n",
       " 'precio: 724.573962650972',\n",
       " 'precio: 874.2622296143625',\n",
       " 'precio: 997.5741286921312',\n",
       " 'precio: 436.5664590717406',\n",
       " 'precio: 646.3947570256423',\n",
       " 'precio: 825.2723395267755',\n",
       " 'precio: 951.750008828127',\n",
       " 'precio: 533.1993964244715',\n",
       " 'precio: 669.9125950565528',\n",
       " 'precio: 795.279230795152',\n",
       " 'precio: 610.2878565296401',\n",
       " 'precio: 507.163333059642',\n",
       " 'precio: 488.50237367885603',\n",
       " 'precio: 275.91084820463936',\n",
       " 'precio: 288.71762026164856',\n",
       " 'precio: 295.8167959470842',\n",
       " 'precio: 374.72266711170266',\n",
       " 'precio: 358.8852491400904',\n",
       " 'precio: 464.52028743087055',\n",
       " 'precio: 583.8354464584219',\n",
       " 'precio: 971.9252100130867',\n",
       " 'precio: 314.3983373443089',\n",
       " 'precio: 357.835991826582',\n",
       " 'precio: 715.8316109450998',\n",
       " 'precio: 956.7968001255932',\n",
       " 'precio: 345.4336651454594',\n",
       " 'precio: 980.1912798837348',\n",
       " 'precio: 683.0258191270258',\n",
       " 'precio: 981.8229617472191',\n",
       " 'precio: 442.90509718021406',\n",
       " 'precio: 371.9333609190449',\n",
       " 'precio: 952.2620250356852',\n",
       " 'precio: 784.9837598612479',\n",
       " 'precio: 826.0337756734913',\n",
       " 'precio: 763.010595775709',\n",
       " 'precio: 536.615793466487',\n",
       " 'precio: 622.2204076976726',\n",
       " 'precio: 373.867510984603',\n",
       " 'precio: 643.8838680965754',\n",
       " 'precio: 796.3095107942939',\n",
       " 'precio: 282.84362014731386',\n",
       " 'precio: 250.5132254893586',\n",
       " 'precio: 746.4458446229025',\n",
       " 'precio: 672.6003448023155',\n",
       " 'precio: 260.5813434652864',\n",
       " 'precio: 703.3984073391784',\n",
       " 'precio: 720.0218798789132',\n",
       " 'precio: 797.705558223966',\n",
       " 'precio: 856.1358971391849',\n",
       " 'precio: 274.02817256882895',\n",
       " 'precio: 465.2801492562492',\n",
       " 'precio: 323.9732122120418',\n",
       " 'precio: 290.38901643006056',\n",
       " 'precio: 444.55751416864854',\n",
       " 'precio: 768.9663710475182',\n",
       " 'precio: 945.1747627665093',\n",
       " 'precio: 996.9939862860144',\n",
       " 'precio: 481.1501517837912',\n",
       " 'precio: 651.9551221384459',\n",
       " 'precio: 390.14916721597234',\n",
       " 'precio: 486.74776030486413',\n",
       " 'precio: 455.0856117527144',\n",
       " 'precio: 523.0114874648905',\n",
       " 'precio: 237.43355714102165',\n",
       " 'precio: 355.40126110779363',\n",
       " 'precio: 810.2176788773141',\n",
       " 'precio: 410.19417821166417',\n",
       " 'precio: 808.8817670910184',\n",
       " 'precio: 217.9093614210596',\n",
       " 'precio: 425.33829907631065',\n",
       " 'precio: 428.23729899860734',\n",
       " 'precio: 853.2465923745497',\n",
       " 'precio: 200.82471401481666',\n",
       " 'precio: 488.3139849944687',\n",
       " 'precio: 665.4416576739645',\n",
       " 'precio: 327.15870885662815',\n",
       " 'precio: 215.2210064960223',\n",
       " 'precio: 768.159806587619',\n",
       " 'precio: 774.3574976334876',\n",
       " 'precio: 250.9621475301124',\n",
       " 'precio: 700.3520087895977',\n",
       " 'precio: 980.5188799981851',\n",
       " 'precio: 851.0170315429773',\n",
       " 'precio: 620.4071148057791',\n",
       " 'precio: 337.4708811065516',\n",
       " 'precio: 946.9580739820364',\n",
       " 'precio: 646.5799008936516',\n",
       " 'precio: 996.1157202672931',\n",
       " 'precio: 458.13309637120466',\n",
       " 'precio: 270.44529976973945',\n",
       " 'precio: 874.7086421493561',\n",
       " 'precio: 905.4003895650955',\n",
       " 'precio: 469.69559060074914',\n",
       " 'precio: 841.4162840784275',\n",
       " 'precio: 331.4751790486093',\n",
       " 'precio: 822.5298703932494',\n",
       " 'precio: 665.3158116267945',\n",
       " 'precio: 227.57481959544668',\n",
       " 'precio: 667.1270435830147',\n",
       " 'precio: 824.0804595410661',\n",
       " 'precio: 908.1274131386657',\n",
       " 'precio: 242.94612456262047',\n",
       " 'precio: 736.741387039585',\n",
       " 'precio: 214.85365881743385',\n",
       " 'precio: 237.0487872682319',\n",
       " 'precio: 651.6046236529965',\n",
       " 'precio: 698.1920491477285',\n",
       " 'precio: 366.6487639270739',\n",
       " 'precio: 387.4709727425724',\n",
       " 'precio: 554.0271569696682',\n",
       " 'precio: 796.9270572884964',\n",
       " 'precio: 232.6136274406239',\n",
       " 'precio: 765.8155132861541',\n",
       " 'precio: 601.254542580417',\n",
       " 'precio: 880.3291200547613',\n",
       " ...]"
      ]
     },
     "execution_count": 62,
     "metadata": {},
     "output_type": "execute_result"
    }
   ],
   "source": [
    "strings"
   ]
  },
  {
   "cell_type": "markdown",
   "metadata": {},
   "source": [
    "- Retomemos el ejemplo de más arriba donde queriamos extraer un precio de un string que lo contiene, pero ahora tenemos 1 millón de observaciones, por lo cual iterar puede resultar ineficiente. Para realizar el procesamiento en paralelo en este caso se debe:1) construir una función que"
   ]
  },
  {
   "cell_type": "code",
   "execution_count": 29,
   "metadata": {},
   "outputs": [],
   "source": [
    "precio=[]\n",
    "def extraer_precio(x):\n",
    "    global strings,precio\n",
    "    for i in strings[x:x+100000]:\n",
    "        try:\n",
    "            precio.append(int(i.split(':')[1].replace('.','')))\n",
    "        except:pass "
   ]
  },
  {
   "cell_type": "code",
   "execution_count": 30,
   "metadata": {},
   "outputs": [],
   "source": [
    "f=[]\n",
    "o=0\n",
    "for i in range(0,10):\n",
    "    f.append(0)\n",
    "    o+=100000\n",
    "pool=Pool(10)\n",
    "paralelo=pool.map(extraer_precio,f)"
   ]
  },
  {
   "cell_type": "markdown",
   "metadata": {},
   "source": [
    "- Let's say we want to estimate a linear regression with every row in our data set, and save the coeficients of every regression in a list"
   ]
  },
  {
   "cell_type": "code",
   "execution_count": null,
   "metadata": {},
   "outputs": [],
   "source": [
    "data=pd.read_csv('train.csv')"
   ]
  },
  {
   "cell_type": "code",
   "execution_count": 93,
   "metadata": {},
   "outputs": [],
   "source": [
    "data=data.dropna(subset=['SalePrice','LotArea','GarageArea'])"
   ]
  },
  {
   "cell_type": "code",
   "execution_count": 98,
   "metadata": {},
   "outputs": [
    {
     "name": "stderr",
     "output_type": "stream",
     "text": [
      "100%|██████████| 1460/1460 [00:02<00:00, 496.32it/s]\n"
     ]
    }
   ],
   "source": [
    "la=[]\n",
    "for i in tqdm(data.index):\n",
    "    b=data.iloc[[0]]\n",
    "    Y=data['SalePrice']\n",
    "    X = data[['LotArea','GarageArea']] \n",
    "    regr0 = linear_model.LinearRegression()\n",
    "    regr0.fit(X, Y)\n",
    "    la.append(regr0.coef_)\n",
    "    "
   ]
  },
  {
   "cell_type": "markdown",
   "metadata": {},
   "source": [
    "- What if we were using \"BigData\"?"
   ]
  },
  {
   "cell_type": "code",
   "execution_count": null,
   "metadata": {},
   "outputs": [],
   "source": [
    "data.groupby('LotShape').count()"
   ]
  },
  {
   "cell_type": "code",
   "execution_count": 108,
   "metadata": {},
   "outputs": [],
   "source": [
    "r=data.groupby('LotShape').count().index.to_list()"
   ]
  },
  {
   "cell_type": "code",
   "execution_count": 111,
   "metadata": {},
   "outputs": [],
   "source": [
    "def paralel2(string):\n",
    "    global la,data\n",
    "    data=data[data['LotShape']==str(string)]\n",
    "    for i in tqdm(data.index):\n",
    "        b=data.iloc[[0]]\n",
    "        Y=data['SalePrice']\n",
    "        X = data[['LotArea','GarageArea']] \n",
    "        regr0 = linear_model.LinearRegression()\n",
    "        regr0.fit(X, Y)\n",
    "        la.append(regr0.coef_)"
   ]
  },
  {
   "cell_type": "code",
   "execution_count": 112,
   "metadata": {
    "collapsed": true,
    "jupyter": {
     "outputs_hidden": true
    },
    "tags": []
   },
   "outputs": [
    {
     "name": "stderr",
     "output_type": "stream",
     "text": [
      "  0%|          | 0/41 [00:00<?, ?it/s]\n",
      "  0%|          | 0/484 [00:00<?, ?it/s]\u001b[A\n",
      "\n",
      "  0%|          | 0/10 [00:00<?, ?it/s]\u001b[A\u001b[A\n",
      "\n",
      "\n",
      " 44%|████▍     | 18/41 [00:00<00:00, 176.94it/s]\n",
      "100%|██████████| 10/10 [00:00<00:00, 97.35it/s]s]\u001b[A\n",
      "\n",
      "\n",
      "\n",
      " 88%|████████▊ | 36/41 [00:00<00:00, 150.84it/s]]\u001b[A\u001b[A\u001b[A\n",
      "100%|██████████| 41/41 [00:00<00:00, 146.82it/s]]\u001b[A\n",
      "\n",
      "\n",
      "\n",
      "  3%|▎         | 32/925 [00:00<00:05, 154.11it/s]\u001b[A\u001b[A\u001b[A\n",
      " 11%|█▏        | 55/484 [00:00<00:02, 168.45it/s]\u001b[A\n",
      "\n",
      "\n",
      "  5%|▌         | 49/925 [00:00<00:05, 159.24it/s]\u001b[A\u001b[A\u001b[A\n",
      " 16%|█▌        | 78/484 [00:00<00:02, 190.97it/s]\u001b[A\n",
      "\n",
      "\n",
      "  7%|▋         | 65/925 [00:00<00:05, 156.09it/s]\u001b[A\u001b[A\u001b[A\n",
      " 21%|██        | 100/484 [00:00<00:01, 199.87it/s]\u001b[A\n",
      "\n",
      "\n",
      "  9%|▉         | 87/925 [00:00<00:04, 178.01it/s]\u001b[A\u001b[A\u001b[A\n",
      " 26%|██▌       | 124/484 [00:00<00:01, 212.20it/s]\u001b[A\n",
      "\n",
      "\n",
      " 11%|█▏        | 105/925 [00:00<00:04, 175.74it/s]\u001b[A\u001b[A\u001b[A\n",
      " 31%|███       | 150/484 [00:00<00:01, 225.63it/s]\u001b[A\n",
      "\n",
      "\n",
      " 14%|█▎        | 125/925 [00:00<00:04, 182.38it/s]\u001b[A\u001b[A\u001b[A\n",
      " 36%|███▌      | 174/484 [00:00<00:01, 228.34it/s]\u001b[A\n",
      "\n",
      "\n",
      " 16%|█▌        | 147/925 [00:00<00:04, 193.20it/s]\u001b[A\u001b[A\u001b[A\n",
      " 41%|████      | 197/484 [00:01<00:01, 192.02it/s]\u001b[A\n",
      "\n",
      "\n",
      " 18%|█▊        | 167/925 [00:00<00:04, 178.00it/s]\u001b[A\u001b[A\u001b[A\n",
      " 45%|████▌     | 218/484 [00:01<00:01, 190.85it/s]\u001b[A\n",
      "\n",
      "\n",
      " 20%|██        | 188/925 [00:01<00:03, 186.21it/s]\u001b[A\u001b[A\u001b[A\n",
      " 49%|████▉     | 238/484 [00:01<00:01, 187.53it/s]\u001b[A\n",
      "\n",
      "\n",
      " 23%|██▎       | 209/925 [00:01<00:03, 192.29it/s]\u001b[A\u001b[A\u001b[A\n",
      " 53%|█████▎    | 258/484 [00:01<00:01, 190.04it/s]\u001b[A\n",
      "\n",
      "\n",
      " 25%|██▍       | 229/925 [00:01<00:03, 190.80it/s]\u001b[A\u001b[A\u001b[A\n",
      " 58%|█████▊    | 281/484 [00:01<00:01, 200.81it/s]\u001b[A\n",
      "\n",
      "\n",
      " 27%|██▋       | 249/925 [00:01<00:03, 189.77it/s]\u001b[A\u001b[A\u001b[A\n",
      " 62%|██████▏   | 302/484 [00:01<00:00, 199.94it/s]\u001b[A\n",
      "\n",
      "\n",
      " 29%|██▉       | 270/925 [00:01<00:03, 193.31it/s]\u001b[A\u001b[A\u001b[A\n",
      " 67%|██████▋   | 323/484 [00:01<00:00, 197.34it/s]\u001b[A\n",
      "\n",
      "\n",
      " 31%|███▏      | 291/925 [00:01<00:03, 196.59it/s]\u001b[A\u001b[A\u001b[A\n",
      " 71%|███████   | 343/484 [00:01<00:00, 190.67it/s]\u001b[A\n",
      "\n",
      "\n",
      " 34%|███▍      | 313/925 [00:01<00:03, 201.80it/s]\u001b[A\u001b[A\u001b[A\n",
      " 75%|███████▌  | 364/484 [00:01<00:00, 194.07it/s]\u001b[A\n",
      "\n",
      "\n",
      " 36%|███▌      | 334/925 [00:01<00:02, 202.59it/s]\u001b[A\u001b[A\u001b[A\n",
      " 79%|███████▉  | 384/484 [00:01<00:00, 194.25it/s]\u001b[A\n",
      "\n",
      "\n",
      " 38%|███▊      | 355/925 [00:01<00:02, 203.73it/s]\u001b[A\u001b[A\u001b[A\n",
      "\n",
      "\n",
      " 41%|████      | 376/925 [00:01<00:02, 203.34it/s]\u001b[A\u001b[A\u001b[A\n",
      " 83%|████████▎ | 404/484 [00:02<00:00, 189.01it/s]\u001b[A\n",
      " 88%|████████▊ | 424/484 [00:02<00:00, 190.65it/s]\u001b[A\n",
      "\n",
      "\n",
      " 43%|████▎     | 399/925 [00:02<00:02, 209.49it/s]\u001b[A\u001b[A\u001b[A\n",
      " 92%|█████████▏| 445/484 [00:02<00:00, 195.79it/s]\u001b[A\n",
      "\n",
      "\n",
      " 45%|████▌     | 420/925 [00:02<00:02, 207.97it/s]\u001b[A\u001b[A\u001b[A\n",
      " 97%|█████████▋| 469/484 [00:02<00:00, 208.18it/s]\u001b[A\n",
      "\n",
      "\n",
      "100%|██████████| 484/484 [00:02<00:00, 195.08it/s]\u001b[A\u001b[A\u001b[A\n",
      "\n",
      "\n",
      "\n",
      " 50%|████▉     | 462/925 [00:02<00:02, 199.84it/s]\u001b[A\u001b[A\u001b[A\n",
      "\n",
      "\n",
      " 55%|█████▍    | 505/925 [00:02<00:01, 266.05it/s]\u001b[A\u001b[A\u001b[A\n",
      "\n",
      "\n",
      " 58%|█████▊    | 532/925 [00:02<00:01, 237.08it/s]\u001b[A\u001b[A\u001b[A\n",
      "\n",
      "\n",
      " 61%|██████    | 562/925 [00:02<00:01, 252.87it/s]\u001b[A\u001b[A\u001b[A\n",
      "\n",
      "\n",
      " 64%|██████▍   | 596/925 [00:02<00:01, 276.46it/s]\u001b[A\u001b[A\u001b[A\n",
      "\n",
      "\n",
      " 69%|██████▉   | 638/925 [00:02<00:00, 316.46it/s]\u001b[A\u001b[A\u001b[A\n",
      "\n",
      "\n",
      " 73%|███████▎  | 678/925 [00:03<00:00, 338.80it/s]\u001b[A\u001b[A\u001b[A\n",
      "\n",
      "\n",
      " 78%|███████▊  | 722/925 [00:03<00:00, 367.39it/s]\u001b[A\u001b[A\u001b[A\n",
      "\n",
      "\n",
      " 83%|████████▎ | 765/925 [00:03<00:00, 383.77it/s]\u001b[A\u001b[A\u001b[A\n",
      "\n",
      "\n",
      " 87%|████████▋ | 809/925 [00:03<00:00, 399.42it/s]\u001b[A\u001b[A\u001b[A\n",
      "\n",
      "\n",
      " 92%|█████████▏| 853/925 [00:03<00:00, 409.32it/s]\u001b[A\u001b[A\u001b[A\n",
      "\n",
      "\n",
      "100%|██████████| 925/925 [00:03<00:00, 253.41it/s]\u001b[A\u001b[A\u001b[A\n"
     ]
    }
   ],
   "source": [
    "pool=Pool(4)\n",
    "re=pool.map(paralel2,r)"
   ]
  },
  {
   "cell_type": "markdown",
   "metadata": {},
   "source": [
    "- ¿cómo podemos aplicar esto para correr la función de mco mostrada más arriba paralelamente, donde cada proceso paralelo corra la función para una parte de la data?"
   ]
  },
  {
   "cell_type": "code",
   "execution_count": null,
   "metadata": {},
   "outputs": [],
   "source": []
  }
 ],
 "metadata": {
  "kernelspec": {
   "display_name": "Python 3",
   "language": "python",
   "name": "python3"
  },
  "language_info": {
   "codemirror_mode": {
    "name": "ipython",
    "version": 3
   },
   "file_extension": ".py",
   "mimetype": "text/x-python",
   "name": "python",
   "nbconvert_exporter": "python",
   "pygments_lexer": "ipython3",
   "version": "3.8.3"
  }
 },
 "nbformat": 4,
 "nbformat_minor": 5
}
