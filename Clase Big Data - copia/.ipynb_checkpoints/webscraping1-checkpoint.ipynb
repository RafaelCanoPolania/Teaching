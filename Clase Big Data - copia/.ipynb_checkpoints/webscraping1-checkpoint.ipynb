{
 "cells": [
  {
   "cell_type": "code",
   "execution_count": 2,
   "id": "9f558c7e-1227-4cf2-ad29-04c1c8ac4c96",
   "metadata": {},
   "outputs": [],
   "source": [
    "import urllib\n",
    "import pandas as pd\n",
    "from bs4 import BeautifulSoup\n",
    "import numpy as np\n",
    "import matplotlib.pyplot as plt\n",
    "import string as st\n",
    "import scipy as sci\n",
    "import json\n",
    "import requests\n",
    "from random import randint\n",
    "from time import sleep\n",
    "from tqdm import tqdm\n",
    "import numpy as np"
   ]
  },
  {
   "cell_type": "code",
   "execution_count": 1,
   "id": "87376083-d50b-440d-94b9-783d70bef4d9",
   "metadata": {},
   "outputs": [],
   "source": [
    "url='https://www.imdb.com/chart/moviemeter/?sort=ir,desc&mode=simple&page=1'"
   ]
  },
  {
   "cell_type": "code",
   "execution_count": 48,
   "id": "86eb87af-0e32-4d0d-bd18-4a4bda93c37e",
   "metadata": {},
   "outputs": [],
   "source": [
    "page = requests.get(url)\n",
    "soup = BeautifulSoup(page.content, 'html.parser')"
   ]
  },
  {
   "cell_type": "code",
   "execution_count": 49,
   "id": "c56e9c31-562a-4bb5-944e-8fba0ffe11de",
   "metadata": {},
   "outputs": [
    {
     "name": "stderr",
     "output_type": "stream",
     "text": [
      "100%|██████████| 100/100 [00:03<00:00, 27.44it/s]\n"
     ]
    }
   ],
   "source": [
    "datas=[]\n",
    "for i in tqdm(range(0,len(soup.find_all('td',{'class':'titleColumn'})))):\n",
    "    data={}\n",
    "    try:\n",
    "        data['titulo']=soup.find_all('td',{'class':'titleColumn'})[i].find('a').text\n",
    "    except:pass\n",
    "    try:\n",
    "        data['link']='https://www.imdb.com/'+soup.find_all('td',{'class':'titleColumn'})[i].find('a').get('href')\n",
    "    except:pass\n",
    "    try:\n",
    "        data['puntaje']=soup.find_all('td',{'class':'ratingColumn imdbRating'})[i].find('strong').text\n",
    "    except:pass\n",
    "    datas.append(data)"
   ]
  },
  {
   "cell_type": "code",
   "execution_count": 50,
   "id": "ad1ab9dc-3bda-4601-9a8d-8b17bf9ee8fb",
   "metadata": {},
   "outputs": [
    {
     "data": {
      "text/plain": [
       "100"
      ]
     },
     "execution_count": 50,
     "metadata": {},
     "output_type": "execute_result"
    }
   ],
   "source": [
    "len(datas)"
   ]
  },
  {
   "cell_type": "code",
   "execution_count": 51,
   "id": "ad4c1f34-d552-42e5-82e9-f0628cf5b1e6",
   "metadata": {},
   "outputs": [
    {
     "data": {
      "text/plain": [
       "{'titulo': 'The Shawshank Redemption',\n",
       " 'link': 'https://www.imdb.com//title/tt0111161/',\n",
       " 'puntaje': '9.3'}"
      ]
     },
     "execution_count": 51,
     "metadata": {},
     "output_type": "execute_result"
    }
   ],
   "source": [
    "datas[0]"
   ]
  },
  {
   "cell_type": "code",
   "execution_count": 52,
   "id": "ecc023ff-a851-436c-b47e-8748a762e8d5",
   "metadata": {},
   "outputs": [],
   "source": [
    "data=pd.DataFrame(datas)"
   ]
  },
  {
   "cell_type": "code",
   "execution_count": 54,
   "id": "07ea2cf8-ecd6-4be2-890c-e2c2ddf36339",
   "metadata": {},
   "outputs": [],
   "source": [
    "links=data['link'].to_list()"
   ]
  },
  {
   "cell_type": "code",
   "execution_count": null,
   "id": "42f0a5f1-5e2b-4f43-84f8-e96b919ee94c",
   "metadata": {},
   "outputs": [],
   "source": [
    "for i in links:\n",
    "    page = requests.get(i)\n",
    "    soup = BeautifulSoup(page.content, 'html.parser')\n",
    "    \n",
    "    "
   ]
  }
 ],
 "metadata": {
  "kernelspec": {
   "display_name": "Python 3",
   "language": "python",
   "name": "python3"
  },
  "language_info": {
   "codemirror_mode": {
    "name": "ipython",
    "version": 3
   },
   "file_extension": ".py",
   "mimetype": "text/x-python",
   "name": "python",
   "nbconvert_exporter": "python",
   "pygments_lexer": "ipython3",
   "version": "3.8.8"
  }
 },
 "nbformat": 4,
 "nbformat_minor": 5
}
